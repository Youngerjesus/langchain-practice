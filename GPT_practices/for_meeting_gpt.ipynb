{
 "cells": [
  {
   "cell_type": "code",
   "execution_count": 1,
   "id": "initial_id",
   "metadata": {
    "collapsed": true,
    "ExecuteTime": {
     "end_time": "2024-05-24T01:05:27.924076Z",
     "start_time": "2024-05-24T01:05:26.159961Z"
    }
   },
   "outputs": [
    {
     "name": "stderr",
     "output_type": "stream",
     "text": [
      "ffmpeg version 7.0 Copyright (c) 2000-2024 the FFmpeg developers\n",
      "  built with Apple clang version 15.0.0 (clang-1500.3.9.4)\n",
      "  configuration: --prefix=/opt/homebrew/Cellar/ffmpeg/7.0_1 --enable-shared --enable-pthreads --enable-version3 --cc=clang --host-cflags= --host-ldflags='-Wl,-ld_classic' --enable-ffplay --enable-gnutls --enable-gpl --enable-libaom --enable-libaribb24 --enable-libbluray --enable-libdav1d --enable-libharfbuzz --enable-libjxl --enable-libmp3lame --enable-libopus --enable-librav1e --enable-librist --enable-librubberband --enable-libsnappy --enable-libsrt --enable-libssh --enable-libsvtav1 --enable-libtesseract --enable-libtheora --enable-libvidstab --enable-libvmaf --enable-libvorbis --enable-libvpx --enable-libwebp --enable-libx264 --enable-libx265 --enable-libxml2 --enable-libxvid --enable-lzma --enable-libfontconfig --enable-libfreetype --enable-frei0r --enable-libass --enable-libopencore-amrnb --enable-libopencore-amrwb --enable-libopenjpeg --enable-libspeex --enable-libsoxr --enable-libzmq --enable-libzimg --disable-libjack --disable-indev=jack --enable-videotoolbox --enable-audiotoolbox --enable-neon\n",
      "  libavutil      59.  8.100 / 59.  8.100\n",
      "  libavcodec     61.  3.100 / 61.  3.100\n",
      "  libavformat    61.  1.100 / 61.  1.100\n",
      "  libavdevice    61.  1.100 / 61.  1.100\n",
      "  libavfilter    10.  1.100 / 10.  1.100\n",
      "  libswscale      8.  1.100 /  8.  1.100\n",
      "  libswresample   5.  1.100 /  5.  1.100\n",
      "  libpostproc    58.  1.100 / 58.  1.100\n",
      "[mov,mp4,m4a,3gp,3g2,mj2 @ 0x153f05220] stream 0, timescale not set\n",
      "Input #0, mov,mp4,m4a,3gp,3g2,mj2, from './files/OT.m4v':\n",
      "  Metadata:\n",
      "    major_brand     : M4V \n",
      "    minor_version   : 1\n",
      "    compatible_brands: M4V M4A isommp42\n",
      "    creation_time   : 2024-03-29T10:45:59.000000Z\n",
      "    keywords        : 견고한 결제 시스템 구축\n",
      "    title           : OT\n",
      "    artist          : jeongmin\n",
      "  Duration: 00:04:35.22, start: 0.000000, bitrate: 2546 kb/s\n",
      "  Stream #0:0[0x1](und): Video: h264 (High) (avc1 / 0x31637661), yuv420p(tv, bt709, progressive), 3840x2160, 2421 kb/s, SAR 1:1 DAR 16:9, 59.99 fps, 60 tbr, 60k tbn (default)\n",
      "      Metadata:\n",
      "        creation_time   : 2024-03-29T10:45:59.000000Z\n",
      "        handler_name    : Core Media Video\n",
      "        vendor_id       : [0][0][0][0]\n",
      "  Stream #0:1[0x2](kor): Audio: aac (LC) (mp4a / 0x6134706D), 48000 Hz, stereo, fltp, 107 kb/s (default)\n",
      "      Metadata:\n",
      "        creation_time   : 2024-03-29T10:45:59.000000Z\n",
      "        handler_name    : Core Media Audio\n",
      "        vendor_id       : [0][0][0][0]\n",
      "  Stream #0:2[0x0]: Video: mjpeg (Progressive), yuvj420p(pc, bt470bg/unknown/unknown), 3840x2160 [SAR 72:72 DAR 16:9], 90k tbr, 90k tbn (attached pic)\n",
      "Stream mapping:\n",
      "  Stream #0:1 -> #0:0 (aac (native) -> mp3 (libmp3lame))\n",
      "Press [q] to stop, [?] for help\n",
      "Output #0, mp3, to './files/audio.mp3':\n",
      "  Metadata:\n",
      "    major_brand     : M4V \n",
      "    minor_version   : 1\n",
      "    compatible_brands: M4V M4A isommp42\n",
      "    TPE1            : jeongmin\n",
      "    keywords        : 견고한 결제 시스템 구축\n",
      "    TIT2            : OT\n",
      "    TSSE            : Lavf61.1.100\n",
      "  Stream #0:0(kor): Audio: mp3, 48000 Hz, stereo, fltp (default)\n",
      "      Metadata:\n",
      "        creation_time   : 2024-03-29T10:45:59.000000Z\n",
      "        handler_name    : Core Media Audio\n",
      "        vendor_id       : [0][0][0][0]\n",
      "        encoder         : Lavc61.3.100 libmp3lame\n",
      "[out#0/mp3 @ 0x60000209c3c0] video:0KiB audio:4300KiB subtitle:0KiB other streams:0KiB global headers:0KiB muxing overhead: 0.010674%\n",
      "size=    4301KiB time=00:04:35.17 bitrate= 128.0kbits/s speed= 170x    \n"
     ]
    }
   ],
   "source": [
    "import subprocess\n",
    "\n",
    "# Python Subprocess: 파이썬에서 외부 명령어나 프로그램을 실행하고, 이와 상호작용할 수 있도록 해주는 모듈입니다.\n",
    "# 특징: 이 모듈을 사용하면 새로운 프로세스를 생성하고, 그 프로세스와 데이터를 주고받거나, 프로세스의 실행 결과를 제어할 수 있습니다.\n",
    "# 기본 사용법\n",
    "# 1. subprocess.run: 외부 명령어를 실행하고, 명령어가 종료될 때까지 기다린 후 결과를 반환합니다.\n",
    "# 2. subprocess.Popen: 외부 명령어를 비동기적으로 실행하고, 프로세스와 상호작용할 수 있는 더 많은 제어를 제공합니다.\n",
    "# 매커니즘: subprocess 모듈이 외부 명령어를 실행할 수 있는 것은 운영 체제의 프로세스 생성 및 관리 기능을 활용하기 때문임. 이는 컴퓨터 운영 체제의 기본 기능 중 하나로, 한 프로세스가 다른 프로세스를 생성하고 제어할 수 있게 해줍니다.\n",
    "#\n",
    "# 더 자세한 매커니즘:\n",
    "# 1. 프로세스 생성 (Process Creation):\n",
    "# - 운영 체제는 새로운 프로세스를 생성하기 위한 시스템 호출을 제공합니다. 예를 들어, 유닉스 계열 시스템에서는 fork() 및 exec() 시스템 호출을 사용합니다. 윈도우에서는 CreateProcess 함수를 사용합니다. \n",
    "# - subprocess 모듈은 이러한 시스템 호출을 사용하여 새로운 프로세스를 생성합니다.\n",
    "#\n",
    "# 2. 명령어 실행 (Command Execution):\n",
    "# - 새로운 프로세스가 생성되면, 그 프로세스는 특정 명령어를 실행하도록 설정됩니다. 유닉스 계열에서는 exec() 시스템 호출이, 윈도우에서는 CreateProcess 함수가 이 작업을 수행합니다.\n",
    "# - 이 명령어는 외부 프로그램이 될 수 있으며, 그 프로그램은 새롭게 생성된 프로세스 내에서 실행됩니다.\n",
    "# \n",
    "# 3. 입출력 스트림 (I/O Streams):\n",
    "# - 프로세스 간의 데이터 통신은 표준 입출력 스트림(표준 입력, 표준 출력, 표준 오류)을 통해 이루어질 수 있습니다.\n",
    "# - subprocess 모듈은 파이프를 생성하여 부모 프로세스와 자식 프로세스 간에 데이터를 주고받을 수 있도록 합니다.\n",
    "# \n",
    "# 4. 프로세스 제어 (Process Control):\n",
    "# - 부모 프로세스는 자식 프로세스의 상태를 확인하고 제어할 수 있습니다. 예를 들어, 자식 프로세스가 종료될 때까지 기다리거나, 강제로 종료시키는 등의 작업을 수행할 수 있습니다.\n",
    "# - subprocess 모듈은 이러한 제어 기능을 제공하여 부모 프로세스가 자식 프로세스의 상태를 모니터링하고 제어할 수 있게 합니다.\n",
    "\n",
    "\n",
    "def extract_audio_from_video(video_path, audio_path): \n",
    "    command = [\"ffmpeg\", \"-i\", video_path, \"-vn\", audio_path]    \n",
    "    subprocess.run(command)\n",
    "    \n",
    "# extract_audio_from_video(\"./files/OT.m4v\", \"./files/audio.mp3\")"
   ]
  },
  {
   "cell_type": "code",
   "execution_count": 18,
   "outputs": [],
   "source": [
    "from pydub import AudioSegment \n",
    "import math\n",
    "\n",
    "def cut_audio_in_chunks(audio_path, chunk_size, chunk_folder): \n",
    "    track = AudioSegment.from_mp3(audio_path)\n",
    "    chunk_len = chunk_size  * 60  * 1000\n",
    "    chunks = math.ceil(len(track) / chunk_len)\n",
    "\n",
    "    for i in range(chunks): \n",
    "        start_time = i * chunk_len\n",
    "        end_time = (i + 1) * chunk_len\n",
    "        chunk = track[start_time:end_time]\n",
    "        chunk.export(f\"./{chunk_folder}/chunk_{i}.mp3\", format=\"mp3\")\n",
    "\n",
    "cut_audio_in_chunks(\"./files/audio.mp3\", 10, \"./files/chunks\")"
   ],
   "metadata": {
    "collapsed": false,
    "ExecuteTime": {
     "end_time": "2024-05-28T00:43:16.023577Z",
     "start_time": "2024-05-28T00:43:13.871992Z"
    }
   },
   "id": "29d14363f6e9c7c6"
  },
  {
   "cell_type": "code",
   "execution_count": 28,
   "outputs": [],
   "source": [
    "import openai\n",
    "import glob \n",
    "\n",
    "\n",
    "def transcribe_chunks(chunk_folder, destination):\n",
    "    files = glob.glob(f\"{chunk_folder}/*.mp3\")\n",
    "    \n",
    "    final_transcript = \"\"\n",
    "    \n",
    "    for file in files: \n",
    "        with open(file, \"rb\") as audio_file:\n",
    "            transcript = openai.audio.transcriptions.create(\n",
    "                model=\"whisper-1\",\n",
    "                file= audio_file\n",
    "            )\n",
    "        \n",
    "            final_transcript += transcript.text\n",
    "\n",
    "    with open(destination, \"w\") as file: \n",
    "        file.write(final_transcript)        \n",
    "\n",
    "transcribe_chunks(\"./files/chunks\", \"./files/transcript.txt\")"
   ],
   "metadata": {
    "collapsed": false,
    "ExecuteTime": {
     "end_time": "2024-05-28T00:58:38.774166Z",
     "start_time": "2024-05-28T00:58:19.389185Z"
    }
   },
   "id": "22c29c2e723a24c2"
  },
  {
   "cell_type": "code",
   "execution_count": null,
   "outputs": [],
   "source": [],
   "metadata": {
    "collapsed": false
   },
   "id": "a099b589288f33dd"
  }
 ],
 "metadata": {
  "kernelspec": {
   "display_name": "Python 3",
   "language": "python",
   "name": "python3"
  },
  "language_info": {
   "codemirror_mode": {
    "name": "ipython",
    "version": 2
   },
   "file_extension": ".py",
   "mimetype": "text/x-python",
   "name": "python",
   "nbconvert_exporter": "python",
   "pygments_lexer": "ipython2",
   "version": "2.7.6"
  }
 },
 "nbformat": 4,
 "nbformat_minor": 5
}
