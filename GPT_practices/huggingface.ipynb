{
 "cells": [
  {
   "cell_type": "code",
   "execution_count": 2,
   "id": "initial_id",
   "metadata": {
    "collapsed": true,
    "ExecuteTime": {
     "end_time": "2024-05-07T16:56:22.574203Z",
     "start_time": "2024-05-07T16:56:22.092693Z"
    }
   },
   "outputs": [
    {
     "name": "stdout",
     "output_type": "stream",
     "text": [
      "Token has not been saved to git credential helper. Pass `add_to_git_credential=True` if you want to set the git credential as well.\n",
      "Token is valid (permission: read).\n",
      "Your token has been saved to /Users/jeongmin/.cache/huggingface/token\n",
      "Login successful\n"
     ]
    }
   ],
   "source": [
    "from langchain.llms import HuggingFaceEndpoint\n",
    "from langchain.prompts import PromptTemplate\n",
    "from dotenv import load_dotenv\n",
    "import os\n",
    "from huggingface_hub import login\n",
    "load_dotenv()\n",
    "\n",
    "HF_TOKEN = os.getenv(\"HUGGINGFACEHUB_API_TOKEN\")\n",
    "\n",
    "login(HF_TOKEN)\n"
   ]
  },
  {
   "cell_type": "code",
   "execution_count": 3,
   "outputs": [
    {
     "name": "stderr",
     "output_type": "stream",
     "text": [
      "WARNING! add_to_git_credential is not default parameter.\n",
      "                    add_to_git_credential was transferred to model_kwargs.\n",
      "                    Please make sure that add_to_git_credential is what you intended.\n"
     ]
    },
    {
     "name": "stdout",
     "output_type": "stream",
     "text": [
      "Token has not been saved to git credential helper. Pass `add_to_git_credential=True` if you want to set the git credential as well.\n",
      "Token is valid (permission: read).\n",
      "Your token has been saved to /Users/jeongmin/.cache/huggingface/token\n",
      "Login successful\n",
      "{'word': 'potato', 'text': ' Airespace Open Trade Access Point, a type of wireless networking equipment.\\n\\nA device used in cooking and food preparation, a starchy root vegetable that is a common food item and can be prepared in many ways.\\n\\nA slang term for something that is boring, uninteresting or dull.\\n\\nIn gambling, a bet that is considered a safe or sure thing.\\n\\nA term used to describe a person who is not very bright or quick-witted.\\n\\nIn computing, a type of data storage device that uses a series of small, rotating disks to read and write data.\\n\\nIn firearms, a type of bullet designed to expand on impact.\\n\\nA code name for a nuclear weapon.\\n\\nA term used to describe a simple, unassuming person.\\n\\nA term used to describe a situation or problem that is difficult to solve or overcome.\\n\\nA term used to describe a person who is easily led or influenced.\\n\\nA term used to describe a person who is not very confident or self-assured.\\n\\nA term used to describe a person who is not very attractive or appealing.\\n\\nA term used to describe a person who is not very ambitious or driven'}\n"
     ]
    }
   ],
   "source": [
    "from langchain.chains import LLMChain \n",
    "\n",
    "prompt = PromptTemplate.from_template(\"[INST] What is the meaning of {word} [/INST] \")\n",
    "\n",
    "llama_model_name=\"meta-llama/Meta-Llama-3-8B\"\n",
    "model_name = \"mistralai/Mixtral-8x7B-Instruct-v0.1\"\n",
    "\n",
    "llm = HuggingFaceEndpoint(\n",
    "    repo_id=model_name, \n",
    "    add_to_git_credential=True, \n",
    "    max_new_tokens=256, \n",
    ")\n",
    "\n",
    "llm_chain = LLMChain(prompt=prompt, llm=llm)\n",
    "\n",
    "response = llm_chain.invoke({\"word\": \"potato\"})\n",
    "\n",
    "print(response)"
   ],
   "metadata": {
    "collapsed": false,
    "ExecuteTime": {
     "end_time": "2024-05-07T16:56:39.788609Z",
     "start_time": "2024-05-07T16:56:24.560247Z"
    }
   },
   "id": "4ea00553e2662d8b"
  },
  {
   "cell_type": "code",
   "execution_count": null,
   "outputs": [],
   "source": [
    "import transformers\n",
    "import torch\n",
    "\n",
    "model_id = \"meta-llama/Meta-Llama-3-8B\"\n",
    "\n",
    "pipeline = transformers.pipeline(\n",
    "    \"text-generation\", model=model_id, model_kwargs={\"torch_dtype\": torch.bfloat16}, device_map=\"auto\"\n",
    ")\n",
    "\n",
    "pipeline(\"Hey how are you doing today?\")"
   ],
   "metadata": {
    "collapsed": false,
    "ExecuteTime": {
     "start_time": "2024-05-07T16:56:04.407052Z"
    }
   },
   "id": "3201a68af3ded289"
  },
  {
   "cell_type": "code",
   "execution_count": 8,
   "outputs": [
    {
     "data": {
      "text/plain": "' A potato is a small amount of food in the stomach that allows the body to absorb energy from nutrients. When your stomach receives all the energy it needs, it will work harder to digest some foods. On the other hand, if every one of you has a food that'"
     },
     "execution_count": 8,
     "metadata": {},
     "output_type": "execute_result"
    }
   ],
   "source": [
    "from langchain.llms.huggingface_pipeline import HuggingFacePipeline\n",
    "\n",
    "prompt = PromptTemplate.from_template(\" A {word} is a\")\n",
    "\n",
    "llm = HuggingFacePipeline.from_model_id(\n",
    "    model_id=\"openai-community/gpt2\", \n",
    "    task=\"text-generation\", \n",
    "    device=-1,\n",
    "    pipeline_kwargs= {\n",
    "        \"max_new_tokens\": 50\n",
    "    }\n",
    ")\n",
    "\n",
    "chain = prompt | llm \n",
    "\n",
    "chain.invoke({\"word\": \"potato\"})"
   ],
   "metadata": {
    "collapsed": false,
    "ExecuteTime": {
     "end_time": "2024-05-07T16:59:38.899568Z",
     "start_time": "2024-05-07T16:59:37.143813Z"
    }
   },
   "id": "397995eb579a588c"
  }
 ],
 "metadata": {
  "kernelspec": {
   "display_name": "Python 3",
   "language": "python",
   "name": "python3"
  },
  "language_info": {
   "codemirror_mode": {
    "name": "ipython",
    "version": 2
   },
   "file_extension": ".py",
   "mimetype": "text/x-python",
   "name": "python",
   "nbconvert_exporter": "python",
   "pygments_lexer": "ipython2",
   "version": "2.7.6"
  }
 },
 "nbformat": 4,
 "nbformat_minor": 5
}
