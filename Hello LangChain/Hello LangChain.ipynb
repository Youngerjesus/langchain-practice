{
 "cells": [
  {
   "cell_type": "code",
   "execution_count": 1,
   "id": "initial_id",
   "metadata": {
    "collapsed": true,
    "ExecuteTime": {
     "end_time": "2024-05-31T10:54:42.210023Z",
     "start_time": "2024-05-31T10:54:38.264724Z"
    }
   },
   "outputs": [
    {
     "name": "stderr",
     "output_type": "stream",
     "text": [
      "/Users/jeongmin/PycharmProjects/langchain-practice/venv/lib/python3.9/site-packages/urllib3/__init__.py:35: NotOpenSSLWarning: urllib3 v2 only supports OpenSSL 1.1.1+, currently the 'ssl' module is compiled with 'LibreSSL 2.8.3'. See: https://github.com/urllib3/urllib3/issues/3020\n",
      "  warnings.warn(\n",
      "/Users/jeongmin/PycharmProjects/langchain-practice/venv/lib/python3.9/site-packages/langchain_core/_api/deprecation.py:119: LangChainDeprecationWarning: The class `ChatOpenAI` was deprecated in LangChain 0.0.10 and will be removed in 0.2.0. An updated version of the class exists in the langchain-openai package and should be used instead. To use it run `pip install -U langchain-openai` and import as `from langchain_openai import ChatOpenAI`.\n",
      "  warn_deprecated(\n"
     ]
    },
    {
     "data": {
      "text/plain": "AIMessage(content=\"1. Han Il Kwan - Located in San Francisco, Han Il Kwan is known for its authentic Korean BBQ and traditional dishes.\\n2. Gen Korean BBQ House - With multiple locations in the Bay Area, Gen Korean BBQ House offers a modern and interactive dining experience with a wide variety of meats and side dishes.\\n3. Ohgane Korean BBQ - Located in Oakland, Ohgane Korean BBQ is a popular spot for high-quality meats and traditional Korean dishes.\\n4. Sahn Maru Korean BBQ - Located in San Francisco, Sahn Maru Korean BBQ is known for its delicious BBQ options and cozy atmosphere.\\n5. Bowl'd BBQ - With locations in Oakland and Berkeley, Bowl'd BBQ offers a unique twist on traditional Korean dishes with a focus on healthy and organic ingredients.\", response_metadata={'token_usage': {'completion_tokens': 157, 'prompt_tokens': 20, 'total_tokens': 177}, 'model_name': 'gpt-3.5-turbo', 'system_fingerprint': None, 'finish_reason': 'stop', 'logprobs': None}, id='run-60790741-53e4-43ff-85c0-6180b42df3d8-0')"
     },
     "execution_count": 1,
     "metadata": {},
     "output_type": "execute_result"
    }
   ],
   "source": [
    "from langchain.llms import OpenAI\n",
    "from dotenv import load_dotenv\n",
    "from langchain.chat_models import ChatOpenAI\n",
    "\n",
    "load_dotenv()\n",
    "\n",
    "llm = ChatOpenAI(temperature=0.1) \n",
    "\n",
    "question = \"What is top 5 Korean reastaurant in BayArea?\"\n",
    "\n",
    "answer= llm.invoke(question)\n",
    "\n",
    "answer"
   ]
  },
  {
   "cell_type": "code",
   "execution_count": 2,
   "outputs": [
    {
     "data": {
      "text/plain": "[AIMessage(content=\"1. Tteokbokki - Spicy stir-fried rice cakes\\n2. Hotteok - Sweet Korean pancakes filled with brown sugar, honey, and nuts\\n3. Kimbap - Korean seaweed rice rolls filled with vegetables, meat, and pickles\\n4. Odeng - Fish cake skewers served in a hot broth\\n5. Sundae - Korean blood sausage made with pig's intestines and various ingredients such as noodles, barley, and vegetables\", response_metadata={'token_usage': {'completion_tokens': 97, 'prompt_tokens': 16, 'total_tokens': 113}, 'model_name': 'gpt-3.5-turbo', 'system_fingerprint': None, 'finish_reason': 'stop', 'logprobs': None}, id='run-79075993-e847-4a21-9226-6e432bccaf5b-0'),\n AIMessage(content=\"The most famous place in Seoul is probably Gyeongbokgung Palace. This historic palace is a symbol of Korea's rich history and culture, and is a popular tourist destination for visitors to Seoul.\", response_metadata={'token_usage': {'completion_tokens': 42, 'prompt_tokens': 15, 'total_tokens': 57}, 'model_name': 'gpt-3.5-turbo', 'system_fingerprint': None, 'finish_reason': 'stop', 'logprobs': None}, id='run-5c0221c9-e3a4-4d32-a291-b74873861e28-0'),\n AIMessage(content='BTS (Bangtan Sonyeondan) is currently one of the most popular K-Pop groups in the world.', response_metadata={'token_usage': {'completion_tokens': 25, 'prompt_tokens': 16, 'total_tokens': 41}, 'model_name': 'gpt-3.5-turbo', 'system_fingerprint': None, 'finish_reason': 'stop', 'logprobs': None}, id='run-2dd3da8c-56d7-4beb-8744-1e88ee0bc2fd-0')]"
     },
     "execution_count": 2,
     "metadata": {},
     "output_type": "execute_result"
    }
   ],
   "source": [
    "prompts = [\n",
    "    \"What is top 5 Korean Street food?\",\n",
    "    \"What is most famous place in Seoul?\",\n",
    "    \"What is the popular K-Pop group?\"\n",
    "]\n",
    "\n",
    "llm.batch(prompts)"
   ],
   "metadata": {
    "collapsed": false,
    "ExecuteTime": {
     "end_time": "2024-06-03T09:05:53.252586Z",
     "start_time": "2024-06-03T09:05:51.197452Z"
    }
   },
   "id": "2dbe8826c9772300"
  },
  {
   "cell_type": "code",
   "execution_count": 3,
   "outputs": [
    {
     "name": "stdout",
     "output_type": "stream",
     "text": [
      "content='' id='run-6ed6f0b8-0229-485f-82ea-fbef31d38982'content='Some' id='run-6ed6f0b8-0229-485f-82ea-fbef31d38982'content=' famous' id='run-6ed6f0b8-0229-485f-82ea-fbef31d38982'content=' street' id='run-6ed6f0b8-0229-485f-82ea-fbef31d38982'content=' foods' id='run-6ed6f0b8-0229-485f-82ea-fbef31d38982'content=' in' id='run-6ed6f0b8-0229-485f-82ea-fbef31d38982'content=' Seoul' id='run-6ed6f0b8-0229-485f-82ea-fbef31d38982'content=',' id='run-6ed6f0b8-0229-485f-82ea-fbef31d38982'content=' Korea' id='run-6ed6f0b8-0229-485f-82ea-fbef31d38982'content=' include' id='run-6ed6f0b8-0229-485f-82ea-fbef31d38982'content=' t' id='run-6ed6f0b8-0229-485f-82ea-fbef31d38982'content='te' id='run-6ed6f0b8-0229-485f-82ea-fbef31d38982'content='ok' id='run-6ed6f0b8-0229-485f-82ea-fbef31d38982'content='b' id='run-6ed6f0b8-0229-485f-82ea-fbef31d38982'content='ok' id='run-6ed6f0b8-0229-485f-82ea-fbef31d38982'content='ki' id='run-6ed6f0b8-0229-485f-82ea-fbef31d38982'content=' (' id='run-6ed6f0b8-0229-485f-82ea-fbef31d38982'content='sp' id='run-6ed6f0b8-0229-485f-82ea-fbef31d38982'content='icy' id='run-6ed6f0b8-0229-485f-82ea-fbef31d38982'content=' rice' id='run-6ed6f0b8-0229-485f-82ea-fbef31d38982'content=' cakes' id='run-6ed6f0b8-0229-485f-82ea-fbef31d38982'content='),' id='run-6ed6f0b8-0229-485f-82ea-fbef31d38982'content=' hot' id='run-6ed6f0b8-0229-485f-82ea-fbef31d38982'content='te' id='run-6ed6f0b8-0229-485f-82ea-fbef31d38982'content='ok' id='run-6ed6f0b8-0229-485f-82ea-fbef31d38982'content=' (' id='run-6ed6f0b8-0229-485f-82ea-fbef31d38982'content='sweet' id='run-6ed6f0b8-0229-485f-82ea-fbef31d38982'content=' pancakes' id='run-6ed6f0b8-0229-485f-82ea-fbef31d38982'content='),' id='run-6ed6f0b8-0229-485f-82ea-fbef31d38982'content=' od' id='run-6ed6f0b8-0229-485f-82ea-fbef31d38982'content='eng' id='run-6ed6f0b8-0229-485f-82ea-fbef31d38982'content=' (' id='run-6ed6f0b8-0229-485f-82ea-fbef31d38982'content='fish' id='run-6ed6f0b8-0229-485f-82ea-fbef31d38982'content=' cake' id='run-6ed6f0b8-0229-485f-82ea-fbef31d38982'content=' skew' id='run-6ed6f0b8-0229-485f-82ea-fbef31d38982'content='ers' id='run-6ed6f0b8-0229-485f-82ea-fbef31d38982'content='),' id='run-6ed6f0b8-0229-485f-82ea-fbef31d38982'content=' and' id='run-6ed6f0b8-0229-485f-82ea-fbef31d38982'content=' k' id='run-6ed6f0b8-0229-485f-82ea-fbef31d38982'content='imb' id='run-6ed6f0b8-0229-485f-82ea-fbef31d38982'content='ap' id='run-6ed6f0b8-0229-485f-82ea-fbef31d38982'content=' (' id='run-6ed6f0b8-0229-485f-82ea-fbef31d38982'content='se' id='run-6ed6f0b8-0229-485f-82ea-fbef31d38982'content='aw' id='run-6ed6f0b8-0229-485f-82ea-fbef31d38982'content='eed' id='run-6ed6f0b8-0229-485f-82ea-fbef31d38982'content=' rice' id='run-6ed6f0b8-0229-485f-82ea-fbef31d38982'content=' rolls' id='run-6ed6f0b8-0229-485f-82ea-fbef31d38982'content=').' id='run-6ed6f0b8-0229-485f-82ea-fbef31d38982'content=' These' id='run-6ed6f0b8-0229-485f-82ea-fbef31d38982'content=' delicious' id='run-6ed6f0b8-0229-485f-82ea-fbef31d38982'content=' and' id='run-6ed6f0b8-0229-485f-82ea-fbef31d38982'content=' affordable' id='run-6ed6f0b8-0229-485f-82ea-fbef31d38982'content=' snacks' id='run-6ed6f0b8-0229-485f-82ea-fbef31d38982'content=' can' id='run-6ed6f0b8-0229-485f-82ea-fbef31d38982'content=' be' id='run-6ed6f0b8-0229-485f-82ea-fbef31d38982'content=' found' id='run-6ed6f0b8-0229-485f-82ea-fbef31d38982'content=' at' id='run-6ed6f0b8-0229-485f-82ea-fbef31d38982'content=' various' id='run-6ed6f0b8-0229-485f-82ea-fbef31d38982'content=' street' id='run-6ed6f0b8-0229-485f-82ea-fbef31d38982'content=' food' id='run-6ed6f0b8-0229-485f-82ea-fbef31d38982'content=' stalls' id='run-6ed6f0b8-0229-485f-82ea-fbef31d38982'content=' throughout' id='run-6ed6f0b8-0229-485f-82ea-fbef31d38982'content=' the' id='run-6ed6f0b8-0229-485f-82ea-fbef31d38982'content=' city' id='run-6ed6f0b8-0229-485f-82ea-fbef31d38982'content='.' id='run-6ed6f0b8-0229-485f-82ea-fbef31d38982'content='' response_metadata={'finish_reason': 'stop'} id='run-6ed6f0b8-0229-485f-82ea-fbef31d38982'"
     ]
    }
   ],
   "source": [
    "prompt = \"What is famous street foods in Seoul Korea in 200 characters\"\n",
    "for chunk in llm.stream(prompt):\n",
    "    print(chunk, end=\"\", flush=True)"
   ],
   "metadata": {
    "collapsed": false,
    "ExecuteTime": {
     "end_time": "2024-06-03T09:12:14.582301Z",
     "start_time": "2024-06-03T09:12:12.959644Z"
    }
   },
   "id": "3dfd0af57fa73c30"
  },
  {
   "cell_type": "code",
   "execution_count": 5,
   "outputs": [
    {
     "name": "stderr",
     "output_type": "stream",
     "text": [
      "/var/folders/r4/w6gk0qbd6bd_sf7xj6nwdnxc0000gn/T/ipykernel_13706/2276036469.py:19: RuntimeWarning: coroutine 'invoke_parallel' was never awaited\n",
      "  invoke_parallel().__await__()\n",
      "RuntimeWarning: Enable tracemalloc to get the object allocation traceback\n"
     ]
    },
    {
     "name": "stdout",
     "output_type": "stream",
     "text": [
      "Async execution time: 6.520800525322556e-05\n",
      "content='Kimchi: Fermented cabbage with spices.' response_metadata={'token_usage': {'completion_tokens': 9, 'prompt_tokens': 18, 'total_tokens': 27}, 'model_name': 'gpt-3.5-turbo', 'system_fingerprint': None, 'finish_reason': 'stop', 'logprobs': None} id='run-e6e1c500-ea85-49a6-829b-10b95038fde9-0'\n",
      "content='Kimchi, bibimbap, bulgogi, and tteokbokki. Traditional Korean dishes.' response_metadata={'token_usage': {'completion_tokens': 23, 'prompt_tokens': 18, 'total_tokens': 41}, 'model_name': 'gpt-3.5-turbo', 'system_fingerprint': None, 'finish_reason': 'stop', 'logprobs': None} id='run-5c85ff60-ab38-4e34-ae72-1cb6d9078e72-0'\n",
      "content='Kimchi: Spicy fermented cabbage dish.' response_metadata={'token_usage': {'completion_tokens': 9, 'prompt_tokens': 18, 'total_tokens': 27}, 'model_name': 'gpt-3.5-turbo', 'system_fingerprint': None, 'finish_reason': 'stop', 'logprobs': None} id='run-6891a920-454d-4061-88cb-48d4e7d3c4b9-0'\n",
      "content='Kimchi: Spicy fermented cabbage dish.' response_metadata={'token_usage': {'completion_tokens': 9, 'prompt_tokens': 18, 'total_tokens': 27}, 'model_name': 'gpt-3.5-turbo', 'system_fingerprint': None, 'finish_reason': 'stop', 'logprobs': None} id='run-23f2d314-8d09-44eb-87eb-9a5acae142b6-0'\n",
      "content='Kimchi: Fermented cabbage with spicy flavors.' response_metadata={'token_usage': {'completion_tokens': 10, 'prompt_tokens': 18, 'total_tokens': 28}, 'model_name': 'gpt-3.5-turbo', 'system_fingerprint': None, 'finish_reason': 'stop', 'logprobs': None} id='run-deb59852-7861-44fa-8028-d63589e80126-0'\n",
      "content='Kimchi: Spicy fermented cabbage dish.' response_metadata={'token_usage': {'completion_tokens': 9, 'prompt_tokens': 18, 'total_tokens': 27}, 'model_name': 'gpt-3.5-turbo', 'system_fingerprint': None, 'finish_reason': 'stop', 'logprobs': None} id='run-c6b87115-ffb5-432b-90cb-1ecc747d6300-0'\n",
      "content='Kimchi: Fermented cabbage, Korean staple dish.' response_metadata={'token_usage': {'completion_tokens': 11, 'prompt_tokens': 18, 'total_tokens': 29}, 'model_name': 'gpt-3.5-turbo', 'system_fingerprint': None, 'finish_reason': 'stop', 'logprobs': None} id='run-bfedbf9b-5f6d-4b74-b57d-48a326fe8bd0-0'\n",
      "content='Kimchi: Fermented cabbage, Korean staple dish.' response_metadata={'token_usage': {'completion_tokens': 11, 'prompt_tokens': 18, 'total_tokens': 29}, 'model_name': 'gpt-3.5-turbo', 'system_fingerprint': None, 'finish_reason': 'stop', 'logprobs': None} id='run-34224626-eafb-4b89-92ee-fc036673e91c-0'\n",
      "content='Kimchi: Fermented cabbage, Korean staple dish.' response_metadata={'token_usage': {'completion_tokens': 11, 'prompt_tokens': 18, 'total_tokens': 29}, 'model_name': 'gpt-3.5-turbo', 'system_fingerprint': None, 'finish_reason': 'stop', 'logprobs': None} id='run-7aa22f2e-12d5-46e6-a502-cd5f07bdb402-0'\n",
      "content='Kimchi: Fermented cabbage with spices.' response_metadata={'token_usage': {'completion_tokens': 9, 'prompt_tokens': 18, 'total_tokens': 27}, 'model_name': 'gpt-3.5-turbo', 'system_fingerprint': None, 'finish_reason': 'stop', 'logprobs': None} id='run-09d909ee-23c2-4a8c-8919-fc52bfe4c88d-0'\n",
      "Sync execution time: 8.321200374994078\n"
     ]
    }
   ],
   "source": [
    "import time\n",
    "import asyncio\n",
    "\n",
    "from langchain.llms import OpenAI\n",
    "\n",
    "prompt = \"What is famous Korean food? Explain in 50 characters\"\n",
    "\n",
    "# Async call\n",
    "async def invoke_async(llm):\n",
    "    result = await llm.ainvoke(prompt)\n",
    "    print(result)\n",
    "\n",
    "async def invoke_parallel():\n",
    "    tasks = [invoke_async(llm) for _ in range(10)]\n",
    "    await asyncio.gather(*tasks)\n",
    "\n",
    "start_time = time.perf_counter()\n",
    "\n",
    "invoke_parallel()\n",
    "\n",
    "end_time = time.perf_counter()\n",
    "\n",
    "print(\"Async execution time:\" , (end_time-start_time))\n",
    "\n",
    "\n",
    "# Sync call\n",
    "start_time = time.perf_counter()\n",
    "for i in range(10):\n",
    "    result = llm.invoke(prompt)\n",
    "    print(result)\n",
    "\n",
    "end_time = time.perf_counter()\n",
    "print(\"Sync execution time:\" ,(end_time-start_time))"
   ],
   "metadata": {
    "collapsed": false,
    "ExecuteTime": {
     "end_time": "2024-06-03T09:16:13.323223Z",
     "start_time": "2024-06-03T09:16:04.999475Z"
    }
   },
   "id": "6b4e9ff33bdf2d99"
  },
  {
   "cell_type": "code",
   "execution_count": 6,
   "outputs": [
    {
     "name": "stdout",
     "output_type": "stream",
     "text": [
      "Tokens Used: 82\n",
      "\tPrompt Tokens: 19\n",
      "\tCompletion Tokens: 63\n",
      "Successful Requests: 1\n",
      "Total Cost (USD): $0.00015450000000000001\n",
      "Total Tokens: 82\n"
     ]
    }
   ],
   "source": [
    "from langchain.llms import OpenAI\n",
    "from langchain.callbacks import get_openai_callback\n",
    "\n",
    "with get_openai_callback() as callback:\n",
    "    prompt = \"What is famous street foods in Seoul Korea in 200 characters\"\n",
    "    llm.invoke(prompt)\n",
    "    print(callback)\n",
    "    print(\"Total Tokens:\",callback.total_tokens)"
   ],
   "metadata": {
    "collapsed": false,
    "ExecuteTime": {
     "end_time": "2024-06-03T09:23:57.607326Z",
     "start_time": "2024-06-03T09:23:56.136828Z"
    }
   },
   "id": "c80dc866a5c85656"
  },
  {
   "cell_type": "code",
   "execution_count": 7,
   "outputs": [
    {
     "name": "stdout",
     "output_type": "stream",
     "text": [
      "content='Some famous street foods in Seoul, Korea include tteokbokki (spicy rice cakes), hotteok (sweet pancakes), odeng (fish cake skewers), and kimbap (seaweed rice rolls). These delicious snacks can be found at various street food stalls throughout the city.' response_metadata={'token_usage': {'completion_tokens': 62, 'prompt_tokens': 19, 'total_tokens': 81}, 'model_name': 'gpt-3.5-turbo', 'system_fingerprint': None, 'finish_reason': 'stop', 'logprobs': None} id='run-d33e4a41-a196-42f7-b47a-a4a1a927fb54-0'\n",
      "Total Tokens: 81\n",
      "content='Some famous street foods in Seoul, Korea include tteokbokki (spicy rice cakes), hotteok (sweet pancakes), odeng (fish cake skewers), and kimbap (seaweed rice rolls). These delicious snacks can be found at various street food stalls throughout the city.' response_metadata={'token_usage': {'completion_tokens': 62, 'prompt_tokens': 19, 'total_tokens': 81}, 'model_name': 'gpt-3.5-turbo', 'system_fingerprint': None, 'finish_reason': 'stop', 'logprobs': None} id='run-d33e4a41-a196-42f7-b47a-a4a1a927fb54-0'\n",
      "Total Tokens: 0\n"
     ]
    }
   ],
   "source": [
    "from langchain.llms import OpenAI\n",
    "from langchain.callbacks import get_openai_callback\n",
    "from langchain.globals import set_llm_cache\n",
    "from langchain.cache import InMemoryCache\n",
    "\n",
    "set_llm_cache(InMemoryCache())\n",
    "\n",
    "prompt = \"What is famous street foods in Seoul Korea in 200 characters\"\n",
    "\n",
    "with get_openai_callback() as callback:\n",
    "    response = llm.invoke(prompt)\n",
    "    print(response)\n",
    "    print(\"Total Tokens:\",callback.total_tokens)\n",
    "\n",
    "with get_openai_callback() as callback:\n",
    "    llm.invoke(prompt)\n",
    "    response = llm.invoke(prompt)\n",
    "    print(response)\n",
    "    print(\"Total Tokens:\",callback.total_tokens)"
   ],
   "metadata": {
    "collapsed": false,
    "ExecuteTime": {
     "end_time": "2024-06-03T09:27:36.382657Z",
     "start_time": "2024-06-03T09:27:34.731128Z"
    }
   },
   "id": "f64060bdb37fa006"
  },
  {
   "cell_type": "code",
   "execution_count": 9,
   "outputs": [
    {
     "name": "stdout",
     "output_type": "stream",
     "text": [
      "content='Tteokbokki, Kimbap, Hotteok, Odeng, Sundae, Twigim, and Japchae.' response_metadata={'token_usage': {'completion_tokens': 30, 'prompt_tokens': 22, 'total_tokens': 52}, 'model_name': 'gpt-3.5-turbo', 'system_fingerprint': None, 'finish_reason': 'stop', 'logprobs': None} id='run-76f69090-5d44-46a8-be2d-2fdefe25356f-0'\n",
      "Total Tokens: 52\n",
      "content='Tteokbokki, Kimbap, Hotteok, Odeng, Sundae, Twigim, Gyeranppang, Japchae, Gamjatang, Kkultteok, Gimbap, Mandu' response_metadata={'token_usage': {'completion_tokens': 52, 'prompt_tokens': 22, 'total_tokens': 74}, 'model_name': 'gpt-3.5-turbo', 'system_fingerprint': None, 'finish_reason': 'stop', 'logprobs': None} id='run-908c1f92-aeae-4360-b0ad-402a1350c001-0'\n",
      "Total Tokens: 74\n"
     ]
    }
   ],
   "source": [
    "# Memory cache example\n",
    "from langchain.llms import OpenAI\n",
    "from langchain.callbacks import get_openai_callback\n",
    "from langchain.globals import set_llm_cache\n",
    "from langchain.cache import InMemoryCache\n",
    "from langchain.globals import set_debug\n",
    "\n",
    "set_debug(False)\n",
    "\n",
    "llm2 = ChatOpenAI(cache=False)\n",
    "\n",
    "prompt = \"Please tell me about the famous street foods in Seoul Korea in 50 characters\"\n",
    "\n",
    "with get_openai_callback() as callback:\n",
    "    response = llm2.invoke(prompt)\n",
    "    print(response)\n",
    "    print(\"Total Tokens:\",callback.total_tokens)\n",
    "\n",
    "\n",
    "with get_openai_callback() as callback:\n",
    "    response = llm2.invoke(prompt)\n",
    "    print(response)\n",
    "    print(\"Total Tokens:\",callback.total_tokens)\n"
   ],
   "metadata": {
    "collapsed": false,
    "ExecuteTime": {
     "end_time": "2024-06-03T09:31:25.045070Z",
     "start_time": "2024-06-03T09:31:22.393791Z"
    }
   },
   "id": "b4fa7077dbefdcfe"
  },
  {
   "cell_type": "code",
   "execution_count": 31,
   "outputs": [
    {
     "name": "stdout",
     "output_type": "stream",
     "text": [
      "content='Some famous street foods in Seoul, Korea include tteokbokki (spicy rice cakes), hotteok (sweet pancakes), odeng (fish cake skewers), and kimbap (seaweed rice rolls). These delicious snacks can be found at bustling markets and food stalls throughout the city.'\n",
      "Total Tokens: 0\n",
      "content='Some famous street foods in Seoul, Korea include tteokbokki (spicy rice cakes), hotteok (sweet pancakes), odeng (fish cake skewers), and kimbap (seaweed rice rolls). These delicious snacks can be found at bustling markets and food stalls throughout the city.'\n",
      "Total Tokens: 0\n"
     ]
    }
   ],
   "source": [
    "# Redis cache example\n",
    "import os\n",
    "from langchain.llms import OpenAI\n",
    "from langchain.callbacks import get_openai_callback\n",
    "from langchain.globals import set_llm_cache\n",
    "from langchain.cache import RedisCache\n",
    "from redis import Redis\n",
    "from dotenv import load_dotenv\n",
    "\n",
    "load_dotenv(override=True)\n",
    "\n",
    "set_llm_cache(RedisCache(redis_=Redis(host=os.getenv(\"REDIS_INSTANCE_ADDRESS\"),\n",
    "    port=os.getenv(\"REDIS_INSTANCE_PORT\"),\n",
    "    password=os.getenv(\"REDIS_INSTANCE_PASSWORD\"))))\n",
    "\n",
    "prompt = \"What is famous street foods in Seoul Korea in 200 characters\"\n",
    "\n",
    "with get_openai_callback() as callback:\n",
    "    response = llm.invoke(prompt)\n",
    "    print(response)\n",
    "    print(\"Total Tokens:\",callback.total_tokens)\n",
    "\n",
    "with get_openai_callback() as callback:\n",
    "    llm.invoke(prompt)\n",
    "    response = llm.invoke(prompt)\n",
    "    print(response)\n",
    "    print(\"Total Tokens:\",callback.total_tokens)"
   ],
   "metadata": {
    "collapsed": false,
    "ExecuteTime": {
     "end_time": "2024-06-03T09:45:02.131924Z",
     "start_time": "2024-06-03T09:45:01.679464Z"
    }
   },
   "id": "7504277d5dad1e9d"
  },
  {
   "cell_type": "code",
   "execution_count": 38,
   "outputs": [
    {
     "name": "stdout",
     "output_type": "stream",
     "text": [
      "content='1. Tteokbokki (spicy rice cakes)\\n2. Kimbap (seaweed rice rolls)\\n3. Hotteok (sweet pancakes)\\n4. Odeng (fish cake skewers)\\n5. Japchae (stir-fried glass noodles)\\n6. Sundae (blood sausage)\\n7. Mandu (dumplings)\\n8. Twigim (deep-fried snacks)\\n9. Gyeranppang (egg bread)\\n10. Bungeoppang (fish-shaped pastry)' response_metadata={'token_usage': {'completion_tokens': 108, 'prompt_tokens': 22, 'total_tokens': 130}, 'model_name': 'gpt-3.5-turbo', 'system_fingerprint': None, 'finish_reason': 'stop', 'logprobs': None} id='run-99b45d4e-89c2-46f3-8c12-d978cad1361c-0'\n",
      "Total Tokens: 130\n",
      "content='1. Tteokbokki (spicy rice cakes)\\n2. Kimbap (seaweed rice rolls)\\n3. Hotteok (sweet pancakes)\\n4. Odeng (fish cake skewers)\\n5. Japchae (stir-fried glass noodles)\\n6. Sundae (blood sausage)\\n7. Mandu (dumplings)\\n8. Twigim (deep-fried snacks)\\n9. Gyeranppang (egg bread)\\n10. Bungeoppang (fish-shaped pastry)'\n",
      "Total Tokens: 0\n"
     ]
    }
   ],
   "source": [
    "# Redis cache example\n",
    "import os\n",
    "from langchain.llms import OpenAI\n",
    "from langchain.callbacks import get_openai_callback\n",
    "from langchain.globals import set_llm_cache\n",
    "from langchain.cache import RedisSemanticCache\n",
    "from redis import Redis\n",
    "from dotenv import load_dotenv\n",
    "from langchain.embeddings import OpenAIEmbeddings\n",
    "\n",
    "load_dotenv(override=True)\n",
    "\n",
    "redis_address = os.getenv(\"REDIS_INSTANCE_ADDRESS\")\n",
    "redis_password = os.getenv(\"REDIS_INSTANCE_PASSWORD\")\n",
    "redis_port = os.getenv(\"REDIS_INSTANCE_PORT\")\n",
    "\n",
    "set_llm_cache(RedisSemanticCache(\n",
    "    redis_url=f\"redis://default:{redis_password}@{redis_address}:{redis_port}\", \n",
    "    embedding=OpenAIEmbeddings())\n",
    ")\n",
    "\n",
    "prompt1 = \"What is top 10 famous street foods in Seoul Korea in 200 characters\"\n",
    "prompt2 = \"What is top 5 famous street foods in Seoul Korea in 200 characters\"\n",
    "\n",
    "with get_openai_callback() as callback:\n",
    "    response = llm.invoke(prompt1)\n",
    "    print(response)\n",
    "    print(\"Total Tokens:\",callback.total_tokens)\n",
    "\n",
    "with get_openai_callback() as callback:\n",
    "    llm.invoke(prompt)\n",
    "    response = llm.invoke(prompt2)\n",
    "    print(response)\n",
    "    print(\"Total Tokens:\",callback.total_tokens)"
   ],
   "metadata": {
    "collapsed": false,
    "ExecuteTime": {
     "end_time": "2024-06-03T09:52:52.427471Z",
     "start_time": "2024-06-03T09:52:46.851803Z"
    }
   },
   "id": "47646a715fec24c9"
  },
  {
   "cell_type": "code",
   "execution_count": 48,
   "outputs": [
    {
     "name": "stdout",
     "output_type": "stream",
     "text": [
      "In Seoul, South Korea, the top 3 popular tourist spots are:\n",
      "\n",
      "1. Gyeongbokgung Palace: This historic palace is one of the most iconic landmarks in Seoul, offering visitors a glimpse into Korea's royal past with its stunning architecture and beautiful gardens.\n",
      "\n",
      "2. Myeongdong: This bustling shopping district is a favorite among tourists for its trendy boutiques, street food stalls, and vibrant atmosphere. It's a great place to shop for fashion, cosmetics, and souvenirs.\n",
      "\n",
      "3. N Seoul Tower: Located on Namsan Mountain, N Seoul Tower offers panoramic views of the city skyline and is a popular spot for couples and families to visit. You can take a cable car or hike up to the tower for a memorable experience.\n",
      "\n",
      "These are just a few of the many attractions Seoul has to offer. Let me know if you need more information or assistance in planning your trip to Seoul!\n"
     ]
    }
   ],
   "source": [
    "from langchain.chat_models import ChatOpenAI\n",
    "from langchain.schema.messages import HumanMessage, SystemMessage, AIMessage\n",
    "\n",
    "set_llm_cache(None)\n",
    "\n",
    "messages = [\n",
    "    SystemMessage(content=\"You are the travel agent. You can provide travel itinery to the user\"),\n",
    "    HumanMessage(content=\"Where is the top 3 popular space for tourist in Seoul?\"),\n",
    "]\n",
    "\n",
    "\n",
    "aiMessage=llm.invoke(messages)\n",
    "print(aiMessage.content)"
   ],
   "metadata": {
    "collapsed": false,
    "ExecuteTime": {
     "end_time": "2024-06-03T10:36:55.670260Z",
     "start_time": "2024-06-03T10:36:51.949004Z"
    }
   },
   "id": "49604317d9671eb"
  },
  {
   "cell_type": "code",
   "execution_count": 49,
   "outputs": [
    {
     "name": "stdout",
     "output_type": "stream",
     "text": [
      "------------------------------\n",
      "To visit the top 3 popular tourist spots in Seoul - Gyeongbokgung Palace, Myeongdong, and N Seoul Tower - you can use a combination of public transportation options such as the subway, buses, and taxis. Here's a suggested transportation plan for visiting these places:\n",
      "\n",
      "1. Gyeongbokgung Palace:\n",
      "- Take the subway to Gyeongbokgung Station (Line 3) or Gwanghwamun Station (Line 5).\n",
      "- From the station, it's a short walk to the palace entrance. You can also take a taxi if you prefer.\n",
      "\n",
      "2. Myeongdong:\n",
      "- Take the subway to Myeongdong Station (Line 4).\n",
      "- Myeongdong is a bustling area that is best explored on foot. You can easily walk around the shopping district and explore the various shops and street food stalls.\n",
      "\n",
      "3. N Seoul Tower:\n",
      "- Take the subway to Myeongdong Station (Line 4) and transfer to the Namsan Cable Car or Namsan Sunhwan Shuttle Bus to reach N Seoul Tower.\n",
      "- Alternatively, you can take a taxi to the base of Namsan Mountain and then hike up to the tower for a more adventurous experience.\n",
      "\n",
      "Using public transportation is a convenient and cost-effective way to get around Seoul and explore its popular tourist attractions. If you prefer a more guided experience, you can also consider booking a guided tour or hiring a private car service for your sightseeing itinerary. Let me know if you need more detailed directions or assistance with transportation options!\n",
      "------------------------------\n",
      "Total Tokens: 564\n"
     ]
    }
   ],
   "source": [
    "# Append AIMessages into Chat History\n",
    "messages.append(aiMessage)\n",
    "print(\"-\"*30)\n",
    "\n",
    "# Add new conversation\n",
    "with get_openai_callback() as callback:\n",
    "    messages.append(HumanMessage(content=\"Which transport can I use to visit the places?\"))\n",
    "    aiMessage=llm.invoke(messages)\n",
    "    print(aiMessage.content)\n",
    "    print(\"-\"*30)\n",
    "    print(\"Total Tokens:\",callback.total_tokens)"
   ],
   "metadata": {
    "collapsed": false,
    "ExecuteTime": {
     "end_time": "2024-06-03T10:37:12.896198Z",
     "start_time": "2024-06-03T10:37:07.765126Z"
    }
   },
   "id": "4de0610aae243da1"
  },
  {
   "cell_type": "code",
   "execution_count": 50,
   "outputs": [
    {
     "name": "stdout",
     "output_type": "stream",
     "text": [
      "1. Gyeongbokgung Palace - A must-visit historical site in Seoul, Gyeongbokgung Palace is the largest of the Five Grand Palaces built during the Joseon Dynasty. Visitors can explore the beautiful architecture, gardens, and learn about Korea's royal history.\n",
      "\n",
      "2. Myeongdong - Known as one of Seoul's main shopping districts, Myeongdong is a bustling area filled with shops, restaurants, street food vendors, and entertainment options. It is a popular destination for both locals and tourists looking for trendy fashion, cosmetics, and unique souvenirs.\n",
      "\n",
      "3. N Seoul Tower - Located on Namsan Mountain, N Seoul Tower offers panoramic views of the city skyline and is a popular spot for tourists to take in the sights. Visitors can also enjoy the various attractions at the tower, including restaurants, cafes, and the famous \"love locks\" where couples can leave a symbol of their love.\n",
      "--------------------\n",
      "To visit the top 3 popular tourist spots in Seoul, you can use a combination of public transportation options such as:\n",
      "\n",
      "1. Subway: The Seoul Metropolitan Subway system is one of the most convenient and efficient ways to travel around the city. Gyeongbokgung Palace, Myeongdong, and N Seoul Tower are all easily accessible by subway. You can take Line 3 to Gyeongbokgung Station for the palace, Line 4 to Myeongdong Station for Myeongdong, and Line 4 to Myeongdong Station or Line 3 to Chungmuro Station for N Seoul Tower.\n",
      "\n",
      "2. Bus: Seoul has an extensive bus network that covers most areas of the city. You can take a bus to reach Gyeongbokgung Palace, Myeongdong, and N Seoul Tower as well. Be sure to check the bus routes and schedules in advance.\n",
      "\n",
      "3. Taxi: Taxis are readily available in Seoul and can be a convenient option for getting to your desired destinations quickly. However, keep in mind that traffic congestion can be an issue during peak hours.\n",
      "\n",
      "4. Walking: Depending on your location and preferences, you may also choose to explore these tourist spots on foot, especially if they are within walking distance from each other. This can be a great way to soak in the sights and sounds of the city.\n"
     ]
    }
   ],
   "source": [
    "#ChatMessageHistory is used if you are managing memory outside of a chian directly\n",
    "from langchain.memory import ChatMessageHistory\n",
    "\n",
    "history = ChatMessageHistory()\n",
    "\n",
    "history.add_user_message(\"Where is the top 3 popular space for tourist in Seoul?\")\n",
    "aiMessage = llm.invoke(history.messages)\n",
    "\n",
    "history.add_ai_message(aiMessage.content)\n",
    "print(aiMessage.content)\n",
    "print(\"-\"*20)\n",
    "\n",
    "history.add_user_message(\"Which transport can I use to visit the places?\")\n",
    "aiMessage = llm.invoke(history.messages)\n",
    "history.add_ai_message(aiMessage.content)\n",
    "print(aiMessage.content)"
   ],
   "metadata": {
    "collapsed": false,
    "ExecuteTime": {
     "end_time": "2024-06-03T10:39:16.215610Z",
     "start_time": "2024-06-03T10:39:07.416641Z"
    }
   },
   "id": "967f8f4d767b8946"
  },
  {
   "cell_type": "code",
   "execution_count": 52,
   "outputs": [
    {
     "name": "stdout",
     "output_type": "stream",
     "text": [
      "Tell me a famous place in seoul in 300 characters.\n",
      "content=\"Gyeongbokgung Palace is a famous historical site in Seoul, South Korea. Built in 1395, it served as the main royal palace of the Joseon dynasty. Visitors can explore the beautiful architecture, traditional Korean gardens, and learn about the country's rich history.\" response_metadata={'token_usage': {'completion_tokens': 58, 'prompt_tokens': 20, 'total_tokens': 78}, 'model_name': 'gpt-3.5-turbo', 'system_fingerprint': None, 'finish_reason': 'stop', 'logprobs': None} id='run-df65c33e-f4b0-41cc-be27-7824810ec148-0'\n",
      "Tell me a popular reastaurant in San francisco in 300 characters.\n",
      "content='One of the most popular restaurants in San Francisco is Gary Danko, known for its upscale dining experience and innovative American cuisine. With a Michelin-starred chef at the helm, guests can enjoy a multi-course tasting menu or choose from a variety of a la carte options. Reservations are highly recommended.' response_metadata={'token_usage': {'completion_tokens': 61, 'prompt_tokens': 23, 'total_tokens': 84}, 'model_name': 'gpt-3.5-turbo', 'system_fingerprint': None, 'finish_reason': 'stop', 'logprobs': None} id='run-01c2fa2f-2313-4bf6-a21d-e837f7884f39-0'\n"
     ]
    }
   ],
   "source": [
    "from langchain import PromptTemplate\n",
    "from langchain.llms import OpenAI\n",
    "\n",
    "template = PromptTemplate.from_template(\n",
    "    \"Tell me a {adjective} {topic} in {city} in 300 characters.\"\n",
    ")\n",
    "\n",
    "prompt= template.format(adjective=\"famous\", topic=\"place\", city=\"seoul\")\n",
    "\n",
    "print(prompt)\n",
    "print(llm.invoke(prompt))\n",
    "\n",
    "prompt = template.format(adjective=\"popular\", topic=\"reastaurant\", city=\"San francisco\")\n",
    "\n",
    "print(prompt)\n",
    "print(llm.invoke(prompt))"
   ],
   "metadata": {
    "collapsed": false,
    "ExecuteTime": {
     "end_time": "2024-06-03T10:58:28.767423Z",
     "start_time": "2024-06-03T10:58:25.731642Z"
    }
   },
   "id": "d1e9a7f2491344cb"
  },
  {
   "cell_type": "code",
   "execution_count": 53,
   "outputs": [],
   "source": [
    "from langchain import PromptTemplate\n",
    "\n",
    "template = PromptTemplate.from_template(\n",
    "    \"Tell me a {adjective} {topic} in {city} in 300 characters.\"\n",
    ")\n",
    "\n",
    "template.save(\"template.json\")"
   ],
   "metadata": {
    "collapsed": false,
    "ExecuteTime": {
     "end_time": "2024-06-03T11:00:21.275893Z",
     "start_time": "2024-06-03T11:00:21.273222Z"
    }
   },
   "id": "95535f0815c68c41"
  },
  {
   "cell_type": "code",
   "execution_count": 54,
   "outputs": [
    {
     "name": "stdout",
     "output_type": "stream",
     "text": [
      "Tell me a popular cafe in San francisco in 300 characters.\n"
     ]
    }
   ],
   "source": [
    "from langchain.prompts import load_prompt\n",
    "\n",
    "loaded_template = load_prompt(\"template.json\")\n",
    "prompt = loaded_template.format(adjective=\"popular\", topic=\"cafe\", city=\"San francisco\")\n",
    "print(prompt)"
   ],
   "metadata": {
    "collapsed": false,
    "ExecuteTime": {
     "end_time": "2024-06-03T11:01:48.121042Z",
     "start_time": "2024-06-03T11:01:48.118605Z"
    }
   },
   "id": "c5d12990490e5ac1"
  },
  {
   "cell_type": "code",
   "execution_count": 55,
   "outputs": [
    {
     "name": "stdout",
     "output_type": "stream",
     "text": [
      "Prompt : [SystemMessage(content='You are a tour guide.'), HumanMessage(content=\"I'm planning to visit Korea.\"), AIMessage(content=\"I'm tour guide for Korea.\"), HumanMessage(content='What is top5 best place to go there?')]\n",
      "------------------------------\n",
      "content='1. Seoul: The capital city of South Korea, Seoul is a vibrant metropolis with a mix of modern skyscrapers and historic sites such as Gyeongbokgung Palace and Bukchon Hanok Village.\\n\\n2. Jeju Island: Known for its stunning natural beauty, Jeju Island offers visitors picturesque beaches, volcanic landscapes, and unique attractions like the Manjanggul Lava Tube and Seongsan Ilchulbong Peak.\\n\\n3. Gyeongju: Often referred to as the \"museum without walls,\" Gyeongju is a city rich in history and culture, with ancient temples, burial mounds, and artifacts dating back to the Silla Dynasty.\\n\\n4. Busan: South Korea\\'s second-largest city, Busan is a bustling port city with beautiful beaches, vibrant markets like Jagalchi Fish Market, and cultural attractions such as Beomeosa Temple and Gamcheon Culture Village.\\n\\n5. DMZ (Demilitarized Zone): For a unique and sobering experience, consider visiting the DMZ, a buffer zone between North and South Korea that offers a glimpse into the divided Korean peninsula through tours of landmarks like the Joint Security Area and Dora Observatory.' response_metadata={'token_usage': {'completion_tokens': 245, 'prompt_tokens': 49, 'total_tokens': 294}, 'model_name': 'gpt-3.5-turbo', 'system_fingerprint': None, 'finish_reason': 'stop', 'logprobs': None} id='run-c5a05b4d-f429-49b0-af88-0c42e77a4887-0'\n"
     ]
    }
   ],
   "source": [
    "from langchain.chat_models import ChatOpenAI\n",
    "from langchain.prompts import ChatPromptTemplate\n",
    "\n",
    "chat_template = ChatPromptTemplate.from_messages(\n",
    "    [\n",
    "        (\"system\",\"You are a tour guide.\"),\n",
    "        (\"human\",\"I'm planning to visit {Country}.\"),\n",
    "        (\"ai\",\"I'm tour guide for {Country}.\"),\n",
    "        (\"human\",\"{user_input}\")\n",
    "    ]\n",
    ")\n",
    "\n",
    "prompt = chat_template.format_messages(Country=\"Korea\",user_input=\"What is top5 best place to go there?\")\n",
    "\n",
    "print(\"Prompt :\",prompt)\n",
    "print(\"-\"*30)\n",
    "\n",
    "aiMessage=llm.invoke(prompt)\n",
    "print(aiMessage)"
   ],
   "metadata": {
    "collapsed": false,
    "ExecuteTime": {
     "end_time": "2024-06-03T11:03:33.445442Z",
     "start_time": "2024-06-03T11:03:28.727826Z"
    }
   },
   "id": "2a8bce0c9162d7da"
  },
  {
   "cell_type": "code",
   "execution_count": 56,
   "outputs": [
    {
     "data": {
      "text/plain": "'You are tour guide for KoreaPlease tell me about famous place to visit in Korea'"
     },
     "execution_count": 56,
     "metadata": {},
     "output_type": "execute_result"
    }
   ],
   "source": [
    "from langchain.prompts import PromptTemplate\n",
    "\n",
    "role_prompt = PromptTemplate.from_template(\"You are tour guide for {country}\")\n",
    "question_prompt = PromptTemplate.from_template(\"Please tell me about {interest} in {country}\")\n",
    "\n",
    "full_prompt=role_prompt + question_prompt\n",
    "full_prompt.format(country=\"Korea\",interest=\"famous place to visit\")"
   ],
   "metadata": {
    "collapsed": false,
    "ExecuteTime": {
     "end_time": "2024-06-03T11:05:05.725637Z",
     "start_time": "2024-06-03T11:05:05.722991Z"
    }
   },
   "id": "95eeb8060273cd0f"
  },
  {
   "cell_type": "code",
   "execution_count": 57,
   "outputs": [
    {
     "name": "stdout",
     "output_type": "stream",
     "text": [
      "\n",
      "    You are tour guide for Korea\n",
      "    Please tell me about famous place to visit in Korea\n",
      "    Please do not reply with anything other than information related to travel to Korea and reply 'I cannot answer.'\n"
     ]
    }
   ],
   "source": [
    "from langchain.prompts.pipeline import PipelinePromptTemplate\n",
    "from langchain.prompts import PromptTemplate\n",
    "\n",
    "full_template =\"\"\"\n",
    "    {role}\n",
    "    {question}\n",
    "    Please do not reply with anything other than information related to travel to {country} and reply 'I cannot answer.'\n",
    "\"\"\"\n",
    "\n",
    "full_prompt = PromptTemplate.from_template(full_template)\n",
    "role_prompt = PromptTemplate.from_template(\"You are tour guide for {country}\")\n",
    "question_prompt = PromptTemplate.from_template(\"Please tell me about {interest} in {country}\")\n",
    "\n",
    "\n",
    "\n",
    "# composition\n",
    "input_prompts = [\n",
    "    (\"role\",role_prompt),\n",
    "    (\"question\",question_prompt)\n",
    "]\n",
    "\n",
    "pipeline_prompt = PipelinePromptTemplate(final_prompt=full_prompt,pipeline_prompts=input_prompts)\n",
    "\n",
    "prompt_text = pipeline_prompt.format(\n",
    "    country=\"Korea\",\n",
    "    interest=\"famous place to visit\"\n",
    ")\n",
    "\n",
    "\n",
    "print(prompt_text)"
   ],
   "metadata": {
    "collapsed": false,
    "ExecuteTime": {
     "end_time": "2024-06-03T11:08:31.181996Z",
     "start_time": "2024-06-03T11:08:31.176592Z"
    }
   },
   "id": "fa037cbcd2e5c89f"
  },
  {
   "cell_type": "code",
   "execution_count": 58,
   "outputs": [
    {
     "name": "stdout",
     "output_type": "stream",
     "text": [
      "What is famous food in Seoul?\n"
     ]
    }
   ],
   "source": [
    "from langchain.prompts import PromptTemplate\n",
    "\n",
    "prompt = PromptTemplate(template=\"What is famous {topic} in {city}?\",input_variables=[\"topic\",\"city\"])\n",
    "partial_prompt = prompt.partial(city=\"Seoul\")\n",
    "print(partial_prompt.format(topic=\"food\"))"
   ],
   "metadata": {
    "collapsed": false,
    "ExecuteTime": {
     "end_time": "2024-06-03T11:09:52.814473Z",
     "start_time": "2024-06-03T11:09:52.811672Z"
    }
   },
   "id": "6b2490deded7b4f8"
  },
  {
   "cell_type": "code",
   "execution_count": 59,
   "outputs": [
    {
     "name": "stdout",
     "output_type": "stream",
     "text": [
      "What is famous food in seoul?\n"
     ]
    }
   ],
   "source": [
    "from langchain.prompts import PromptTemplate\n",
    "\n",
    "prompt = PromptTemplate(template=\"What is famous {topic} in {city}?\",input_variables=[\"topic\"],partial_variables={\"city\":\"seoul\"})\n",
    "\n",
    "print(prompt.format(topic=\"food\"))"
   ],
   "metadata": {
    "collapsed": false,
    "ExecuteTime": {
     "end_time": "2024-06-03T11:10:56.308671Z",
     "start_time": "2024-06-03T11:10:56.305619Z"
    }
   },
   "id": "729ab5cb9a78686b"
  }
 ],
 "metadata": {
  "kernelspec": {
   "display_name": "Python 3",
   "language": "python",
   "name": "python3"
  },
  "language_info": {
   "codemirror_mode": {
    "name": "ipython",
    "version": 2
   },
   "file_extension": ".py",
   "mimetype": "text/x-python",
   "name": "python",
   "nbconvert_exporter": "python",
   "pygments_lexer": "ipython2",
   "version": "2.7.6"
  }
 },
 "nbformat": 4,
 "nbformat_minor": 5
}
