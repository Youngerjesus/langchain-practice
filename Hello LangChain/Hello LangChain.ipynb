{
 "cells": [
  {
   "cell_type": "code",
   "execution_count": 1,
   "id": "initial_id",
   "metadata": {
    "collapsed": true,
    "ExecuteTime": {
     "end_time": "2024-05-31T10:54:42.210023Z",
     "start_time": "2024-05-31T10:54:38.264724Z"
    }
   },
   "outputs": [
    {
     "name": "stderr",
     "output_type": "stream",
     "text": [
      "/Users/jeongmin/PycharmProjects/langchain-practice/venv/lib/python3.9/site-packages/urllib3/__init__.py:35: NotOpenSSLWarning: urllib3 v2 only supports OpenSSL 1.1.1+, currently the 'ssl' module is compiled with 'LibreSSL 2.8.3'. See: https://github.com/urllib3/urllib3/issues/3020\n",
      "  warnings.warn(\n",
      "/Users/jeongmin/PycharmProjects/langchain-practice/venv/lib/python3.9/site-packages/langchain_core/_api/deprecation.py:119: LangChainDeprecationWarning: The class `ChatOpenAI` was deprecated in LangChain 0.0.10 and will be removed in 0.2.0. An updated version of the class exists in the langchain-openai package and should be used instead. To use it run `pip install -U langchain-openai` and import as `from langchain_openai import ChatOpenAI`.\n",
      "  warn_deprecated(\n"
     ]
    },
    {
     "data": {
      "text/plain": "AIMessage(content=\"1. Han Il Kwan - Located in San Francisco, Han Il Kwan is known for its authentic Korean BBQ and traditional dishes.\\n2. Gen Korean BBQ House - With multiple locations in the Bay Area, Gen Korean BBQ House offers a modern and interactive dining experience with a wide variety of meats and side dishes.\\n3. Ohgane Korean BBQ - Located in Oakland, Ohgane Korean BBQ is a popular spot for high-quality meats and traditional Korean dishes.\\n4. Sahn Maru Korean BBQ - Located in San Francisco, Sahn Maru Korean BBQ is known for its delicious BBQ options and cozy atmosphere.\\n5. Bowl'd BBQ - With locations in Oakland and Berkeley, Bowl'd BBQ offers a unique twist on traditional Korean dishes with a focus on healthy and organic ingredients.\", response_metadata={'token_usage': {'completion_tokens': 157, 'prompt_tokens': 20, 'total_tokens': 177}, 'model_name': 'gpt-3.5-turbo', 'system_fingerprint': None, 'finish_reason': 'stop', 'logprobs': None}, id='run-60790741-53e4-43ff-85c0-6180b42df3d8-0')"
     },
     "execution_count": 1,
     "metadata": {},
     "output_type": "execute_result"
    }
   ],
   "source": [
    "from langchain.llms import OpenAI\n",
    "from dotenv import load_dotenv\n",
    "from langchain.chat_models import ChatOpenAI\n",
    "\n",
    "load_dotenv()\n",
    "\n",
    "llm = ChatOpenAI(temperature=0.1) \n",
    "\n",
    "question = \"What is top 5 Korean reastaurant in BayArea?\"\n",
    "\n",
    "answer= llm.invoke(question)\n",
    "\n",
    "answer"
   ]
  },
  {
   "cell_type": "code",
   "execution_count": 2,
   "outputs": [
    {
     "data": {
      "text/plain": "[AIMessage(content=\"1. Tteokbokki - Spicy stir-fried rice cakes\\n2. Hotteok - Sweet Korean pancakes filled with brown sugar, honey, and nuts\\n3. Kimbap - Korean seaweed rice rolls filled with vegetables, meat, and pickles\\n4. Odeng - Fish cake skewers served in a hot broth\\n5. Sundae - Korean blood sausage made with pig's intestines and various ingredients such as noodles, barley, and vegetables\", response_metadata={'token_usage': {'completion_tokens': 97, 'prompt_tokens': 16, 'total_tokens': 113}, 'model_name': 'gpt-3.5-turbo', 'system_fingerprint': None, 'finish_reason': 'stop', 'logprobs': None}, id='run-79075993-e847-4a21-9226-6e432bccaf5b-0'),\n AIMessage(content=\"The most famous place in Seoul is probably Gyeongbokgung Palace. This historic palace is a symbol of Korea's rich history and culture, and is a popular tourist destination for visitors to Seoul.\", response_metadata={'token_usage': {'completion_tokens': 42, 'prompt_tokens': 15, 'total_tokens': 57}, 'model_name': 'gpt-3.5-turbo', 'system_fingerprint': None, 'finish_reason': 'stop', 'logprobs': None}, id='run-5c0221c9-e3a4-4d32-a291-b74873861e28-0'),\n AIMessage(content='BTS (Bangtan Sonyeondan) is currently one of the most popular K-Pop groups in the world.', response_metadata={'token_usage': {'completion_tokens': 25, 'prompt_tokens': 16, 'total_tokens': 41}, 'model_name': 'gpt-3.5-turbo', 'system_fingerprint': None, 'finish_reason': 'stop', 'logprobs': None}, id='run-2dd3da8c-56d7-4beb-8744-1e88ee0bc2fd-0')]"
     },
     "execution_count": 2,
     "metadata": {},
     "output_type": "execute_result"
    }
   ],
   "source": [
    "prompts = [\n",
    "    \"What is top 5 Korean Street food?\",\n",
    "    \"What is most famous place in Seoul?\",\n",
    "    \"What is the popular K-Pop group?\"\n",
    "]\n",
    "\n",
    "llm.batch(prompts)"
   ],
   "metadata": {
    "collapsed": false,
    "ExecuteTime": {
     "end_time": "2024-06-03T09:05:53.252586Z",
     "start_time": "2024-06-03T09:05:51.197452Z"
    }
   },
   "id": "2dbe8826c9772300"
  },
  {
   "cell_type": "code",
   "execution_count": 3,
   "outputs": [
    {
     "name": "stdout",
     "output_type": "stream",
     "text": [
      "content='' id='run-6ed6f0b8-0229-485f-82ea-fbef31d38982'content='Some' id='run-6ed6f0b8-0229-485f-82ea-fbef31d38982'content=' famous' id='run-6ed6f0b8-0229-485f-82ea-fbef31d38982'content=' street' id='run-6ed6f0b8-0229-485f-82ea-fbef31d38982'content=' foods' id='run-6ed6f0b8-0229-485f-82ea-fbef31d38982'content=' in' id='run-6ed6f0b8-0229-485f-82ea-fbef31d38982'content=' Seoul' id='run-6ed6f0b8-0229-485f-82ea-fbef31d38982'content=',' id='run-6ed6f0b8-0229-485f-82ea-fbef31d38982'content=' Korea' id='run-6ed6f0b8-0229-485f-82ea-fbef31d38982'content=' include' id='run-6ed6f0b8-0229-485f-82ea-fbef31d38982'content=' t' id='run-6ed6f0b8-0229-485f-82ea-fbef31d38982'content='te' id='run-6ed6f0b8-0229-485f-82ea-fbef31d38982'content='ok' id='run-6ed6f0b8-0229-485f-82ea-fbef31d38982'content='b' id='run-6ed6f0b8-0229-485f-82ea-fbef31d38982'content='ok' id='run-6ed6f0b8-0229-485f-82ea-fbef31d38982'content='ki' id='run-6ed6f0b8-0229-485f-82ea-fbef31d38982'content=' (' id='run-6ed6f0b8-0229-485f-82ea-fbef31d38982'content='sp' id='run-6ed6f0b8-0229-485f-82ea-fbef31d38982'content='icy' id='run-6ed6f0b8-0229-485f-82ea-fbef31d38982'content=' rice' id='run-6ed6f0b8-0229-485f-82ea-fbef31d38982'content=' cakes' id='run-6ed6f0b8-0229-485f-82ea-fbef31d38982'content='),' id='run-6ed6f0b8-0229-485f-82ea-fbef31d38982'content=' hot' id='run-6ed6f0b8-0229-485f-82ea-fbef31d38982'content='te' id='run-6ed6f0b8-0229-485f-82ea-fbef31d38982'content='ok' id='run-6ed6f0b8-0229-485f-82ea-fbef31d38982'content=' (' id='run-6ed6f0b8-0229-485f-82ea-fbef31d38982'content='sweet' id='run-6ed6f0b8-0229-485f-82ea-fbef31d38982'content=' pancakes' id='run-6ed6f0b8-0229-485f-82ea-fbef31d38982'content='),' id='run-6ed6f0b8-0229-485f-82ea-fbef31d38982'content=' od' id='run-6ed6f0b8-0229-485f-82ea-fbef31d38982'content='eng' id='run-6ed6f0b8-0229-485f-82ea-fbef31d38982'content=' (' id='run-6ed6f0b8-0229-485f-82ea-fbef31d38982'content='fish' id='run-6ed6f0b8-0229-485f-82ea-fbef31d38982'content=' cake' id='run-6ed6f0b8-0229-485f-82ea-fbef31d38982'content=' skew' id='run-6ed6f0b8-0229-485f-82ea-fbef31d38982'content='ers' id='run-6ed6f0b8-0229-485f-82ea-fbef31d38982'content='),' id='run-6ed6f0b8-0229-485f-82ea-fbef31d38982'content=' and' id='run-6ed6f0b8-0229-485f-82ea-fbef31d38982'content=' k' id='run-6ed6f0b8-0229-485f-82ea-fbef31d38982'content='imb' id='run-6ed6f0b8-0229-485f-82ea-fbef31d38982'content='ap' id='run-6ed6f0b8-0229-485f-82ea-fbef31d38982'content=' (' id='run-6ed6f0b8-0229-485f-82ea-fbef31d38982'content='se' id='run-6ed6f0b8-0229-485f-82ea-fbef31d38982'content='aw' id='run-6ed6f0b8-0229-485f-82ea-fbef31d38982'content='eed' id='run-6ed6f0b8-0229-485f-82ea-fbef31d38982'content=' rice' id='run-6ed6f0b8-0229-485f-82ea-fbef31d38982'content=' rolls' id='run-6ed6f0b8-0229-485f-82ea-fbef31d38982'content=').' id='run-6ed6f0b8-0229-485f-82ea-fbef31d38982'content=' These' id='run-6ed6f0b8-0229-485f-82ea-fbef31d38982'content=' delicious' id='run-6ed6f0b8-0229-485f-82ea-fbef31d38982'content=' and' id='run-6ed6f0b8-0229-485f-82ea-fbef31d38982'content=' affordable' id='run-6ed6f0b8-0229-485f-82ea-fbef31d38982'content=' snacks' id='run-6ed6f0b8-0229-485f-82ea-fbef31d38982'content=' can' id='run-6ed6f0b8-0229-485f-82ea-fbef31d38982'content=' be' id='run-6ed6f0b8-0229-485f-82ea-fbef31d38982'content=' found' id='run-6ed6f0b8-0229-485f-82ea-fbef31d38982'content=' at' id='run-6ed6f0b8-0229-485f-82ea-fbef31d38982'content=' various' id='run-6ed6f0b8-0229-485f-82ea-fbef31d38982'content=' street' id='run-6ed6f0b8-0229-485f-82ea-fbef31d38982'content=' food' id='run-6ed6f0b8-0229-485f-82ea-fbef31d38982'content=' stalls' id='run-6ed6f0b8-0229-485f-82ea-fbef31d38982'content=' throughout' id='run-6ed6f0b8-0229-485f-82ea-fbef31d38982'content=' the' id='run-6ed6f0b8-0229-485f-82ea-fbef31d38982'content=' city' id='run-6ed6f0b8-0229-485f-82ea-fbef31d38982'content='.' id='run-6ed6f0b8-0229-485f-82ea-fbef31d38982'content='' response_metadata={'finish_reason': 'stop'} id='run-6ed6f0b8-0229-485f-82ea-fbef31d38982'"
     ]
    }
   ],
   "source": [
    "prompt = \"What is famous street foods in Seoul Korea in 200 characters\"\n",
    "for chunk in llm.stream(prompt):\n",
    "    print(chunk, end=\"\", flush=True)"
   ],
   "metadata": {
    "collapsed": false,
    "ExecuteTime": {
     "end_time": "2024-06-03T09:12:14.582301Z",
     "start_time": "2024-06-03T09:12:12.959644Z"
    }
   },
   "id": "3dfd0af57fa73c30"
  },
  {
   "cell_type": "code",
   "execution_count": 5,
   "outputs": [
    {
     "name": "stderr",
     "output_type": "stream",
     "text": [
      "/var/folders/r4/w6gk0qbd6bd_sf7xj6nwdnxc0000gn/T/ipykernel_13706/2276036469.py:19: RuntimeWarning: coroutine 'invoke_parallel' was never awaited\n",
      "  invoke_parallel().__await__()\n",
      "RuntimeWarning: Enable tracemalloc to get the object allocation traceback\n"
     ]
    },
    {
     "name": "stdout",
     "output_type": "stream",
     "text": [
      "Async execution time: 6.520800525322556e-05\n",
      "content='Kimchi: Fermented cabbage with spices.' response_metadata={'token_usage': {'completion_tokens': 9, 'prompt_tokens': 18, 'total_tokens': 27}, 'model_name': 'gpt-3.5-turbo', 'system_fingerprint': None, 'finish_reason': 'stop', 'logprobs': None} id='run-e6e1c500-ea85-49a6-829b-10b95038fde9-0'\n",
      "content='Kimchi, bibimbap, bulgogi, and tteokbokki. Traditional Korean dishes.' response_metadata={'token_usage': {'completion_tokens': 23, 'prompt_tokens': 18, 'total_tokens': 41}, 'model_name': 'gpt-3.5-turbo', 'system_fingerprint': None, 'finish_reason': 'stop', 'logprobs': None} id='run-5c85ff60-ab38-4e34-ae72-1cb6d9078e72-0'\n",
      "content='Kimchi: Spicy fermented cabbage dish.' response_metadata={'token_usage': {'completion_tokens': 9, 'prompt_tokens': 18, 'total_tokens': 27}, 'model_name': 'gpt-3.5-turbo', 'system_fingerprint': None, 'finish_reason': 'stop', 'logprobs': None} id='run-6891a920-454d-4061-88cb-48d4e7d3c4b9-0'\n",
      "content='Kimchi: Spicy fermented cabbage dish.' response_metadata={'token_usage': {'completion_tokens': 9, 'prompt_tokens': 18, 'total_tokens': 27}, 'model_name': 'gpt-3.5-turbo', 'system_fingerprint': None, 'finish_reason': 'stop', 'logprobs': None} id='run-23f2d314-8d09-44eb-87eb-9a5acae142b6-0'\n",
      "content='Kimchi: Fermented cabbage with spicy flavors.' response_metadata={'token_usage': {'completion_tokens': 10, 'prompt_tokens': 18, 'total_tokens': 28}, 'model_name': 'gpt-3.5-turbo', 'system_fingerprint': None, 'finish_reason': 'stop', 'logprobs': None} id='run-deb59852-7861-44fa-8028-d63589e80126-0'\n",
      "content='Kimchi: Spicy fermented cabbage dish.' response_metadata={'token_usage': {'completion_tokens': 9, 'prompt_tokens': 18, 'total_tokens': 27}, 'model_name': 'gpt-3.5-turbo', 'system_fingerprint': None, 'finish_reason': 'stop', 'logprobs': None} id='run-c6b87115-ffb5-432b-90cb-1ecc747d6300-0'\n",
      "content='Kimchi: Fermented cabbage, Korean staple dish.' response_metadata={'token_usage': {'completion_tokens': 11, 'prompt_tokens': 18, 'total_tokens': 29}, 'model_name': 'gpt-3.5-turbo', 'system_fingerprint': None, 'finish_reason': 'stop', 'logprobs': None} id='run-bfedbf9b-5f6d-4b74-b57d-48a326fe8bd0-0'\n",
      "content='Kimchi: Fermented cabbage, Korean staple dish.' response_metadata={'token_usage': {'completion_tokens': 11, 'prompt_tokens': 18, 'total_tokens': 29}, 'model_name': 'gpt-3.5-turbo', 'system_fingerprint': None, 'finish_reason': 'stop', 'logprobs': None} id='run-34224626-eafb-4b89-92ee-fc036673e91c-0'\n",
      "content='Kimchi: Fermented cabbage, Korean staple dish.' response_metadata={'token_usage': {'completion_tokens': 11, 'prompt_tokens': 18, 'total_tokens': 29}, 'model_name': 'gpt-3.5-turbo', 'system_fingerprint': None, 'finish_reason': 'stop', 'logprobs': None} id='run-7aa22f2e-12d5-46e6-a502-cd5f07bdb402-0'\n",
      "content='Kimchi: Fermented cabbage with spices.' response_metadata={'token_usage': {'completion_tokens': 9, 'prompt_tokens': 18, 'total_tokens': 27}, 'model_name': 'gpt-3.5-turbo', 'system_fingerprint': None, 'finish_reason': 'stop', 'logprobs': None} id='run-09d909ee-23c2-4a8c-8919-fc52bfe4c88d-0'\n",
      "Sync execution time: 8.321200374994078\n"
     ]
    }
   ],
   "source": [
    "import time\n",
    "import asyncio\n",
    "\n",
    "from langchain.llms import OpenAI\n",
    "\n",
    "prompt = \"What is famous Korean food? Explain in 50 characters\"\n",
    "\n",
    "# Async call\n",
    "async def invoke_async(llm):\n",
    "    result = await llm.ainvoke(prompt)\n",
    "    print(result)\n",
    "\n",
    "async def invoke_parallel():\n",
    "    tasks = [invoke_async(llm) for _ in range(10)]\n",
    "    await asyncio.gather(*tasks)\n",
    "\n",
    "start_time = time.perf_counter()\n",
    "\n",
    "invoke_parallel()\n",
    "\n",
    "end_time = time.perf_counter()\n",
    "\n",
    "print(\"Async execution time:\" , (end_time-start_time))\n",
    "\n",
    "\n",
    "# Sync call\n",
    "start_time = time.perf_counter()\n",
    "for i in range(10):\n",
    "    result = llm.invoke(prompt)\n",
    "    print(result)\n",
    "\n",
    "end_time = time.perf_counter()\n",
    "print(\"Sync execution time:\" ,(end_time-start_time))"
   ],
   "metadata": {
    "collapsed": false,
    "ExecuteTime": {
     "end_time": "2024-06-03T09:16:13.323223Z",
     "start_time": "2024-06-03T09:16:04.999475Z"
    }
   },
   "id": "6b4e9ff33bdf2d99"
  },
  {
   "cell_type": "code",
   "execution_count": 6,
   "outputs": [
    {
     "name": "stdout",
     "output_type": "stream",
     "text": [
      "Tokens Used: 82\n",
      "\tPrompt Tokens: 19\n",
      "\tCompletion Tokens: 63\n",
      "Successful Requests: 1\n",
      "Total Cost (USD): $0.00015450000000000001\n",
      "Total Tokens: 82\n"
     ]
    }
   ],
   "source": [
    "from langchain.llms import OpenAI\n",
    "from langchain.callbacks import get_openai_callback\n",
    "\n",
    "with get_openai_callback() as callback:\n",
    "    prompt = \"What is famous street foods in Seoul Korea in 200 characters\"\n",
    "    llm.invoke(prompt)\n",
    "    print(callback)\n",
    "    print(\"Total Tokens:\",callback.total_tokens)"
   ],
   "metadata": {
    "collapsed": false,
    "ExecuteTime": {
     "end_time": "2024-06-03T09:23:57.607326Z",
     "start_time": "2024-06-03T09:23:56.136828Z"
    }
   },
   "id": "c80dc866a5c85656"
  },
  {
   "cell_type": "code",
   "execution_count": 7,
   "outputs": [
    {
     "name": "stdout",
     "output_type": "stream",
     "text": [
      "content='Some famous street foods in Seoul, Korea include tteokbokki (spicy rice cakes), hotteok (sweet pancakes), odeng (fish cake skewers), and kimbap (seaweed rice rolls). These delicious snacks can be found at various street food stalls throughout the city.' response_metadata={'token_usage': {'completion_tokens': 62, 'prompt_tokens': 19, 'total_tokens': 81}, 'model_name': 'gpt-3.5-turbo', 'system_fingerprint': None, 'finish_reason': 'stop', 'logprobs': None} id='run-d33e4a41-a196-42f7-b47a-a4a1a927fb54-0'\n",
      "Total Tokens: 81\n",
      "content='Some famous street foods in Seoul, Korea include tteokbokki (spicy rice cakes), hotteok (sweet pancakes), odeng (fish cake skewers), and kimbap (seaweed rice rolls). These delicious snacks can be found at various street food stalls throughout the city.' response_metadata={'token_usage': {'completion_tokens': 62, 'prompt_tokens': 19, 'total_tokens': 81}, 'model_name': 'gpt-3.5-turbo', 'system_fingerprint': None, 'finish_reason': 'stop', 'logprobs': None} id='run-d33e4a41-a196-42f7-b47a-a4a1a927fb54-0'\n",
      "Total Tokens: 0\n"
     ]
    }
   ],
   "source": [
    "from langchain.llms import OpenAI\n",
    "from langchain.callbacks import get_openai_callback\n",
    "from langchain.globals import set_llm_cache\n",
    "from langchain.cache import InMemoryCache\n",
    "\n",
    "set_llm_cache(InMemoryCache())\n",
    "\n",
    "prompt = \"What is famous street foods in Seoul Korea in 200 characters\"\n",
    "\n",
    "with get_openai_callback() as callback:\n",
    "    response = llm.invoke(prompt)\n",
    "    print(response)\n",
    "    print(\"Total Tokens:\",callback.total_tokens)\n",
    "\n",
    "with get_openai_callback() as callback:\n",
    "    llm.invoke(prompt)\n",
    "    response = llm.invoke(prompt)\n",
    "    print(response)\n",
    "    print(\"Total Tokens:\",callback.total_tokens)"
   ],
   "metadata": {
    "collapsed": false,
    "ExecuteTime": {
     "end_time": "2024-06-03T09:27:36.382657Z",
     "start_time": "2024-06-03T09:27:34.731128Z"
    }
   },
   "id": "f64060bdb37fa006"
  },
  {
   "cell_type": "code",
   "execution_count": 9,
   "outputs": [
    {
     "name": "stdout",
     "output_type": "stream",
     "text": [
      "content='Tteokbokki, Kimbap, Hotteok, Odeng, Sundae, Twigim, and Japchae.' response_metadata={'token_usage': {'completion_tokens': 30, 'prompt_tokens': 22, 'total_tokens': 52}, 'model_name': 'gpt-3.5-turbo', 'system_fingerprint': None, 'finish_reason': 'stop', 'logprobs': None} id='run-76f69090-5d44-46a8-be2d-2fdefe25356f-0'\n",
      "Total Tokens: 52\n",
      "content='Tteokbokki, Kimbap, Hotteok, Odeng, Sundae, Twigim, Gyeranppang, Japchae, Gamjatang, Kkultteok, Gimbap, Mandu' response_metadata={'token_usage': {'completion_tokens': 52, 'prompt_tokens': 22, 'total_tokens': 74}, 'model_name': 'gpt-3.5-turbo', 'system_fingerprint': None, 'finish_reason': 'stop', 'logprobs': None} id='run-908c1f92-aeae-4360-b0ad-402a1350c001-0'\n",
      "Total Tokens: 74\n"
     ]
    }
   ],
   "source": [
    "# Memory cache example\n",
    "from langchain.llms import OpenAI\n",
    "from langchain.callbacks import get_openai_callback\n",
    "from langchain.globals import set_llm_cache\n",
    "from langchain.cache import InMemoryCache\n",
    "from langchain.globals import set_debug\n",
    "\n",
    "set_debug(False)\n",
    "\n",
    "llm2 = ChatOpenAI(cache=False)\n",
    "\n",
    "prompt = \"Please tell me about the famous street foods in Seoul Korea in 50 characters\"\n",
    "\n",
    "with get_openai_callback() as callback:\n",
    "    response = llm2.invoke(prompt)\n",
    "    print(response)\n",
    "    print(\"Total Tokens:\",callback.total_tokens)\n",
    "\n",
    "\n",
    "with get_openai_callback() as callback:\n",
    "    response = llm2.invoke(prompt)\n",
    "    print(response)\n",
    "    print(\"Total Tokens:\",callback.total_tokens)\n"
   ],
   "metadata": {
    "collapsed": false,
    "ExecuteTime": {
     "end_time": "2024-06-03T09:31:25.045070Z",
     "start_time": "2024-06-03T09:31:22.393791Z"
    }
   },
   "id": "b4fa7077dbefdcfe"
  },
  {
   "cell_type": "code",
   "execution_count": 31,
   "outputs": [
    {
     "name": "stdout",
     "output_type": "stream",
     "text": [
      "content='Some famous street foods in Seoul, Korea include tteokbokki (spicy rice cakes), hotteok (sweet pancakes), odeng (fish cake skewers), and kimbap (seaweed rice rolls). These delicious snacks can be found at bustling markets and food stalls throughout the city.'\n",
      "Total Tokens: 0\n",
      "content='Some famous street foods in Seoul, Korea include tteokbokki (spicy rice cakes), hotteok (sweet pancakes), odeng (fish cake skewers), and kimbap (seaweed rice rolls). These delicious snacks can be found at bustling markets and food stalls throughout the city.'\n",
      "Total Tokens: 0\n"
     ]
    }
   ],
   "source": [
    "# Redis cache example\n",
    "import os\n",
    "from langchain.llms import OpenAI\n",
    "from langchain.callbacks import get_openai_callback\n",
    "from langchain.globals import set_llm_cache\n",
    "from langchain.cache import RedisCache\n",
    "from redis import Redis\n",
    "from dotenv import load_dotenv\n",
    "\n",
    "load_dotenv(override=True)\n",
    "\n",
    "set_llm_cache(RedisCache(redis_=Redis(host=os.getenv(\"REDIS_INSTANCE_ADDRESS\"),\n",
    "    port=os.getenv(\"REDIS_INSTANCE_PORT\"),\n",
    "    password=os.getenv(\"REDIS_INSTANCE_PASSWORD\"))))\n",
    "\n",
    "prompt = \"What is famous street foods in Seoul Korea in 200 characters\"\n",
    "\n",
    "with get_openai_callback() as callback:\n",
    "    response = llm.invoke(prompt)\n",
    "    print(response)\n",
    "    print(\"Total Tokens:\",callback.total_tokens)\n",
    "\n",
    "with get_openai_callback() as callback:\n",
    "    llm.invoke(prompt)\n",
    "    response = llm.invoke(prompt)\n",
    "    print(response)\n",
    "    print(\"Total Tokens:\",callback.total_tokens)"
   ],
   "metadata": {
    "collapsed": false,
    "ExecuteTime": {
     "end_time": "2024-06-03T09:45:02.131924Z",
     "start_time": "2024-06-03T09:45:01.679464Z"
    }
   },
   "id": "7504277d5dad1e9d"
  },
  {
   "cell_type": "code",
   "execution_count": 38,
   "outputs": [
    {
     "name": "stdout",
     "output_type": "stream",
     "text": [
      "content='1. Tteokbokki (spicy rice cakes)\\n2. Kimbap (seaweed rice rolls)\\n3. Hotteok (sweet pancakes)\\n4. Odeng (fish cake skewers)\\n5. Japchae (stir-fried glass noodles)\\n6. Sundae (blood sausage)\\n7. Mandu (dumplings)\\n8. Twigim (deep-fried snacks)\\n9. Gyeranppang (egg bread)\\n10. Bungeoppang (fish-shaped pastry)' response_metadata={'token_usage': {'completion_tokens': 108, 'prompt_tokens': 22, 'total_tokens': 130}, 'model_name': 'gpt-3.5-turbo', 'system_fingerprint': None, 'finish_reason': 'stop', 'logprobs': None} id='run-99b45d4e-89c2-46f3-8c12-d978cad1361c-0'\n",
      "Total Tokens: 130\n",
      "content='1. Tteokbokki (spicy rice cakes)\\n2. Kimbap (seaweed rice rolls)\\n3. Hotteok (sweet pancakes)\\n4. Odeng (fish cake skewers)\\n5. Japchae (stir-fried glass noodles)\\n6. Sundae (blood sausage)\\n7. Mandu (dumplings)\\n8. Twigim (deep-fried snacks)\\n9. Gyeranppang (egg bread)\\n10. Bungeoppang (fish-shaped pastry)'\n",
      "Total Tokens: 0\n"
     ]
    }
   ],
   "source": [
    "# Redis cache example\n",
    "import os\n",
    "from langchain.llms import OpenAI\n",
    "from langchain.callbacks import get_openai_callback\n",
    "from langchain.globals import set_llm_cache\n",
    "from langchain.cache import RedisSemanticCache\n",
    "from redis import Redis\n",
    "from dotenv import load_dotenv\n",
    "from langchain.embeddings import OpenAIEmbeddings\n",
    "\n",
    "load_dotenv(override=True)\n",
    "\n",
    "redis_address = os.getenv(\"REDIS_INSTANCE_ADDRESS\")\n",
    "redis_password = os.getenv(\"REDIS_INSTANCE_PASSWORD\")\n",
    "redis_port = os.getenv(\"REDIS_INSTANCE_PORT\")\n",
    "\n",
    "set_llm_cache(RedisSemanticCache(\n",
    "    redis_url=f\"redis://default:{redis_password}@{redis_address}:{redis_port}\", \n",
    "    embedding=OpenAIEmbeddings())\n",
    ")\n",
    "\n",
    "prompt1 = \"What is top 10 famous street foods in Seoul Korea in 200 characters\"\n",
    "prompt2 = \"What is top 5 famous street foods in Seoul Korea in 200 characters\"\n",
    "\n",
    "with get_openai_callback() as callback:\n",
    "    response = llm.invoke(prompt1)\n",
    "    print(response)\n",
    "    print(\"Total Tokens:\",callback.total_tokens)\n",
    "\n",
    "with get_openai_callback() as callback:\n",
    "    llm.invoke(prompt)\n",
    "    response = llm.invoke(prompt2)\n",
    "    print(response)\n",
    "    print(\"Total Tokens:\",callback.total_tokens)"
   ],
   "metadata": {
    "collapsed": false,
    "ExecuteTime": {
     "end_time": "2024-06-03T09:52:52.427471Z",
     "start_time": "2024-06-03T09:52:46.851803Z"
    }
   },
   "id": "47646a715fec24c9"
  },
  {
   "cell_type": "code",
   "execution_count": 48,
   "outputs": [
    {
     "name": "stdout",
     "output_type": "stream",
     "text": [
      "In Seoul, South Korea, the top 3 popular tourist spots are:\n",
      "\n",
      "1. Gyeongbokgung Palace: This historic palace is one of the most iconic landmarks in Seoul, offering visitors a glimpse into Korea's royal past with its stunning architecture and beautiful gardens.\n",
      "\n",
      "2. Myeongdong: This bustling shopping district is a favorite among tourists for its trendy boutiques, street food stalls, and vibrant atmosphere. It's a great place to shop for fashion, cosmetics, and souvenirs.\n",
      "\n",
      "3. N Seoul Tower: Located on Namsan Mountain, N Seoul Tower offers panoramic views of the city skyline and is a popular spot for couples and families to visit. You can take a cable car or hike up to the tower for a memorable experience.\n",
      "\n",
      "These are just a few of the many attractions Seoul has to offer. Let me know if you need more information or assistance in planning your trip to Seoul!\n"
     ]
    }
   ],
   "source": [
    "from langchain.chat_models import ChatOpenAI\n",
    "from langchain.schema.messages import HumanMessage, SystemMessage, AIMessage\n",
    "\n",
    "set_llm_cache(None)\n",
    "\n",
    "messages = [\n",
    "    SystemMessage(content=\"You are the travel agent. You can provide travel itinery to the user\"),\n",
    "    HumanMessage(content=\"Where is the top 3 popular space for tourist in Seoul?\"),\n",
    "]\n",
    "\n",
    "\n",
    "aiMessage=llm.invoke(messages)\n",
    "print(aiMessage.content)"
   ],
   "metadata": {
    "collapsed": false,
    "ExecuteTime": {
     "end_time": "2024-06-03T10:36:55.670260Z",
     "start_time": "2024-06-03T10:36:51.949004Z"
    }
   },
   "id": "49604317d9671eb"
  },
  {
   "cell_type": "code",
   "execution_count": 49,
   "outputs": [
    {
     "name": "stdout",
     "output_type": "stream",
     "text": [
      "------------------------------\n",
      "To visit the top 3 popular tourist spots in Seoul - Gyeongbokgung Palace, Myeongdong, and N Seoul Tower - you can use a combination of public transportation options such as the subway, buses, and taxis. Here's a suggested transportation plan for visiting these places:\n",
      "\n",
      "1. Gyeongbokgung Palace:\n",
      "- Take the subway to Gyeongbokgung Station (Line 3) or Gwanghwamun Station (Line 5).\n",
      "- From the station, it's a short walk to the palace entrance. You can also take a taxi if you prefer.\n",
      "\n",
      "2. Myeongdong:\n",
      "- Take the subway to Myeongdong Station (Line 4).\n",
      "- Myeongdong is a bustling area that is best explored on foot. You can easily walk around the shopping district and explore the various shops and street food stalls.\n",
      "\n",
      "3. N Seoul Tower:\n",
      "- Take the subway to Myeongdong Station (Line 4) and transfer to the Namsan Cable Car or Namsan Sunhwan Shuttle Bus to reach N Seoul Tower.\n",
      "- Alternatively, you can take a taxi to the base of Namsan Mountain and then hike up to the tower for a more adventurous experience.\n",
      "\n",
      "Using public transportation is a convenient and cost-effective way to get around Seoul and explore its popular tourist attractions. If you prefer a more guided experience, you can also consider booking a guided tour or hiring a private car service for your sightseeing itinerary. Let me know if you need more detailed directions or assistance with transportation options!\n",
      "------------------------------\n",
      "Total Tokens: 564\n"
     ]
    }
   ],
   "source": [
    "# Append AIMessages into Chat History\n",
    "messages.append(aiMessage)\n",
    "print(\"-\"*30)\n",
    "\n",
    "# Add new conversation\n",
    "with get_openai_callback() as callback:\n",
    "    messages.append(HumanMessage(content=\"Which transport can I use to visit the places?\"))\n",
    "    aiMessage=llm.invoke(messages)\n",
    "    print(aiMessage.content)\n",
    "    print(\"-\"*30)\n",
    "    print(\"Total Tokens:\",callback.total_tokens)"
   ],
   "metadata": {
    "collapsed": false,
    "ExecuteTime": {
     "end_time": "2024-06-03T10:37:12.896198Z",
     "start_time": "2024-06-03T10:37:07.765126Z"
    }
   },
   "id": "4de0610aae243da1"
  },
  {
   "cell_type": "code",
   "execution_count": 50,
   "outputs": [
    {
     "name": "stdout",
     "output_type": "stream",
     "text": [
      "1. Gyeongbokgung Palace - A must-visit historical site in Seoul, Gyeongbokgung Palace is the largest of the Five Grand Palaces built during the Joseon Dynasty. Visitors can explore the beautiful architecture, gardens, and learn about Korea's royal history.\n",
      "\n",
      "2. Myeongdong - Known as one of Seoul's main shopping districts, Myeongdong is a bustling area filled with shops, restaurants, street food vendors, and entertainment options. It is a popular destination for both locals and tourists looking for trendy fashion, cosmetics, and unique souvenirs.\n",
      "\n",
      "3. N Seoul Tower - Located on Namsan Mountain, N Seoul Tower offers panoramic views of the city skyline and is a popular spot for tourists to take in the sights. Visitors can also enjoy the various attractions at the tower, including restaurants, cafes, and the famous \"love locks\" where couples can leave a symbol of their love.\n",
      "--------------------\n",
      "To visit the top 3 popular tourist spots in Seoul, you can use a combination of public transportation options such as:\n",
      "\n",
      "1. Subway: The Seoul Metropolitan Subway system is one of the most convenient and efficient ways to travel around the city. Gyeongbokgung Palace, Myeongdong, and N Seoul Tower are all easily accessible by subway. You can take Line 3 to Gyeongbokgung Station for the palace, Line 4 to Myeongdong Station for Myeongdong, and Line 4 to Myeongdong Station or Line 3 to Chungmuro Station for N Seoul Tower.\n",
      "\n",
      "2. Bus: Seoul has an extensive bus network that covers most areas of the city. You can take a bus to reach Gyeongbokgung Palace, Myeongdong, and N Seoul Tower as well. Be sure to check the bus routes and schedules in advance.\n",
      "\n",
      "3. Taxi: Taxis are readily available in Seoul and can be a convenient option for getting to your desired destinations quickly. However, keep in mind that traffic congestion can be an issue during peak hours.\n",
      "\n",
      "4. Walking: Depending on your location and preferences, you may also choose to explore these tourist spots on foot, especially if they are within walking distance from each other. This can be a great way to soak in the sights and sounds of the city.\n"
     ]
    }
   ],
   "source": [
    "#ChatMessageHistory is used if you are managing memory outside of a chian directly\n",
    "from langchain.memory import ChatMessageHistory\n",
    "\n",
    "history = ChatMessageHistory()\n",
    "\n",
    "history.add_user_message(\"Where is the top 3 popular space for tourist in Seoul?\")\n",
    "aiMessage = llm.invoke(history.messages)\n",
    "\n",
    "history.add_ai_message(aiMessage.content)\n",
    "print(aiMessage.content)\n",
    "print(\"-\"*20)\n",
    "\n",
    "history.add_user_message(\"Which transport can I use to visit the places?\")\n",
    "aiMessage = llm.invoke(history.messages)\n",
    "history.add_ai_message(aiMessage.content)\n",
    "print(aiMessage.content)"
   ],
   "metadata": {
    "collapsed": false,
    "ExecuteTime": {
     "end_time": "2024-06-03T10:39:16.215610Z",
     "start_time": "2024-06-03T10:39:07.416641Z"
    }
   },
   "id": "967f8f4d767b8946"
  },
  {
   "cell_type": "code",
   "execution_count": 52,
   "outputs": [
    {
     "name": "stdout",
     "output_type": "stream",
     "text": [
      "Tell me a famous place in seoul in 300 characters.\n",
      "content=\"Gyeongbokgung Palace is a famous historical site in Seoul, South Korea. Built in 1395, it served as the main royal palace of the Joseon dynasty. Visitors can explore the beautiful architecture, traditional Korean gardens, and learn about the country's rich history.\" response_metadata={'token_usage': {'completion_tokens': 58, 'prompt_tokens': 20, 'total_tokens': 78}, 'model_name': 'gpt-3.5-turbo', 'system_fingerprint': None, 'finish_reason': 'stop', 'logprobs': None} id='run-df65c33e-f4b0-41cc-be27-7824810ec148-0'\n",
      "Tell me a popular reastaurant in San francisco in 300 characters.\n",
      "content='One of the most popular restaurants in San Francisco is Gary Danko, known for its upscale dining experience and innovative American cuisine. With a Michelin-starred chef at the helm, guests can enjoy a multi-course tasting menu or choose from a variety of a la carte options. Reservations are highly recommended.' response_metadata={'token_usage': {'completion_tokens': 61, 'prompt_tokens': 23, 'total_tokens': 84}, 'model_name': 'gpt-3.5-turbo', 'system_fingerprint': None, 'finish_reason': 'stop', 'logprobs': None} id='run-01c2fa2f-2313-4bf6-a21d-e837f7884f39-0'\n"
     ]
    }
   ],
   "source": [
    "from langchain import PromptTemplate\n",
    "from langchain.llms import OpenAI\n",
    "\n",
    "template = PromptTemplate.from_template(\n",
    "    \"Tell me a {adjective} {topic} in {city} in 300 characters.\"\n",
    ")\n",
    "\n",
    "prompt= template.format(adjective=\"famous\", topic=\"place\", city=\"seoul\")\n",
    "\n",
    "print(prompt)\n",
    "print(llm.invoke(prompt))\n",
    "\n",
    "prompt = template.format(adjective=\"popular\", topic=\"reastaurant\", city=\"San francisco\")\n",
    "\n",
    "print(prompt)\n",
    "print(llm.invoke(prompt))"
   ],
   "metadata": {
    "collapsed": false,
    "ExecuteTime": {
     "end_time": "2024-06-03T10:58:28.767423Z",
     "start_time": "2024-06-03T10:58:25.731642Z"
    }
   },
   "id": "d1e9a7f2491344cb"
  },
  {
   "cell_type": "code",
   "execution_count": 53,
   "outputs": [],
   "source": [
    "from langchain import PromptTemplate\n",
    "\n",
    "template = PromptTemplate.from_template(\n",
    "    \"Tell me a {adjective} {topic} in {city} in 300 characters.\"\n",
    ")\n",
    "\n",
    "template.save(\"template.json\")"
   ],
   "metadata": {
    "collapsed": false,
    "ExecuteTime": {
     "end_time": "2024-06-03T11:00:21.275893Z",
     "start_time": "2024-06-03T11:00:21.273222Z"
    }
   },
   "id": "95535f0815c68c41"
  },
  {
   "cell_type": "code",
   "execution_count": 54,
   "outputs": [
    {
     "name": "stdout",
     "output_type": "stream",
     "text": [
      "Tell me a popular cafe in San francisco in 300 characters.\n"
     ]
    }
   ],
   "source": [
    "from langchain.prompts import load_prompt\n",
    "\n",
    "loaded_template = load_prompt(\"template.json\")\n",
    "prompt = loaded_template.format(adjective=\"popular\", topic=\"cafe\", city=\"San francisco\")\n",
    "print(prompt)"
   ],
   "metadata": {
    "collapsed": false,
    "ExecuteTime": {
     "end_time": "2024-06-03T11:01:48.121042Z",
     "start_time": "2024-06-03T11:01:48.118605Z"
    }
   },
   "id": "c5d12990490e5ac1"
  },
  {
   "cell_type": "code",
   "execution_count": 55,
   "outputs": [
    {
     "name": "stdout",
     "output_type": "stream",
     "text": [
      "Prompt : [SystemMessage(content='You are a tour guide.'), HumanMessage(content=\"I'm planning to visit Korea.\"), AIMessage(content=\"I'm tour guide for Korea.\"), HumanMessage(content='What is top5 best place to go there?')]\n",
      "------------------------------\n",
      "content='1. Seoul: The capital city of South Korea, Seoul is a vibrant metropolis with a mix of modern skyscrapers and historic sites such as Gyeongbokgung Palace and Bukchon Hanok Village.\\n\\n2. Jeju Island: Known for its stunning natural beauty, Jeju Island offers visitors picturesque beaches, volcanic landscapes, and unique attractions like the Manjanggul Lava Tube and Seongsan Ilchulbong Peak.\\n\\n3. Gyeongju: Often referred to as the \"museum without walls,\" Gyeongju is a city rich in history and culture, with ancient temples, burial mounds, and artifacts dating back to the Silla Dynasty.\\n\\n4. Busan: South Korea\\'s second-largest city, Busan is a bustling port city with beautiful beaches, vibrant markets like Jagalchi Fish Market, and cultural attractions such as Beomeosa Temple and Gamcheon Culture Village.\\n\\n5. DMZ (Demilitarized Zone): For a unique and sobering experience, consider visiting the DMZ, a buffer zone between North and South Korea that offers a glimpse into the divided Korean peninsula through tours of landmarks like the Joint Security Area and Dora Observatory.' response_metadata={'token_usage': {'completion_tokens': 245, 'prompt_tokens': 49, 'total_tokens': 294}, 'model_name': 'gpt-3.5-turbo', 'system_fingerprint': None, 'finish_reason': 'stop', 'logprobs': None} id='run-c5a05b4d-f429-49b0-af88-0c42e77a4887-0'\n"
     ]
    }
   ],
   "source": [
    "from langchain.chat_models import ChatOpenAI\n",
    "from langchain.prompts import ChatPromptTemplate\n",
    "\n",
    "chat_template = ChatPromptTemplate.from_messages(\n",
    "    [\n",
    "        (\"system\",\"You are a tour guide.\"),\n",
    "        (\"human\",\"I'm planning to visit {Country}.\"),\n",
    "        (\"ai\",\"I'm tour guide for {Country}.\"),\n",
    "        (\"human\",\"{user_input}\")\n",
    "    ]\n",
    ")\n",
    "\n",
    "prompt = chat_template.format_messages(Country=\"Korea\",user_input=\"What is top5 best place to go there?\")\n",
    "\n",
    "print(\"Prompt :\",prompt)\n",
    "print(\"-\"*30)\n",
    "\n",
    "aiMessage=llm.invoke(prompt)\n",
    "print(aiMessage)"
   ],
   "metadata": {
    "collapsed": false,
    "ExecuteTime": {
     "end_time": "2024-06-03T11:03:33.445442Z",
     "start_time": "2024-06-03T11:03:28.727826Z"
    }
   },
   "id": "2a8bce0c9162d7da"
  },
  {
   "cell_type": "code",
   "execution_count": 56,
   "outputs": [
    {
     "data": {
      "text/plain": "'You are tour guide for KoreaPlease tell me about famous place to visit in Korea'"
     },
     "execution_count": 56,
     "metadata": {},
     "output_type": "execute_result"
    }
   ],
   "source": [
    "from langchain.prompts import PromptTemplate\n",
    "\n",
    "role_prompt = PromptTemplate.from_template(\"You are tour guide for {country}\")\n",
    "question_prompt = PromptTemplate.from_template(\"Please tell me about {interest} in {country}\")\n",
    "\n",
    "full_prompt=role_prompt + question_prompt\n",
    "full_prompt.format(country=\"Korea\",interest=\"famous place to visit\")"
   ],
   "metadata": {
    "collapsed": false,
    "ExecuteTime": {
     "end_time": "2024-06-03T11:05:05.725637Z",
     "start_time": "2024-06-03T11:05:05.722991Z"
    }
   },
   "id": "95eeb8060273cd0f"
  },
  {
   "cell_type": "code",
   "execution_count": 57,
   "outputs": [
    {
     "name": "stdout",
     "output_type": "stream",
     "text": [
      "\n",
      "    You are tour guide for Korea\n",
      "    Please tell me about famous place to visit in Korea\n",
      "    Please do not reply with anything other than information related to travel to Korea and reply 'I cannot answer.'\n"
     ]
    }
   ],
   "source": [
    "from langchain.prompts.pipeline import PipelinePromptTemplate\n",
    "from langchain.prompts import PromptTemplate\n",
    "\n",
    "full_template =\"\"\"\n",
    "    {role}\n",
    "    {question}\n",
    "    Please do not reply with anything other than information related to travel to {country} and reply 'I cannot answer.'\n",
    "\"\"\"\n",
    "\n",
    "full_prompt = PromptTemplate.from_template(full_template)\n",
    "role_prompt = PromptTemplate.from_template(\"You are tour guide for {country}\")\n",
    "question_prompt = PromptTemplate.from_template(\"Please tell me about {interest} in {country}\")\n",
    "\n",
    "\n",
    "\n",
    "# composition\n",
    "input_prompts = [\n",
    "    (\"role\",role_prompt),\n",
    "    (\"question\",question_prompt)\n",
    "]\n",
    "\n",
    "pipeline_prompt = PipelinePromptTemplate(final_prompt=full_prompt,pipeline_prompts=input_prompts)\n",
    "\n",
    "prompt_text = pipeline_prompt.format(\n",
    "    country=\"Korea\",\n",
    "    interest=\"famous place to visit\"\n",
    ")\n",
    "\n",
    "\n",
    "print(prompt_text)"
   ],
   "metadata": {
    "collapsed": false,
    "ExecuteTime": {
     "end_time": "2024-06-03T11:08:31.181996Z",
     "start_time": "2024-06-03T11:08:31.176592Z"
    }
   },
   "id": "fa037cbcd2e5c89f"
  },
  {
   "cell_type": "code",
   "execution_count": 58,
   "outputs": [
    {
     "name": "stdout",
     "output_type": "stream",
     "text": [
      "What is famous food in Seoul?\n"
     ]
    }
   ],
   "source": [
    "from langchain.prompts import PromptTemplate\n",
    "\n",
    "prompt = PromptTemplate(template=\"What is famous {topic} in {city}?\",input_variables=[\"topic\",\"city\"])\n",
    "partial_prompt = prompt.partial(city=\"Seoul\")\n",
    "print(partial_prompt.format(topic=\"food\"))"
   ],
   "metadata": {
    "collapsed": false,
    "ExecuteTime": {
     "end_time": "2024-06-03T11:09:52.814473Z",
     "start_time": "2024-06-03T11:09:52.811672Z"
    }
   },
   "id": "6b2490deded7b4f8"
  },
  {
   "cell_type": "code",
   "execution_count": 59,
   "outputs": [
    {
     "name": "stdout",
     "output_type": "stream",
     "text": [
      "What is famous food in seoul?\n"
     ]
    }
   ],
   "source": [
    "from langchain.prompts import PromptTemplate\n",
    "\n",
    "prompt = PromptTemplate(template=\"What is famous {topic} in {city}?\",input_variables=[\"topic\"],partial_variables={\"city\":\"seoul\"})\n",
    "\n",
    "print(prompt.format(topic=\"food\"))"
   ],
   "metadata": {
    "collapsed": false,
    "ExecuteTime": {
     "end_time": "2024-06-03T11:10:56.308671Z",
     "start_time": "2024-06-03T11:10:56.305619Z"
    }
   },
   "id": "729ab5cb9a78686b"
  },
  {
   "cell_type": "code",
   "execution_count": 60,
   "outputs": [
    {
     "name": "stdout",
     "output_type": "stream",
     "text": [
      "20 What is the category of this food?\n",
      "\n",
      "Food:Kimchi Category:Korean food\n",
      "\n",
      "Food:Chocolate Category:dessert\n",
      "\n",
      "Food:Pasta Category:Italian food\n",
      "\n",
      "Food:Americano Category:Coffee\n",
      "\n",
      "Food: Korean BBQ\n"
     ]
    }
   ],
   "source": [
    "from langchain.prompts import FewShotPromptTemplate, PromptTemplate\n",
    "from langchain.prompts.example_selector import LengthBasedExampleSelector\n",
    "\n",
    "\n",
    "examples = [\n",
    "    {\"food\":\"Kimchi\",\"category\":\"Korean food\"},\n",
    "    {\"food\":\"Chocolate\",\"category\":\"dessert\"},\n",
    "    {\"food\":\"Pasta\",\"category\":\"Italian food\"},\n",
    "    {\"food\":\"Americano\",\"category\":\"Coffee\"}\n",
    "]\n",
    "\n",
    "example_prompt = PromptTemplate(template=\"Food:{food} Category:{category}\",\n",
    "    input_variables=[\"food\",\"category\"])\n",
    "\n",
    "example_selector = LengthBasedExampleSelector(examples = examples, example_prompt=example_prompt,max_length=30)\n",
    "\n",
    "dynamic_prompt = FewShotPromptTemplate(\n",
    "    example_selector = example_selector,\n",
    "    example_prompt = example_prompt,\n",
    "    prefix = \"What is the category of this food?\",\n",
    "    suffix = \"Food: {food}\",\n",
    "    input_variables = [\"food\"]\n",
    ")\n",
    "\n",
    "output=dynamic_prompt.format(food=\"Korean BBQ\")\n",
    "print(len(output.split()),output)"
   ],
   "metadata": {
    "collapsed": false,
    "ExecuteTime": {
     "end_time": "2024-06-04T07:21:47.307075Z",
     "start_time": "2024-06-04T07:21:47.303916Z"
    }
   },
   "id": "a01b7f337492bc77"
  },
  {
   "cell_type": "code",
   "execution_count": 61,
   "outputs": [
    {
     "name": "stdout",
     "output_type": "stream",
     "text": [
      "37 What is the category of this food?\n",
      "\n",
      "Food:Kimchi Category:Korean food\n",
      "\n",
      "Food:Chocolate Category:dessert\n",
      "\n",
      "Food:Pasta Category:Italian food\n",
      "\n",
      "Food: Korean BBQ: Grilled meat, vibrant flavors, charcoal aroma. \n",
      "Tradition meets friends and family in a delightful dining experience, creating lasting memories.\n"
     ]
    }
   ],
   "source": [
    "output=dynamic_prompt.format(food=\"\"\"Korean BBQ: Grilled meat, vibrant flavors, charcoal aroma. \n",
    "Tradition meets friends and family in a delightful dining experience, creating lasting memories.\n",
    "\"\"\")\n",
    "\n",
    "print(len(output.split()),output)"
   ],
   "metadata": {
    "collapsed": false,
    "ExecuteTime": {
     "end_time": "2024-06-04T07:23:50.765340Z",
     "start_time": "2024-06-04T07:23:50.763289Z"
    }
   },
   "id": "8d44508eb79a9f17"
  },
  {
   "cell_type": "code",
   "execution_count": 63,
   "outputs": [
    {
     "name": "stdout",
     "output_type": "stream",
     "text": [
      "What is the category in the food? .\n",
      "\n",
      "Food:Kimchi is my favorite food. Category:Korean food\n",
      "\n",
      "Food:I love pasta; it's my favorite comfort food after work. Category:Italian food\n",
      "\n",
      "Food: Sushi is my favorite choice for party food\n"
     ]
    }
   ],
   "source": [
    "from langchain.prompts import FewShotPromptTemplate, PromptTemplate\n",
    "from langchain.prompts.example_selector.ngram_overlap import NGramOverlapExampleSelector\n",
    "\n",
    "\n",
    "examples = [\n",
    "    {\"food\":\"Kimchi is my favorite food.\",\"category\":\"Korean food\"},\n",
    "    {\"food\":\"Chocolate is easy to gain weight food.\",\"category\":\"dessert\"},\n",
    "    {\"food\":\"I love pasta; it's my favorite comfort food after work.\",\"category\":\"Italian food\"},\n",
    "    {\"food\":\"Sipping an Americano, contemplating weight, a mindful morning routine begins.\",\"category\":\"Coffee\"}\n",
    "]\n",
    "\n",
    "example_prompt = PromptTemplate(template=\"Food:{food} Category:{category}\", input_variables=[\"food\",\"category\"])\n",
    "\n",
    "example_selector = NGramOverlapExampleSelector(examples = examples, example_prompt=example_prompt,threshold=0)\n",
    "\n",
    "dynamic_prompt = FewShotPromptTemplate(\n",
    "    example_selector = example_selector,\n",
    "    example_prompt = example_prompt,\n",
    "    prefix = \"What is the category in the food? .\",\n",
    "    suffix = \"Food: {food}\",\n",
    "    input_variables = [\"food\"]\n",
    ")\n",
    "\n",
    "output=dynamic_prompt.format(food=\"Sushi is my favorite choice for party food\")\n",
    "print(output)"
   ],
   "metadata": {
    "collapsed": false,
    "ExecuteTime": {
     "end_time": "2024-06-04T07:31:14.778860Z",
     "start_time": "2024-06-04T07:31:14.774301Z"
    }
   },
   "id": "eeaadcb097f341cb"
  },
  {
   "cell_type": "code",
   "execution_count": 64,
   "outputs": [
    {
     "name": "stdout",
     "output_type": "stream",
     "text": [
      "What is the category of the input? .\n",
      "\n",
      "Input:BBQ Category:food\n",
      "\n",
      "input: Sushi\n"
     ]
    }
   ],
   "source": [
    "from langchain.embeddings import OpenAIEmbeddings\n",
    "from langchain.prompts import FewShotPromptTemplate, PromptTemplate\n",
    "from langchain.prompts.example_selector import SemanticSimilarityExampleSelector\n",
    "from langchain.vectorstores import Chroma\n",
    "import os\n",
    "\n",
    "\n",
    "examples = [\n",
    "    {\"input\":\"Happy.\",\"category\":\"emotion\"},\n",
    "    {\"input\":\"BBQ\",\"category\":\"food\"},\n",
    "    {\"input\":\"Golf\",\"category\":\"Sports\"},\n",
    "    {\"input\":\"Student\",\"category\":\"Person\"}\n",
    "]\n",
    "\n",
    "example_prompt = PromptTemplate(template=\"Input:{input} Category:{category}\", input_variables=[\"input\",\"category\"])\n",
    "\n",
    "example_selector = SemanticSimilarityExampleSelector.from_examples(examples, OpenAIEmbeddings(),Chroma,k=1,)\n",
    "\n",
    "dynamic_prompt = FewShotPromptTemplate(\n",
    "    example_selector = example_selector,\n",
    "    example_prompt = example_prompt,\n",
    "    prefix = \"What is the category of the input? .\",\n",
    "    suffix = \"input: {input}\",\n",
    "    input_variables = [\"input\"]\n",
    ")\n",
    "\n",
    "output=dynamic_prompt.format(input=\"Sushi\")\n",
    "print(output)"
   ],
   "metadata": {
    "collapsed": false,
    "ExecuteTime": {
     "end_time": "2024-06-04T07:36:29.701604Z",
     "start_time": "2024-06-04T07:36:27.116654Z"
    }
   },
   "id": "c14c62b0a2f66e95"
  },
  {
   "cell_type": "code",
   "execution_count": 66,
   "outputs": [
    {
     "name": "stderr",
     "output_type": "stream",
     "text": [
      "Number of requested results 20 is greater than number of elements in index 14, updating n_results = 14\n"
     ]
    },
    {
     "name": "stdout",
     "output_type": "stream",
     "text": [
      "Input:Please summarize the weather news.\n",
      " Summary:Today's weather: Sunny skies, mild temperatures, and a gentle breeze. Enjoy the pleasant conditions throughout the day!\n",
      "\n",
      "Input:What is stock market trend?\n",
      " Summary:Investor optimism grows amid easing global trade tensions\n",
      "\n",
      "input: I want to know the economy trends and weather this week.\n",
      "Summary:\n"
     ]
    }
   ],
   "source": [
    "\n",
    "from langchain.embeddings import OpenAIEmbeddings\n",
    "from langchain.prompts import FewShotPromptTemplate, PromptTemplate\n",
    "from langchain.prompts.example_selector import (\n",
    "    MaxMarginalRelevanceExampleSelector,\n",
    "    SemanticSimilarityExampleSelector,\n",
    ")\n",
    "from langchain.vectorstores import Chroma\n",
    "\n",
    "\n",
    "\n",
    "examples = [\n",
    "    {\"input\":\"Please summarize the weather news.\\n\"\n",
    "    ,\"summary\":\"Today's weather: Sunny skies, mild temperatures,\"\\\n",
    "    \" and a gentle breeze. Enjoy the pleasant conditions throughout the day!\"},\n",
    "    {\"input\":\"Please summarize the economy news.\\n\",\"summary\":\"Global stocks rise on positive economic data;\"\\\n",
    "    \"inflation concerns persist. Tech sector outperforms; central banks closely monitor.\"},\n",
    "    {\"input\":\"Please summarize retail news.\\n\",\"summary\":\"Major retailer announces record-breaking sales during holiday shopping season\"},\n",
    "    {\"input\":\"What is stock market trend?\\n\",\"summary\":\"Investor optimism grows amid easing global trade tensions\"},\n",
    "    {\"input\":\"Typhoon related news.\\n\",\"summary\":\"IAirports and schools close ahead of approaching typhoon threat\"},\n",
    "]\n",
    "example_prompt = PromptTemplate(template=\"Input:{input} Summary:{summary}\", input_variables=[\"input\",\"summary\"])\n",
    "\n",
    "example_selector = MaxMarginalRelevanceExampleSelector.from_examples(examples, OpenAIEmbeddings(),Chroma,k=2,)\n",
    "\n",
    "dynamic_prompt = FewShotPromptTemplate(\n",
    "    example_selector = example_selector,\n",
    "    example_prompt = example_prompt,\n",
    "    suffix = \"input: {input}\\nSummary:\",\n",
    "    prefix = \"\",\n",
    "    input_variables = [\"input\"]\n",
    ")\n",
    "output=dynamic_prompt.format(input=\"I want to know the economy trends and weather this week.\")\n",
    "print(output)"
   ],
   "metadata": {
    "collapsed": false,
    "ExecuteTime": {
     "end_time": "2024-06-04T07:44:27.314862Z",
     "start_time": "2024-06-04T07:44:26.297350Z"
    }
   },
   "id": "8d4d97e4ecec8f31"
  },
  {
   "cell_type": "code",
   "execution_count": 71,
   "outputs": [
    {
     "name": "stderr",
     "output_type": "stream",
     "text": [
      "/Users/jeongmin/PycharmProjects/langchain-practice/venv/lib/python3.9/site-packages/datasets/load.py:1491: FutureWarning: The repository for wikipedia contains custom code which must be executed to correctly load the dataset. You can inspect the repository content at https://hf.co/datasets/wikipedia\n",
      "You can avoid this message in future by passing the argument `trust_remote_code=True`.\n",
      "Passing `trust_remote_code=True` will be mandatory to load this dataset from the next major release of `datasets`.\n",
      "  warnings.warn(\n"
     ]
    },
    {
     "data": {
      "text/plain": "  0%|          | 0/100 [00:00<?, ?it/s]",
      "application/vnd.jupyter.widget-view+json": {
       "version_major": 2,
       "version_minor": 0,
       "model_id": "32f1a69d889145989f91c6fd9a9f1f49"
      }
     },
     "metadata": {},
     "output_type": "display_data"
    }
   ],
   "source": [
    "from tqdm.auto import tqdm\n",
    "from uuid import uuid4\n",
    "from datasets import load_dataset\n",
    "from pinecone import Pinecone, ServerlessSpec\n",
    "import openai\n",
    "import os\n",
    "from langchain.text_splitter import RecursiveCharacterTextSplitter\n",
    "from langchain.embeddings.openai import OpenAIEmbeddings\n",
    "\n",
    "load_dotenv(override=True)\n",
    "\n",
    "# Load dataset\n",
    "data = load_dataset(\"wikipedia\", \"20220301.simple\", split='train[:100]')\n",
    "\n",
    "pinecone_api_key = os.getenv(\"PINECONE_API_KEY\")\n",
    "#Connect database\n",
    "pc = Pinecone(\n",
    "    api_key=os.environ.get(\"PINECONE_API_KEY\")\n",
    ")\n",
    "\n",
    "#pinecone.create_index(\"terry-wiki\",dimension=1536,metric=\"cosine\")\n",
    "index = pc.Index(\"ethan-wiki\")\n",
    "\n",
    "\n",
    "#create embedding API\n",
    "embedding = OpenAIEmbeddings()\n",
    "\n",
    "\n",
    "# create text splitter\n",
    "text_splitter = RecursiveCharacterTextSplitter(\n",
    "    # Set a really small chunk size, just to show.\n",
    "    chunk_size=400,\n",
    "    chunk_overlap=20,\n",
    "    length_function=len,\n",
    "    separators=[\"\\n\\n\", \"\\n\", \" \", \"\"]\n",
    ")\n",
    "\n",
    "# Upsert records\n",
    "batch_size = 100\n",
    "texts = []\n",
    "metadatas = []\n",
    "count = 0\n",
    "\n",
    "\n",
    "for i, record in enumerate(tqdm(data)):\n",
    "    # first get metadata fields for this record\n",
    "    metadata = {\n",
    "        'wiki-id': str(record['id']),\n",
    "        'source': record['url'],\n",
    "        'title': record['title']\n",
    "    }\n",
    "\n",
    "    # create text chunk and metadata \n",
    "    full_text = record['text']\n",
    "    text_chunks = text_splitter.split_text(full_text)\n",
    "    for i,text in enumerate(text_chunks): # max medatada size is 40K\n",
    "        record = {\n",
    "            \"chunk\":i,\n",
    "            \"text\":full_text,\n",
    "            **metadata\n",
    "        }\n",
    "        metadatas.append(record)\n",
    "        texts.append(text)\n",
    "        count = count + 1\n",
    "        if count > batch_size: # flush batch insert\n",
    "            ids = [str(uuid4()) for _ in range(len(texts))]\n",
    "            embeds = embedding.embed_documents(texts)\n",
    "            try:\n",
    "                index.upsert(vectors=zip(ids,embeds,metadatas))\n",
    "                #flush buffers\n",
    "                texts = []\n",
    "                metadatas = []\n",
    "                count = 0\n",
    "            except Exception as e:\n",
    "                print(e) # ignore exception\n",
    "                print(\"retry\")\n",
    "                time.sleep(1) # wait 1 sec for retry"
   ],
   "metadata": {
    "collapsed": false,
    "ExecuteTime": {
     "end_time": "2024-06-04T08:27:53.253595Z",
     "start_time": "2024-06-04T08:27:12.199784Z"
    }
   },
   "id": "b0f160c587e8a375"
  },
  {
   "cell_type": "code",
   "execution_count": 72,
   "outputs": [
    {
     "name": "stdout",
     "output_type": "stream",
     "text": [
      "5f46e8ec-d0f1-4b00-8774-8f5fc1fde4c4 0.878542185 Cuba\n",
      "Cuba is an island country in the Caribbean Sea. The country is made up of the big island of Cuba, the Isla de la Juventud island (Isle of Youth), and many smaller islands. Havana is the capital of Cuba. It is the largest city. The second largest city is Santiago de Cuba. In Spanish, the capital is called \"La Habana\". Cuba is near the United States, Mexico, Haiti, Jamaica and the Bahamas. People from Cuba are called Cubans (cubanos in Spanish). The official language is Spanish. Cuba is warm all y ....\n",
      "\n",
      "\n",
      "82ce5a99-c772-4bfa-8281-34249dfd9cfc 0.859715343 Cuba\n",
      "Cuba is an island country in the Caribbean Sea. The country is made up of the big island of Cuba, the Isla de la Juventud island (Isle of Youth), and many smaller islands. Havana is the capital of Cuba. It is the largest city. The second largest city is Santiago de Cuba. In Spanish, the capital is called \"La Habana\". Cuba is near the United States, Mexico, Haiti, Jamaica and the Bahamas. People from Cuba are called Cubans (cubanos in Spanish). The official language is Spanish. Cuba is warm all y ....\n",
      "\n",
      "\n",
      "418545a7-f358-4667-b941-9ecd904eab5d 0.840268135 Cuba\n",
      "Cuba is an island country in the Caribbean Sea. The country is made up of the big island of Cuba, the Isla de la Juventud island (Isle of Youth), and many smaller islands. Havana is the capital of Cuba. It is the largest city. The second largest city is Santiago de Cuba. In Spanish, the capital is called \"La Habana\". Cuba is near the United States, Mexico, Haiti, Jamaica and the Bahamas. People from Cuba are called Cubans (cubanos in Spanish). The official language is Spanish. Cuba is warm all y ....\n"
     ]
    }
   ],
   "source": [
    "\n",
    "import pinecone\n",
    "import openai\n",
    "import os\n",
    "from langchain.embeddings.openai import OpenAIEmbeddings\n",
    "\n",
    "pinecone_api_key = os.getenv(\"PINECONE_API_KEY\")\n",
    "#Connect database\n",
    "pc = Pinecone(\n",
    "    api_key=os.environ.get(\"PINECONE_API_KEY\")\n",
    ")\n",
    "\n",
    "#pinecone.create_index(\"terry-wiki\",dimension=1536,metric=\"cosine\")\n",
    "vectordb = pc.Index(\"ethan-wiki\")\n",
    "\n",
    "embedding = OpenAIEmbeddings()\n",
    "question = [\"Where is the Cuba?\"]\n",
    "\n",
    "embedded_question = embedding.embed_documents(question)\n",
    "\n",
    "\n",
    "query_result=vectordb.query(\n",
    "    vector=embedded_question,\n",
    "    top_k=3,\n",
    "    include_values=False,\n",
    "    include_metadata=True\n",
    ")\n",
    "\n",
    "result_ids = [ result.id for result in query_result.matches]\n",
    "\n",
    "for result in query_result.matches:\n",
    "    id = result.id\n",
    "    text = result.metadata['text'].replace('\\n','')[:500]\n",
    "    title = result.metadata['title']\n",
    "    score = result.score\n",
    "    print(id,score,title)\n",
    "    print(text,\"....\")\n",
    "    print('\\n')"
   ],
   "metadata": {
    "collapsed": false,
    "ExecuteTime": {
     "end_time": "2024-06-04T09:31:45.660517Z",
     "start_time": "2024-06-04T09:31:43.564248Z"
    }
   },
   "id": "1a12b580fabef469"
  },
  {
   "cell_type": "code",
   "execution_count": 91,
   "outputs": [
    {
     "name": "stderr",
     "output_type": "stream",
     "text": [
      "/Users/jeongmin/PycharmProjects/langchain-practice/venv/lib/python3.9/site-packages/langchain_core/_api/deprecation.py:119: LangChainDeprecationWarning: The method `BaseRetriever.get_relevant_documents` was deprecated in langchain-core 0.1.46 and will be removed in 0.3.0. Use invoke instead.\n",
      "  warn_deprecated(\n",
      "INFO:langchain.retrievers.multi_query:Generated queries: ['1. What is the location of Cuba?', '2. Can you provide information on countries that are geographically close to Cuba?', '3. Which neighboring countries are near Cuba?']\n"
     ]
    },
    {
     "name": "stdout",
     "output_type": "stream",
     "text": [
      "{'chunk': 0.0, 'source': 'https://simple.wikipedia.org/wiki/Cuba', 'title': 'Cuba', 'wiki-id': '178'}\n",
      "{'chunk': 18.0, 'source': 'https://simple.wikipedia.org/wiki/Cuba', 'title': 'Cuba', 'wiki-id': '178'}\n",
      "{'chunk': 2.0, 'source': 'https://simple.wikipedia.org/wiki/Cuba', 'title': 'Cuba', 'wiki-id': '178'}\n",
      "{'chunk': 1.0, 'source': 'https://simple.wikipedia.org/wiki/Cuba', 'title': 'Cuba', 'wiki-id': '178'}\n",
      "{'chunk': 22.0, 'source': 'https://simple.wikipedia.org/wiki/Argentina', 'title': 'Argentina', 'wiki-id': '54'}\n",
      "{'chunk': 22.0, 'source': 'https://simple.wikipedia.org/wiki/Cuba', 'title': 'Cuba', 'wiki-id': '178'}\n"
     ]
    }
   ],
   "source": [
    "import openai\n",
    "import logging\n",
    "import os\n",
    "from langchain.embeddings.openai import OpenAIEmbeddings\n",
    "from langchain.chat_models import ChatOpenAI\n",
    "from langchain.retrievers.multi_query import MultiQueryRetriever\n",
    "from langchain.vectorstores import Pinecone  \n",
    "\n",
    "load_dotenv(override=True)\n",
    "\n",
    "embedding = OpenAIEmbeddings()\n",
    "llm = ChatOpenAI()\n",
    "\n",
    "#Connect database\n",
    "index = pc.Index(\"ethan-wiki\")\n",
    "text_field = \"text\"\n",
    "pinecone_api_key = os.getenv(\"PINECONE_API_KEY\")\n",
    "\n",
    "vectordb = Pinecone(\n",
    "    index=index,\n",
    "    embedding=embedding,\n",
    "    text_key=text_field\n",
    ")\n",
    "\n",
    "logging.basicConfig()\n",
    "logging.getLogger(\"langchain.retrievers.multi_query\").setLevel(logging.INFO)\n",
    "\n",
    "query = \"Where is the cuba? Where is other country near the cuba?\"\n",
    "\n",
    "retriever_from_llm = MultiQueryRetriever.from_llm(\n",
    "    retriever=vectordb.as_retriever(), llm=llm\n",
    ")\n",
    "\n",
    "docs = retriever_from_llm.get_relevant_documents(query=query)\n",
    "for doc in docs:\n",
    "    print(doc.metadata)"
   ],
   "metadata": {
    "collapsed": false,
    "ExecuteTime": {
     "end_time": "2024-06-04T09:50:39.401700Z",
     "start_time": "2024-06-04T09:50:35.004586Z"
    }
   },
   "id": "517df0078b30ed47"
  },
  {
   "cell_type": "code",
   "execution_count": 92,
   "outputs": [
    {
     "name": "stderr",
     "output_type": "stream",
     "text": [
      "/Users/jeongmin/PycharmProjects/langchain-practice/venv/lib/python3.9/site-packages/langchain_core/_api/deprecation.py:119: LangChainDeprecationWarning: The class `OpenAI` was deprecated in LangChain 0.0.10 and will be removed in 0.2.0. An updated version of the class exists in the langchain-openai package and should be used instead. To use it run `pip install -U langchain-openai` and import as `from langchain_openai import OpenAI`.\n",
      "  warn_deprecated(\n",
      "/Users/jeongmin/PycharmProjects/langchain-practice/venv/lib/python3.9/site-packages/langchain/chains/llm.py:316: UserWarning: The predict_and_parse method is deprecated, instead pass an output parser directly to LLMChain.\n",
      "  warnings.warn(\n",
      "/Users/jeongmin/PycharmProjects/langchain-practice/venv/lib/python3.9/site-packages/langchain/chains/llm.py:316: UserWarning: The predict_and_parse method is deprecated, instead pass an output parser directly to LLMChain.\n",
      "  warnings.warn(\n",
      "/Users/jeongmin/PycharmProjects/langchain-practice/venv/lib/python3.9/site-packages/langchain/chains/llm.py:316: UserWarning: The predict_and_parse method is deprecated, instead pass an output parser directly to LLMChain.\n",
      "  warnings.warn(\n",
      "/Users/jeongmin/PycharmProjects/langchain-practice/venv/lib/python3.9/site-packages/langchain/chains/llm.py:316: UserWarning: The predict_and_parse method is deprecated, instead pass an output parser directly to LLMChain.\n",
      "  warnings.warn(\n"
     ]
    },
    {
     "name": "stdout",
     "output_type": "stream",
     "text": [
      "page_content='- The Cathars believed that the world had been made by a bad god.  \\n- They believed this cycle of coming back to life could be escaped by a ritual cleansing.  \\n- Women were prominent in the faith.  \\n- They were pacifists.  \\n- They didn\\'t eat anything that was made from other animals, including meat and cows milk.  \\n- They preached tolerance of other faiths.  \\n- They rejected the usual Christian rules of marriage and only believed in the New Testament.  \\n- In the South of France, the Languedoc nobles protected it, and many noble women became \"Perfects\".  \\n- Parish clergy had low morale, or confidence.  \\n- The Catholic Church was against Catharism, seeing it as a heresy.  \\n- The Albigensian Crusade  \\n- The Pope ordered a crusade against the Cathars in southern France.  \\n- Arnauld Amaury made the famous quote \"Kill them all, god knows his own\"  on being asked how to tell who were Cathars during the assault.  \\n- It is interesting to note that at the siege of Montsegur when the fires were lit the Cathars ran down the hill and threw themselves on, as their beliefs were very' metadata={'chunk': 13.0, 'source': 'https://simple.wikipedia.org/wiki/Catharism', 'title': 'Catharism', 'wiki-id': '135'}\n",
      "\n",
      "\n",
      "page_content='Tokyo, Japan - 37+ million\\n Mexico City, Mexico - 21 million\\n Mumbai, India - 20 million\\n São Paulo, Brazil - 18 million\\n Lagos, Nigeria - 13 million\\n Calcutta, India - 13 million\\n Buenos Aires, Argentina - 12 million\\n Seoul, South Korea - 12 million\\n Beijing, China - 12 million\\n Karachi, Pakistan - 12 million\\n Dhaka, Bangladesh - 11 million\\n Manila, Philippines - 11 million\\n Cairo, Egypt - 11 million\\n Osaka, Japan - 11 million\\n Rio de Janeiro, Brazil - 11 million\\n Tianjin, China - 10 million\\n Moscow, Russia - 10 million\\n Lahore, Pakistan - 10 million' metadata={'chunk': 15.0, 'source': 'https://simple.wikipedia.org/wiki/City', 'title': 'City', 'wiki-id': '144'}\n",
      "\n",
      "\n",
      "page_content='A continent is a large area of the land on Earth that is joined together.\\n\\nThere are no strict rules for what land is considered a continent, but in general it is agreed there are six or seven continents in the world, including Africa, Antarctica, Asia, Europe, North America, Oceania(or Australasia), and South America.' metadata={'chunk': 4.0, 'source': 'https://simple.wikipedia.org/wiki/Continent', 'title': 'Continent', 'wiki-id': '117'}\n",
      "\n",
      "\n",
      "page_content='- Astronomy is the scientific study of celestial bodies.\\n- The objects studied include stars, galaxies, planets, moons, asteroids, comets and nebulae.\\n- Phenomena that are studied include supernovae explosions, gamma ray bursts, and cosmic microwave background radiation.\\n- Astronomy concerns the development, physics, chemistry, meteorology and movement of celestial bodies, as well as the structure and development of the Universe.\\n- Astronomy is one of the oldest sciences.\\n- Ancient Greek people used the positions of the stars to navigate, and to find when was the best time to plant crops.\\n- Ancient Greeks tried to explain the motions of the sun and stars by taking measurements.\\n- Early astronomers used only their eyes to look at the stars.\\n- They made maps of the constellations and stars for religious reasons and calendars to work out the time of year.\\n- Early civilisations such as the Maya people and the Ancient Egyptians built simple observatories and drew maps of the stars positions.\\n- Ancient Greeks tried to explain the motions of the sun and stars by taking measurements.\\n- Astronomy is not the same as astrology, the belief that motion of the stars and the planets may affect human lives.\\n- In the early 1920s it began to be accepted that the galaxy in' metadata={'chunk': 22.0, 'source': 'https://simple.wikipedia.org/wiki/Astronomy', 'title': 'Astronomy', 'wiki-id': '48'}\n"
     ]
    }
   ],
   "source": [
    "import pinecone\n",
    "import openai\n",
    "import logging\n",
    "import os\n",
    "from langchain.retrievers import ContextualCompressionRetriever\n",
    "from langchain.retrievers.document_compressors import LLMChainExtractor\n",
    "from langchain.embeddings.openai import OpenAIEmbeddings\n",
    "from langchain.llms import OpenAI\n",
    "from langchain.vectorstores import Pinecone\n",
    "\n",
    "embedding = OpenAIEmbeddings()\n",
    "llm = OpenAI()\n",
    "\n",
    "index = pc.Index(\"ethan-wiki\")\n",
    "text_field = \"text\"\n",
    "pinecone_api_key = os.getenv(\"PINECONE_API_KEY\")\n",
    "\n",
    "vectordb = Pinecone(\n",
    "    index=index,\n",
    "    embedding=embedding,\n",
    "    text_key=text_field\n",
    ")\n",
    "\n",
    "compressor = LLMChainExtractor.from_llm(llm)\n",
    "\n",
    "compression_retriever = ContextualCompressionRetriever(base_compressor = compressor,base_retriever = vectordb.as_retriever())\n",
    "\n",
    "query = \"Where is the best locaction for vacation?\"\n",
    "docs = compression_retriever.get_relevant_documents(query,k=5)\n",
    "for doc in docs:\n",
    "    print(doc)\n",
    "    print(\"\\n\")"
   ],
   "metadata": {
    "collapsed": false,
    "ExecuteTime": {
     "end_time": "2024-06-05T08:41:02.737206Z",
     "start_time": "2024-06-05T08:40:47.848764Z"
    }
   },
   "id": "c4f9c5c952ef42f4"
  },
  {
   "cell_type": "code",
   "execution_count": 93,
   "outputs": [
    {
     "name": "stderr",
     "output_type": "stream",
     "text": [
      "/Users/jeongmin/PycharmProjects/langchain-practice/venv/lib/python3.9/site-packages/langchain/chains/llm.py:316: UserWarning: The predict_and_parse method is deprecated, instead pass an output parser directly to LLMChain.\n",
      "  warnings.warn(\n",
      "/Users/jeongmin/PycharmProjects/langchain-practice/venv/lib/python3.9/site-packages/langchain/chains/llm.py:316: UserWarning: The predict_and_parse method is deprecated, instead pass an output parser directly to LLMChain.\n",
      "  warnings.warn(\n",
      "/Users/jeongmin/PycharmProjects/langchain-practice/venv/lib/python3.9/site-packages/langchain/chains/llm.py:316: UserWarning: The predict_and_parse method is deprecated, instead pass an output parser directly to LLMChain.\n",
      "  warnings.warn(\n",
      "/Users/jeongmin/PycharmProjects/langchain-practice/venv/lib/python3.9/site-packages/langchain/chains/llm.py:316: UserWarning: The predict_and_parse method is deprecated, instead pass an output parser directly to LLMChain.\n",
      "  warnings.warn(\n"
     ]
    },
    {
     "name": "stdout",
     "output_type": "stream",
     "text": [
      "page_content='The Cathar faith was a version of Christianity. They were usually considered Gnostics. The word \\'Cathar\\' comes the Greek word katharos meaning \\'unpolluted\\' (from Tobias Churton, The Gnostics) or  \"the pure ones\".\\n\\nPrinciples \\nThe Cathars believed that the world had been made by a bad god.  They believed that this bad god had taken them from the good god and put them in the world, but inside their bodies there was a spirit, and that spirit needed to return to the good god.  They were famous for a belief in a form of reincarnation and believed that when someone died the bad god would put that person\\'s spirit in a new body. They believed this cycle of coming back to life could be escaped by a ritual cleansing.  They were opposed to the doctrine of sin.  \\n\\nWomen were prominent in the faith.  They were pacifists.  They didn\\'t eat anything that was made from other animals, including meat and cows milk. The only exception to this was fish. Fish was OK to eat because they believed fishes were not alive but just things that were sometimes produced from dirt and water.\\n\\nThey preached tolerance of other faiths.  They rejected the usual Christian rules of marriage and only believed in the New Testament.  An earlier 10th-century Bulgarian heresy, Bogomilism and also Manichaeism started some of these trends.\\n\\nLanguage \\nThey used a bible in the language people spoke. Many other Christians used a Bible in Latin. Latin was spoken only by the priests.\\n\\nProblems \\nIn 1145, open challenge to Catholic dominance began.  In about 1165, the first Cathars said that the Church was \"full of ravening (starving) wolves and hypocrites\" and \"worshipping the wrong God\", right in front of the most powerful Catholics. In 1166, the Council of Oxford in England wiped out the English Cathars.  It was also suppressed in Northern France.  In 1167, Cathar bishops met to discuss organizing a counter Church - in the South of France, the Languedoc nobles protected it, and many noble women became \"Perfects\".  Parish clergy had low morale, or confidence.\\n\\nReactions \\nThe Catholic Church was against Catharism, seeing it as a heresy.\\n\\nIn the South of France there was tremendous religious fervor, and an economy that was starting to grow, and a social class of  merchants and  peasants was starting to grow.  Peasants owned their own land.  Meanwhile, in other parts of Europe, peasants were forced to give up their land to nobles and become serfs or slaves - the system of feudalism.  There was a strong central absolute monarchy that did not exist in the South of France.  The burghers and bankers had more power in this looser system.  R. I. Moore is a historian who believes that it was desire to crush this system and take over the land that drove the attack.\\n\\nHowever, there was real cultural and religious difference to cause problems:  Troubadors, who combined some of the traditions of the Bards of the Celts, and Jews, were both part of the multicultural society in the South of France.  Their influences were not appreciated by local or Roman Church figures.  The 12th century Roman Catholic Monks were founding their monasteries outside the towns, drawing the best people there.\\n\\nResults \\nThe Cathars thus had little competition.  The Cathar \"Perfects\", the so-called Good Men or Good Women, lived restrained lives and spread their faith in towns - where the Catholics in general did not have their best agents.  Also, Cathars preached that only these Good leaders had to follow the regimens their whole lives - lay people could repent only on their deathbeds.  Many 20th century Christian sects have similar beliefs.\\n\\nThe Albigensian Crusade\\n\\nMethods \\nThe Pope ordered a crusade against the Cathars in southern France. He said any crusader who answered the call would be given the same rewards as a crusader who went to the Holy Land. This was an absolution of all sin.\\n\\nIn the Launguedoc, on the 22nd of July 1209, a force of about 30,000 Crusaders arrived at the walls of Beziers bearing the cross pattee to mislead and create ease among the Cathars, thinking they were friend, not foe, and  demanded that about 200 Cathars be surrendered.  The people of the town who were mostly Catholic, said that rather than turn over their friends and family, \"we would rather be flayed alive.\"  \\n\\nA mistake by the defenders of Beziers let thousands of attackers in. Arnauld Amaury made the famous quote \"Kill them all, god knows his own\"  on being asked how to tell who were Cathars during the assault. Everyone in the town was killed, some while taking refuge in the church.  It is guessed that 20,000 were killed, many of whom were Catholics and not Cathars at all.  The crusade became known as the Albigensian crusade after the town of Albi.  It was to wipe out the Cathars almost entirely over forty or so years.  The Crusaders wanted to go home, but were ordered by the Pope to continue until the whole South of France was controlled and all Cathars were dead. In 1210, they attacked the fortress at Minerv and built \"the first great bonfire of heretics\" - beginning the practice of burning at the stake that would continue in the Inquisition of the Counter-Reformation. It is interesting to note that at the siege of Montsegur when the fires were lit the Cathars ran down the hill and threw themselves on, as their beliefs were very strong.\\n\\nResult\\nCatharism disappeared from the northern Italian cities after the 1260s, pressured by the Inquisition. The last known Cathar perfectus in the Languedoc, Guillaume Bélibaste, was killed in 1321.\\n\\nOther websites \\n http://dannyreviews.com/h/Cathars.html\\n http://gnosistraditions.faithweb.com/mont.html\\n http://www.fordham.edu/halsall/source/gui-cathars.html\\n http://philtar.ucsm.ac.uk/encyclopedia/christ/west/cathar.html \\n http://pages.britishlibrary.net/forrester-roberts/cathars.html \\n Cathar Center in Barcelona: Books, spirituality, exhibition \\n\\nGnosticism\\nNontrinitarianism\\nChristianity of the Middle Ages' metadata={'chunk': 13.0, 'source': 'https://simple.wikipedia.org/wiki/Catharism', 'title': 'Catharism', 'wiki-id': '135'}\n",
      "\n",
      "\n",
      "page_content='A city is a heavily inhabited community that may include structures, buildings, bridges, rivers or lakes, and landmarks.\\n\\nA city has many buildings and streets. It has houses, hotels, condominiums, and apartments for many people to live in, shops where they may buy things, places for people to work, and a government to run the city and keep law and order in the city. People live in cities because it is easy for them to find and do everything they want there. A city usually has a \"city center\" where government and business occur and suburbs where people live outside the center.\\n\\nDefinition\\n\\nNo rule is used worldwide to decide why some places are called \"city,\" and other places are called \"town.\"\\n\\nSome things that make a city are :\\n A long history. Although many cities today have only been around for tens or hundreds of years, there are a few which have been so for thousands of years. For example, Athens, Greece was founded in 1000 BC and Rome, Italy has existed since 700 BC.\\n A large population. Cities can have millions of people living in and around them. Among them are Tokyo, Japan, and the Tokyo Metropolis around it, which includes Yokohama and Chiba.\\n In Japan, the population of a city ( 市 ) is at least over 50,000 persons. and among cities, there are various grades according to laws, which the central government of Japan governs.\\n A center where business and government takes place. The first case is often described as the financial capital, such as Frankfurt in Germany. The second case is true for different levels of government, whether they are local or part of a larger region (for example, Atlanta, Georgia, or the capital of the United States Washington, D.C.) Cities that contain the government of the region it is in are called capitals. Almost every country has its own capital.\\n Special powers called town privileges which have been given by the government of the country or its ruler. Europe during the Middle Ages was a great example of having town privileges.\\n Having a cathedral or a university. This rule is found in the United Kingdom. The smallest \"cathedral cities\" are St. David\\'s and St. Asaph\\'s which are both in Wales, Ripon and Wells which are in England.\\n\\nIn American English, people often call all places where many people live cities. (See below: Size of cities )\\n\\nSize of cities\\n\\nThe sizes of cities can be very different. This depends on the type of city. Cities built hundreds of years ago and which have not changed much are much smaller than modern cities. There are two main reasons. One reason is that old cities often have a city wall, and most of the city is inside it. Another important reason is that the streets in old cities are often narrow. If the city got too big, it was hard for a cart carrying food to get to the marketplace. People in cities need food, and the food always has to come from outside the city.\\n\\nCities that were on a river like London could grow much bigger than cities that were on a mountain like Sienna in Italy, because the river made a transport route for carrying food and other goods, as well as for transporting people. London has been changing continually for hundreds of years, while Sienna, a significant city in the 1300s, has changed very little in 700 years.\\n\\nModern cities with modern transport systems can grow very large, because the streets are wide enough for cars, buses, and trucks, and there are often railway lines.\\n\\nIn the US, the word city is often used for towns that are not very big. When the first European people went to America, they named \" city \" to new places. They hoped the places would be great cities in the future. For example, Salt Lake City was the name given to a village of 148 people. When they started building the town, they made street plans and called it Great Salt Lake City (for the nearby Great Salt Lake).\\n\\nNow, 150 years later, it really is a big city.\\n\\nIn modern times many cities have grown bigger and bigger. The whole area is often called a  \"metropolis\"  and can sometimes include several small ancient towns and villages. The metropolis of London includes London, Westminster, and many old villages such as Notting Hill, Southwark, Richmond, Greenwich, etc. The part that is officially known as the \" City of London \" only takes up one square mile. The rest is known as \"Greater London. \" Many other cities have grown in the same way.\\n\\nThese giant cities can be exciting places to live, and many people can find good jobs there, but modern cities also have many problems. Many people cannot find jobs in the cities and have to get money by begging or by crime. Automobiles, factories, and waste create a lot of pollution that makes people sick.\\n\\nUrban history \\n\\nUrban history is history of civilization. The first cities were made in ancient times, as soon as people began to create civilization . Famous ancient cities which fell to ruins included Babylon, Troy, Mycenae and Mohenjo-daro.\\n\\nBenares in northern India is one among the ancient cities which has a history of more than 3000 years. Other cities that have existed since ancient times are Athens in Greece, Rome and Volterra in Italy, Alexandria in Egypt and York in England.\\n\\nIn Europe, in the Middle Ages, being a city was a special privilege, granted by nobility. Cities that fall into this category, usually had (or still have) city walls. The people who lived in the city were privileged over those who did not. Medieval cities that still have walls include Carcassonne in France, Tehran in Iran, Toledo in Spain and Canterbury in England.\\n\\nFeatures\\n\\nInfrastructure \\n\\nPeople in a city live close together, so they cannot grow all their own food or gather their own water or energy. People also create waste and need a place to put it. Modern cities have infrastructure to solve these problems. Pipes carry running water, and power lines carry electricity. Sewers take away the dirty water and human waste. Most cities collect garbage to take it to a landfill, burn it, or recycle it.\\n\\nTransport is any way of getting from one place to another. Cities have roads which are used by automobiles (including trucks), buses, motorcycles, bicycles, and pedestrians (people walking). Some cities have trains and larger cities have airports. Many people in cities travel to work each day, which is called commuting.\\n\\nBuildings and design \\nHouses and apartments are common places to live in cities. Great numbers of people in developing countries (and developed countries, in the past) live in slums. A slum is poorly built housing, without clean water, where people live very close together. Buildings are usually taller in the city center, and some cities have skyscrapers.\\n\\nCity streets can be shaped like a grid, or as a \"wheel and spokes\": a set of rings and lines coming out from the center. Streets in some older cities like London are arranged at random, without a pattern. The design of cities is a subject called urban planning. One area of the city might have only shops, and another area might have only factories. Cities have parks, and other public areas like city squares.\\n\\nUnited States politics\\n\\nCities in the US are usually very-left leaning. The best examples of these would be New York, New York, and Washington, D.C. For example, in Louisiana, the only Democratic delegate in US Congress who is a Democrat was elected from a district comprising in New Orleans. Below is a list of states and the major city/cities that provide much of the liberal support in them :\\n\\n Atlanta, Georgia: 5 of the 16 delegates representing Georgia in the US Congress are Democrats. All hail from districts in Atlanta.\\n New Orleans, Louisiana: the only Democratic delegate from Louisiana in the US Congress was elected from a New Orleans district.\\n Kansas City, Kansas: the only Democratic congressman from Kansas was elected from a district in Kansas City.\\n Las Vegas, Nevada: all of the Democrats in the US House who represent Nevada are from Las Vegas.\\n Salt Lake City, Utah: the only Democrat representing Utah in the US Congress was elected from a Salt Lake City district.\\n Chicago, Illinois: if it weren\\'t for Chicago, the state of Illinois would be as conservative as Indiana.\\n Louisville, Kentucky: the only Democrat representing Kentucky in the US Congress was elected from a Louisville district.\\n\\nWorld\\'s largest cities\\n\\nThese cities have more than 10 million people and can be called megacities:\\n Tokyo, Japan - 37+ million\\n Mexico City, Mexico - 21 million\\n Mumbai, India - 20 million\\n São Paulo, Brazil - 18 million\\n Lagos, Nigeria - 13 million\\n Calcutta, India - 13 million\\n Buenos Aires, Argentina - 12 million\\n Seoul, South Korea - 12 million\\n Beijing, China - 12 million\\n Karachi, Pakistan - 12 million\\n Dhaka, Bangladesh - 11 million\\n Manila, Philippines - 11 million\\n Cairo, Egypt - 11 million\\n Osaka, Japan - 11 million\\n Rio de Janeiro, Brazil - 11 million\\n Tianjin, China - 10 million\\n Moscow, Russia - 10 million\\n Lahore, Pakistan - 10 million\\n\\nGallery of cities\\n\\nReferences' metadata={'chunk': 15.0, 'source': 'https://simple.wikipedia.org/wiki/City', 'title': 'City', 'wiki-id': '144'}\n",
      "\n",
      "\n",
      "page_content='A continent is a large area of the land on Earth that is joined together.\\n\\nThere are no strict rules for what land is considered a continent, but in general it is agreed there are six or seven continents in the world, including Africa, Antarctica, Asia, Europe, North America, Oceania(or Australasia), and South America.\\n\\nDemography\\n\\nThe most populous continent by population is Asia, followed by Africa. The third most populous continent is Europe. The fourth most populous is North America, and then South America. In sub-Saharan Africa, the largest age group are denarians (in their teens). In north Africa, the largest age group are vicenarian (in their twenties). In Europe, most people are tricenarian (in their thirties) or quadragenarian (in their forties).\\n\\nContinents \\nGeologists use the term continent to mean continental crust, a platform of metamorphic and igneous rock, largely of granitic composition. Continental crust is less dense and much thicker than oceanic crust, which is why it \"floats\" higher than oceanic crust on the underlying mantle. This explains why the continents form high platforms surrounded by deep ocean basins.\\n\\nAustralia \\nSome sources say that Australia is one of the seven continents. Others say that Australia is part of a larger continent, such as Australasia, or Oceania. Oceania is a region which includes Australia, New Zealand and the Pacific Islands. Australasia includes at least all countries on the Australian continental plate. This includes the islands of New Guinea, Tasmania, New Zealand and a number of smaller islands. It is on the south-eastern side of the Wallace Line, with distinct differences in its biology from the Asian side of the line.\\n\\n\"It includes all the islands of the Malay Archipelago... as well as the various groups of islands in the Pacific. The term has been used in very different senses\".\\n\\nNorth and South America \\nNorth America and South America together are often described as one continent, \"the Americas\", or simply \"America\". This has the advantage of including Central America and the Caribbean islands. Otherwise, Central America is counted as part of North America.\\n\\nEurasia \\nEurasia is not really an alternative, rather it is a recognition that the landmasses of Europe and Asia are continuous, and some of its largest countries are in both regions. Russia extends from eastern Europe to the far east of Asia without a break. The Ural Mountains, which run roughly north–south, are the traditional dividing-line between Europe and Asia. For many purposes it is convenient to consider the great landmass as a single continent, Eurasia.\\n\\nWhen British people talk about \"the Continent\" (or \"Continental\" things) they mean the European mainland. This meaning is not used as much as it used to be, but is still seen in phrases like \"Continental breakfast\" (rolls with cheese, jam etc. as distinct from an \"English breakfast\" which is a cooked breakfast).\\n\\nContinents not only move but also sometimes move against each other. The Indian subcontinent has been colliding with the Eurasian continent for a while now. As these continents push against each other, they buckle and bend. Because of this, the Himalaya Mountains, where Mount Everest is, are still being made today.\\n\\nAntarctica \\nAntarctica is Earth\\'s fifth largest continent. Antarctica is the coldest place on Earth, covers Earth\\'s South Pole. The continent only have two seasons, summer and winter. Antarctica is a desert, it does not rain or snow a lot there. Ever since its discovery in 1812, Antarctica with a surface area of ~13.6 –14 million km2 about 1.4 times the size of Europe, proved to be a great challenge for explorers. Despite being nearly completely covered by a thick layer of ice, Antarctica harbors a wide range of aquatic and terrestrial environement.\\n\\nZealandia \\nZealandia is an almost entirely submerged land mass, and 93% of it still remains under water. Zealandia may have broken off the Australian plate between 85 and 130 million years ago.\\n\\nRelated pages\\n List of countries by continents\\n\\nReferences \\n\\n \\nGeology' metadata={'chunk': 4.0, 'source': 'https://simple.wikipedia.org/wiki/Continent', 'title': 'Continent', 'wiki-id': '117'}\n",
      "\n",
      "\n",
      "page_content='Astronomy (from the Greek astron (ἄστρον) meaning \"star\" and nomos (nόμος) meaning \"law\") is the scientific study of celestial bodies. The patterns in the night sky are called constellations.\\n\\nThe objects studied include stars, galaxies, planets, moons, asteroids, comets and nebulae.  Phenomena that are studied include supernovae explosions, gamma ray bursts, and cosmic microwave background radiation.  Astronomy concerns the development, physics, chemistry, meteorology and movement of celestial bodies, as well as the structure and development of the Universe.\\n\\nAstronomy is one of the oldest sciences.  Ancient Greek people used the positions of the stars to navigate, and to find when was the best time to plant crops.  Astrophysics is an important part of astronomy.   A related subject, cosmology, is concerned with studying the Universe as a whole, and the way the universe changed over time.  Astronomy is not the same as astrology, the belief that motion of the stars and the planets may affect human lives.\\n\\nSince the 20th century there have been two main types of astronomy, observational and theoretical astronomy.  Observational astronomy uses telescopes and cameras to observe or look at stars, galaxies and other astronomical objects.  Theoretical astronomy uses maths and computer models to explain the observations and predict what might happen.  Working together, theories predict what should happen and observations show whether the predictions work.  The main work of astronomy is to explain puzzling features of the universe.  For many years the most important issue was the motions of planets; now many other topics are studied.\\n\\nHistory of astronomy\\n\\nAncient \\nEarly astronomers used only their eyes to look at the stars. They made maps of the constellations and stars for religious reasons and calendars to work out the time of year. Early civilisations such as the Maya people and the Ancient Egyptians built simple observatories and drew maps of the stars positions. They also began to think about the place of Earth in the universe. For a long time people thought Earth was the center of the universe, and that the planets, the stars and the sun went around it.  This is known as geocentrism.\\n\\nAncient Greeks tried to explain the motions of the sun and stars by taking measurements. A mathematician named Eratosthenes was the first who measured the size of the Earth and proved that the Earth is a sphere. A theory by another mathematician named Aristarchus was, that the sun is in the center and the Earth is moving around it. This is known as heliocentrism. Only a few people thought it was right. The rest continued to believe in the geocentric model. Most of the names of constellations and stars come from Greeks of that time.\\n\\nArabic astronomers made many advancements during the Middle Ages including improved star maps and ways to estimate the size of the Earth.  They also learned from the ancients by translating Greek books into Arabic.\\n\\nRenaissance to modern era \\n\\nDuring the renaissance a priest named Nicolaus Copernicus thought, from looking at the way the planets moved, that the Earth was not the center of everything. Based on previous works, he said that the Earth was a planet and all the planets moved around the sun. This brought back the old idea of heliocentrism. A physicist called Galileo Galilei built his own telescopes, and used them to look more closely at the stars and planets for the first time. He agreed with Copernicus. The Catholic Church thought Galileo was wrong. He spent the rest of his life under house arrest. Heliocentric ideas were soon improved by Johannes Kepler and Isaac Newton, who invented the theory of gravity.\\n\\nAfter Galileo, people made better telescopes and used them to see farther objects such as the planets Uranus and Neptune. They also saw how stars were similar to our Sun, but in a range of colours and sizes. They also saw thousands of other faraway objects such as galaxies and nebulae.\\n\\nModern era \\nThe 20th century after 1920 saw important changes in astronomy.\\n\\nIn the early 1920s it began to be accepted that the galaxy in which we live, the Milky Way, is not the only galaxy. The existence of other galaxies was settled by Edwin Hubble, who identified the Andromeda nebula as a different galaxy. It was also Hubble who proved that the universe was expanding. There were many other galaxies at large distances and they are receding, moving away from our galaxy. That was completely unexpected.\\n\\nIn 1931, Karl Jansky discovered radio emission from outside the Earth when trying to isolate a source of noise in radio communications, marking the birth of radio astronomy and the first attempts at using another part of the electromagnetic spectrum to observe the sky. Those parts of the electromagnetic spectrum that the atmosphere did not block were now opened up to astronomy, allowing more discoveries to be made.\\n\\nThe opening of this new window on the Universe saw the discovery of entirely new things, for example pulsars, which sent regular pulses of radio waves out into space. The waves were first thought to be alien in origin because the pulses were so regular that it implied an artificial source.\\n\\nThe period after World War 2 saw more observatories where large and accurate telescopes are built and operated at good observing sites, normally by governments. For example, Bernard Lovell began radio astronomy at Jodrell Bank using leftover military radar equipment. By 1957, the site had the largest steerable radio telescope in the world. Similarly, the end of the 1960s saw the start of the building of dedicated observatories at Mauna Kea in Hawaii, a good site for visible and infra-red telescopes thanks to its high altitude and clear skies.\\n\\nThe next great revolution in astronomy was thanks to the birth of rocketry.  This allowed telescopes to be placed in space on satellites.\\n\\nSpace telescopes gave access, for the first time in history, to the entire electromagnetic spectrum including rays that had been blocked by the atmosphere.  The X-rays, gamma rays, ultraviolet light and parts of the infra-red spectrum were all opened to astronomy as observing telescopes were launched.  As with other parts of the spectrum, new discoveries were made.\\n\\nFrom 1970s satellites were launched to be replaced with more accurate and better satellites, causing the sky to be mapped in nearly all parts of the electromagnetic spectrum.\\n\\nDiscoveries \\nDiscoveries broadly come in two types:  bodies and phenomena.  Bodies are things in the Universe, whether it is a planet like our Earth or a galaxy like our Milky Way.  Phenomena are events and happenings in the Universe.\\n\\nBodies \\nFor convenience, this section has been divided by where these astronomical bodies may be found: those found around stars are solar bodies, those inside galaxies are galactic bodies and everything else larger are cosmic bodies.\\n\\nSolar \\n Planets\\n Asteroids\\n Comets\\n\\nGalactic \\nStars\\n\\nDiffuse Objects:\\n Nebulas\\n Clusters\\n\\nCompact Stars:\\n White dwarf stars\\n Neutron stars\\n Black holes\\n\\nCosmic \\n Galaxies\\n Galaxy clusters\\n Superclusters\\n\\nPhenomena \\nBurst events are those where there is a sudden change in the heavens that disappears quickly.  These are called bursts because they are normally associated with large explosions producing a \"burst\" of energy.  They include: \\n Supernovas\\n Novas\\n\\nPeriodic events are those that happen regularly in a repetitive way.  The name periodic comes from period, which is the length of time required for a wave to complete one cycle.  Periodic phenomena include: \\n Pulsars\\n Variable stars\\n\\nNoise phenomena tend to relate to things that happened a long time ago.  The signal from these events bounce around the Universe until it seems to come from everywhere and varies little in intensity.  In this way, it resembles \"noise\", the background signal that pervades every instrument used for astronomy.  The most common example of noise is static seen on analogue televisions.  The principal astronomical example is: cosmic background radiation.\\n\\nMethods\\n\\nInstruments \\n Telescopes are the main tool of observing. They take all the light in a big area and put in into a small area. This is like making your eyes very big and powerful. Astronomers use telescopes to look at things that are far away and dim. Telescopes make objects look bigger, closer, brighter. \\n Spectrometers study the different wavelengths of light. This shows what something is made of. \\n Many telescopes are in satellites. They are space observatories. The Earth’s atmosphere blocks some parts of the electromagnetic spectrum, but special telescopes  above the atmosphere can detect that radiation.\\n Radio astronomy uses radio telescopes. Aperture synthesis combines smaller telescopes to create a phased array, which works like a telescope as big as the distance between the smaller telescopes.\\n\\nTechniques \\nThere are way  astronomers can get better pictures of the heavens.  Light from a distant source reaches a sensor and gets measured, normally by a human eye or a camera.  For very dim sources, there may not be enough light particles coming from the source for it to be seen.  One technique that astronomers have for making it visible is using integration (which is like longer exposures in photography).\\n\\nIntegration \\nAstronomical sources do not move much: only the rotation and movement of the Earth causes them to move across the heavens. As light particles reach the camera over time, they hit the same place making it brighter and more visible than the background, until it can be seen.\\n\\nTelescopes at most observatories (and satellite instruments) can normally track a source as it moves across the heavens, making the star appear still to the telescope and allowing longer exposures.  Also, images can be taken on different nights so exposures span hours, days or even months. In the digital era, digitised pictures of the sky can be added together by computer, which overlays the images after correcting for movement.\\n\\nAdaptive optics \\nAdaptive optics means changing the shape of the mirror or lens while looking at something, to see it better.\\n\\nData analysis \\nData analysis is the process of getting more information out of an astronomical observation than by simply looking at it. The observation is first stored as data.  This data will then have various techniques used to analyse it.\\n\\nFourier analysis \\nFourier analysis in mathematics can show if an observation (over a length of time) is changing periodically (changes like a wave).  If so, it can extract the frequencies and the type of wave pattern, and find many things including new planets.\\n\\nSubfields of astronomy\\nPulsars pulse regularly in radio waves.  These turned out to be similar to some (but not all) of a type of bright source in X-rays called a Low-mass X-ray binary.  It turned out that all pulsars and some LMXBs are neutron stars and that the differences were due to the environment in which the neutron star was found. Those LMXBs that were not neutron stars turned out to be black holes.\\n\\nThis section attempts to provide an overview of the important fields of astronomy.\\n\\nSolar astronomy \\n\\nSolar astronomy is the study of the Sun. The Sun is the closest star to Earth at around 92 million (92,000,000) miles away. It is the easiest to observe in detail. Observing the Sun can help us understand how other stars work and are formed. Changes in the Sun can affect the weather and climate on Earth. A stream of charged particles called the Solar wind is constantly sent off from the Sun. The Solar wind hitting the Earth\\'s magnetic field causes the northern lights.\\n\\nPlanetary astronomy \\nPlanetary astronomy is the study of planets, moons, dwarf planets, comets and asteroids as well as other small objects that orbit stars. The planets of our own Solar System have been studied in depth by many visiting spacecraft such as Cassini-Huygens (Saturn) and the Voyager 1 and 2.\\n\\nGalactic astronomy \\nGalactic astronomy is the study of distant galaxies.  Studying distant galaxies is the best way of learning about our own galaxy, as the gases and stars in our own galaxy make it difficult to observe.  Galactic astronomers attempt to understand the structure of galaxies and how they are formed through the use of different types of telescopes and computer simulations.\\n\\nGravitational wave astronomy \\nGravitational wave astronomy is the study of the Universe in the gravitational wave spectrum.  So far, all astronomy that has been done has used the electromagnetic spectrum.  Gravitational waves are ripples in spacetime emitted by very dense objects changing shape, which include white dwarves, neutron stars and black holes.  Because no one has been able to detect gravitational waves directly, the impact of dravitational wave astronomy has been limited.\\n\\nRelated pages \\n\\n Asteroid\\n Astrobiology\\n Black hole\\n Comet\\n Galaxy\\n Meteor\\n Planet\\n Planetarium\\n Satellite (natural) \\n Solar system\\n Star\\n Universe\\n\\nReferences\\n\\nOther websites \\n\\n Astronomy site specifically designed for kids and their parents.\\n Astronomy Picture of the Day' metadata={'chunk': 22.0, 'source': 'https://simple.wikipedia.org/wiki/Astronomy', 'title': 'Astronomy', 'wiki-id': '48'}\n"
     ]
    }
   ],
   "source": [
    "from langchain.retrievers.document_compressors import LLMChainFilter\n",
    "\n",
    "filter = LLMChainFilter.from_llm(llm)\n",
    "compression_retriever = ContextualCompressionRetriever(\n",
    "base_compressor = filter,base_retriever = vectordb.as_retriever(),k=2)\n",
    "\n",
    "query = \"Where is the best locaction for vacation?\"\n",
    "docs = compression_retriever.get_relevant_documents(query)\n",
    "for doc in docs:\n",
    "    print(doc)\n",
    "    print(\"\\n\")"
   ],
   "metadata": {
    "collapsed": false,
    "ExecuteTime": {
     "end_time": "2024-06-05T08:44:26.344776Z",
     "start_time": "2024-06-05T08:44:21.980911Z"
    }
   },
   "id": "fdfe6d42c4bddb1f"
  },
  {
   "cell_type": "code",
   "execution_count": 94,
   "outputs": [
    {
     "name": "stderr",
     "output_type": "stream",
     "text": [
      "/Users/jeongmin/PycharmProjects/langchain-practice/venv/lib/python3.9/site-packages/langchain/chains/llm.py:316: UserWarning: The predict_and_parse method is deprecated, instead pass an output parser directly to LLMChain.\n",
      "  warnings.warn(\n",
      "/Users/jeongmin/PycharmProjects/langchain-practice/venv/lib/python3.9/site-packages/langchain/chains/llm.py:316: UserWarning: The predict_and_parse method is deprecated, instead pass an output parser directly to LLMChain.\n",
      "  warnings.warn(\n"
     ]
    },
    {
     "name": "stdout",
     "output_type": "stream",
     "text": [
      "page_content='Cuba is an island country in the Caribbean Sea. The country is made up of the big island of Cuba, the Isla de la Juventud island (Isle of Youth), and many smaller islands. Havana is the capital of Cuba. It is the largest city. The second largest city is Santiago de Cuba. In Spanish, the capital is called \"La Habana\". Cuba is near the United States, Mexico, Haiti, Jamaica and the Bahamas.\\n\\nCuba is famous for many types of music, especially dance music such as the Salsa and Mambo. The country is divided into 15 provinces and one special municipality (Isla de la Juventud). The provinces are divided into municipalities.\\n\\nThe people of Cuba come from three different groups. The largest group is the descendants of the Spanish settlers who came to Cuba. The smallest group is the descendants of the black African slaves who were brought in to do the work and birth children (in the barracoon) as New World slaves who could be legally sold into life time bondage in the United States. The middle-sized group is a mix of African and Spanish. The government succeeded in seeing that the three different groups were treated the same. According to a DNA Caribbean Studies Institute, the racial-makeup of' metadata={'chunk': 2.0, 'source': 'https://simple.wikipedia.org/wiki/Cuba', 'title': 'Cuba', 'wiki-id': '178'}\n"
     ]
    }
   ],
   "source": [
    "from langchain.llms import OpenAI\n",
    "import pinecone\n",
    "import os\n",
    "from langchain.embeddings.openai import OpenAIEmbeddings\n",
    "from langchain.vectorstores import Pinecone\n",
    "from langchain.retrievers import ContextualCompressionRetriever\n",
    "from langchain.retrievers.document_compressors import LLMChainFilter\n",
    "from langchain.retrievers.document_compressors import LLMChainExtractor\n",
    "from langchain.retrievers.document_compressors import DocumentCompressorPipeline\n",
    "from langchain_community.document_transformers import EmbeddingsRedundantFilter\n",
    "\n",
    "embedding = OpenAIEmbeddings()\n",
    "llm = OpenAI()\n",
    "\n",
    "index = pc.Index(\"ethan-wiki\")\n",
    "text_field = \"text\"\n",
    "pinecone_api_key = os.getenv(\"PINECONE_API_KEY\")\n",
    "\n",
    "vectordb = Pinecone(\n",
    "    index=index,\n",
    "    embedding=embedding,\n",
    "    text_key=text_field\n",
    ")\n",
    "\n",
    "\n",
    "llm_filter = LLMChainFilter.from_llm(llm)\n",
    "llm_extractor = LLMChainExtractor.from_llm(llm)\n",
    "redundant_filter = EmbeddingsRedundantFilter(embeddings=embedding)\n",
    "\n",
    "pipeline_compressor = DocumentCompressorPipeline(transformers=[redundant_filter,llm_extractor,llm_filter])\n",
    "\n",
    "compression_retriever = ContextualCompressionRetriever(base_compressor = pipeline_compressor,base_retriever = vectordb.as_retriever(),k=10)\n",
    "\n",
    "\n",
    "#query = \"Where is the best place for summer vacation?\"\n",
    "query =\"Where is the cuba? and nearest country by the Cuba?\"\n",
    "docs = compression_retriever.get_relevant_documents(query)\n",
    "for doc in docs:\n",
    "    print(doc)\n",
    "    print(\"\\n\")"
   ],
   "metadata": {
    "collapsed": false,
    "ExecuteTime": {
     "end_time": "2024-06-05T08:49:04.425513Z",
     "start_time": "2024-06-05T08:48:56.173209Z"
    }
   },
   "id": "6563e6d828b0347e"
  },
  {
   "cell_type": "code",
   "execution_count": null,
   "outputs": [],
   "source": [
    "\n",
    "import os\n",
    "from langchain_community.document_loaders import TextLoader\n",
    "from langchain.storage import InMemoryStore\n",
    "from langchain.text_splitter import RecursiveCharacterTextSplitter\n",
    "from langchain_community.document_loaders import TextLoader\n",
    "from langchain.retrievers import ParentDocumentRetriever\n",
    "from langchain.embeddings.openai import OpenAIEmbeddings\n",
    "from langchain.llms import OpenAI\n",
    "from langchain.vectorstores import Pinecone\n",
    "import pinecone\n",
    "\n",
    "\n",
    "# load docs\n",
    "text_dir = \"./Korea info\"\n",
    "files = os.listdir(text_dir)\n",
    "txt_files = [file for file in files if file.endswith(\".txt\")]\n",
    "\n",
    "docs = []\n",
    "print(files)\n",
    "for file in txt_files:\n",
    "    docs.extend(TextLoader(text_dir+\"/\"+file).load())\n",
    "\n",
    "\n",
    "\n",
    "# create text splitter\n",
    "child_splitter = RecursiveCharacterTextSplitter(\n",
    "    # Set a really small chunk size, just to show.\n",
    "    chunk_size=400,\n",
    "    chunk_overlap=20,\n",
    "    length_function=len,\n",
    ")\n",
    "\n",
    "# The storage layer for the parent documents\n",
    "store = InMemoryStore()\n",
    "retriever = ParentDocumentRetriever(\n",
    "    vectorstore=vectordb,\n",
    "    docstore=store,\n",
    "    child_splitter=child_splitter,\n",
    ")\n",
    "\n",
    "retriever.add_documents(docs, ids=None)\n",
    "\n",
    "# Retrieve full document\n",
    "retrieved_docs = retriever.get_relevant_documents(\"query\")\n",
    "print(retrieved_docs)"
   ],
   "metadata": {
    "collapsed": false
   },
   "id": "9d21176dc9e82c61"
  },
  {
   "cell_type": "code",
   "execution_count": null,
   "outputs": [],
   "source": [
    "# create text splitter\n",
    "parent_splitter = RecursiveCharacterTextSplitter(chunk_size=2000)\n",
    "child_splitter = RecursiveCharacterTextSplitter(\n",
    "    # Set a really small chunk size, just to show.\n",
    "    chunk_size=400,\n",
    "    chunk_overlap=20,\n",
    "    length_function=len,\n",
    ")\n",
    "\n",
    "# The storage layer for the parent documents\n",
    "store = InMemoryStore()\n",
    "retriever = ParentDocumentRetriever(\n",
    "    vectorstore=vectordb,\n",
    "    docstore=store,\n",
    "    child_splitter=child_splitter,\n",
    "    parent_splitter=parent_splitter,\n",
    ")\n",
    "retriever.add_documents(docs, ids=None)\n",
    "\n",
    "retrieved_docs = retriever.get_relevant_documents(\"query\")\n",
    "print(len(retrieved_docs[0].page_content))"
   ],
   "metadata": {
    "collapsed": false
   },
   "id": "77218a5457cdd635"
  },
  {
   "cell_type": "code",
   "execution_count": 95,
   "outputs": [
    {
     "data": {
      "text/plain": "{'city': 'Seoul',\n 'text': \"One of the most famous tour places in Seoul is Gyeongbokgung Palace. This grand palace complex is a symbol of Korea's royal heritage and is a popular destination for tourists seeking to explore the country's history and culture. Other popular tour places in Seoul include Bukchon Hanok Village, N Seoul Tower, Myeongdong shopping district, and Changdeokgung Palace.\"}"
     },
     "execution_count": 95,
     "metadata": {},
     "output_type": "execute_result"
    }
   ],
   "source": [
    "from langchain.prompts import PromptTemplate\n",
    "from langchain.chains import LLMChain\n",
    "from langchain.chat_models import ChatOpenAI\n",
    "\n",
    "llm = ChatOpenAI()\n",
    "\n",
    "prompt = PromptTemplate.from_template(\"what is the famous tour place in {city}?\")\n",
    "chain = LLMChain(llm=llm, prompt=prompt)\n",
    "\n",
    "city = \"Seoul\"\n",
    "chain.invoke(city)"
   ],
   "metadata": {
    "collapsed": false,
    "ExecuteTime": {
     "end_time": "2024-06-05T09:20:04.453161Z",
     "start_time": "2024-06-05T09:20:02.292612Z"
    }
   },
   "id": "f4fa3a8032fa902e"
  },
  {
   "cell_type": "code",
   "execution_count": 96,
   "outputs": [
    {
     "name": "stdout",
     "output_type": "stream",
     "text": [
      "\n",
      "\n",
      "\u001B[1m> Entering new SequentialChain chain...\u001B[0m\n",
      "\n",
      "\n",
      "\u001B[1m> Entering new LLMChain chain...\u001B[0m\n",
      "Prompt after formatting:\n",
      "\u001B[32;1m\u001B[1;3mwhat is the famous tour place in Seoul? Tell me the name of the place only without additional comments.\u001B[0m\n",
      "\n",
      "\u001B[1m> Finished chain.\u001B[0m\n",
      "\n",
      "\n",
      "\u001B[1m> Entering new LLMChain chain...\u001B[0m\n",
      "Prompt after formatting:\n",
      "\u001B[32;1m\u001B[1;3mHow can I get Gyeongbokgung Palace by subway?\u001B[0m\n",
      "\n",
      "\u001B[1m> Finished chain.\u001B[0m\n",
      "\n",
      "\u001B[1m> Finished chain.\u001B[0m\n"
     ]
    },
    {
     "data": {
      "text/plain": "{'city': 'Seoul',\n 'transport': 'subway',\n 'text': 'You can get to Gyeongbokgung Palace by taking the subway to Gyeongbokgung Station (Line 3). From there, take exit 5 and walk straight for about 5-10 minutes until you reach the entrance of the palace.'}"
     },
     "execution_count": 96,
     "metadata": {},
     "output_type": "execute_result"
    }
   ],
   "source": [
    "from langchain.chains import SequentialChain\n",
    "\n",
    "model = ChatOpenAI()\n",
    "\n",
    "prompt1 = PromptTemplate.from_template(\"what is the famous tour place in {city}? Tell me the name of the place only without additional comments.\")\n",
    "prompt2 = PromptTemplate.from_template(\"How can I get {place} by {transport}?\")\n",
    "chain1 = LLMChain(llm=model,prompt=prompt1,output_key=\"place\",verbose=True)\n",
    "chain2 = LLMChain(llm=model,prompt=prompt2,verbose=True)\n",
    "\n",
    "chain = SequentialChain(chains=[chain1,chain2],input_variables=[\"city\",\"transport\"],verbose=True)\n",
    "\n",
    "chain.invoke({'city':'Seoul','transport':'subway'})"
   ],
   "metadata": {
    "collapsed": false,
    "ExecuteTime": {
     "end_time": "2024-06-05T09:22:09.594490Z",
     "start_time": "2024-06-05T09:22:07.550154Z"
    }
   },
   "id": "9dda491648322b45"
  },
  {
   "cell_type": "code",
   "execution_count": 97,
   "outputs": [
    {
     "name": "stderr",
     "output_type": "stream",
     "text": [
      "/Users/jeongmin/PycharmProjects/langchain-practice/venv/lib/python3.9/site-packages/langchain_core/_api/deprecation.py:119: LangChainDeprecationWarning: The method `Chain.run` was deprecated in langchain 0.1.0 and will be removed in 0.2.0. Use invoke instead.\n",
      "  warn_deprecated(\n"
     ]
    },
    {
     "name": "stdout",
     "output_type": "stream",
     "text": [
      "\n",
      "\n",
      "\u001B[1m> Entering new SequentialChain chain...\u001B[0m\n",
      "\n",
      "\n",
      "\u001B[1m> Entering new LLMChain chain...\u001B[0m\n",
      "Prompt after formatting:\n",
      "\u001B[32;1m\u001B[1;3mwhat is the famous tour place in Seoul? Tell me the name of the place only without additional comments.\u001B[0m\n",
      "\n",
      "\u001B[1m> Finished chain.\u001B[0m\n",
      "\n",
      "\n",
      "\u001B[1m> Entering new LLMChain chain...\u001B[0m\n",
      "Prompt after formatting:\n",
      "\u001B[32;1m\u001B[1;3mWhat is the top 5 restaurant in the Gyeongbokgung Palace in city Seoul without additional comments?\u001B[0m\n",
      "\n",
      "\u001B[1m> Finished chain.\u001B[0m\n",
      "\n",
      "\n",
      "\u001B[1m> Entering new LLMChain chain...\u001B[0m\n",
      "Prompt after formatting:\n",
      "\u001B[32;1m\u001B[1;3mWhat is the best one restaurant and food for family dinner among 1. Gogung\n",
      "2. Hanilkwan\n",
      "3. Tosokchon\n",
      "4. Gogung Samgyetang\n",
      "5. Geumyoong Kimbap ?\u001B[0m\n",
      "\n",
      "\u001B[1m> Finished chain.\u001B[0m\n",
      "\n",
      "\n",
      "\u001B[1m> Entering new LLMChain chain...\u001B[0m\n",
      "Prompt after formatting:\n",
      "\u001B[32;1m\u001B[1;3mHow can I get the Gyeongbokgung Palace by using subway?\u001B[0m\n",
      "\n",
      "\u001B[1m> Finished chain.\u001B[0m\n",
      "\n",
      "\n",
      "\u001B[1m> Entering new LLMChain chain...\u001B[0m\n",
      "Prompt after formatting:\n",
      "\u001B[32;1m\u001B[1;3m\n",
      "Please summarize the tour information with reastaurant information and transportation by using the this information.\n",
      "Restaurant informations : It ultimately depends on the preferences of your family members, but based on popular opinion and reviews, Gogung Samgyetang may be the best option for a family dinner. Samgyetang is a traditional Korean dish consisting of a whole young chicken stuffed with ginseng, garlic, rice, and jujube, simmered in a flavorful broth. It is known for its health benefits and comforting taste, making it a great choice for a hearty and satisfying family meal.\n",
      "Transport information : To get to Gyeongbokgung Palace by subway, you can take Line 3 (Orange Line) and get off at Gyeongbokgung Station (Exit 5). From there, the palace is a short walk away. Alternatively, you can take Line 5 (Purple Line) and get off at Gwanghwamun Station (Exit 2), which is also within walking distance to the palace. Both stations are conveniently located near Gyeongbokgung Palace and easily accessible by subway.\n",
      "\u001B[0m\n",
      "\n",
      "\u001B[1m> Finished chain.\u001B[0m\n",
      "\n",
      "\u001B[1m> Finished chain.\u001B[0m\n"
     ]
    },
    {
     "data": {
      "text/plain": "'The tour includes a visit to Gyeongbokgung Palace, which can be easily accessed by subway (Line 3 or Line 5). For dinner, Gogung Samgyetang is recommended for its traditional Korean dish samgyetang. It is a hearty and satisfying option that is popular among locals and visitors alike.'"
     },
     "execution_count": 97,
     "metadata": {},
     "output_type": "execute_result"
    }
   ],
   "source": [
    "from langchain.prompts import PromptTemplate\n",
    "from langchain.chains import LLMChain\n",
    "from langchain.chat_models import ChatOpenAI\n",
    "\n",
    "model = ChatOpenAI()\n",
    "\n",
    "prompt1 = PromptTemplate.from_template(\"what is the famous tour place in {city}? Tell me the name of the place only without additional comments.\")\n",
    "\n",
    "prompt2 = PromptTemplate.from_template(\"What is the top 5 restaurant in the {place} in city {city} without additional comments?\") #output : restaurants\n",
    "\n",
    "prompt3 = PromptTemplate.from_template(\"What is the best one restaurant and food for family dinner among {restaurants} ?\") #output : restaurant_information\n",
    "\n",
    "prompt4 = PromptTemplate.from_template(\"How can I get the {place} by using {transport}?\") #output : transport_information\n",
    "\n",
    "final_prompt = PromptTemplate.from_template(\"\"\"\n",
    "Please summarize the tour information with reastaurant information and transportation by using the this information.\n",
    "Restaurant informations : {restaurant_information}\n",
    "Transport information : {transport_information}\n",
    "\"\"\")\n",
    "\n",
    "chain1 = LLMChain(llm=model,prompt=prompt1,output_key=\"place\",verbose=True)\n",
    "chain2 = LLMChain(llm=model,prompt=prompt2,output_key=\"restaurants\",verbose=True)\n",
    "chain3 = LLMChain(llm=model,prompt=prompt3,output_key=\"restaurant_information\",verbose=True)\n",
    "chain4 = LLMChain(llm=model,prompt=prompt4,output_key=\"transport_information\",verbose=True)\n",
    "final_chain = LLMChain(llm=model,prompt=final_prompt,output_key=\"tour_summary\",verbose=True)\n",
    "\n",
    "\n",
    "chain = SequentialChain(chains=[chain1,chain2,chain3,chain4,final_chain],input_variables=[\"city\",\"transport\"],verbose=True)\n",
    "chain.run({'city':'Seoul','transport':'subway'})"
   ],
   "metadata": {
    "collapsed": false,
    "ExecuteTime": {
     "end_time": "2024-06-05T09:29:34.534172Z",
     "start_time": "2024-06-05T09:29:25.687572Z"
    }
   },
   "id": "e3bf0dc8fe96098c"
  },
  {
   "cell_type": "code",
   "execution_count": 101,
   "outputs": [
    {
     "name": "stdout",
     "output_type": "stream",
     "text": [
      "\n",
      "\n",
      "\u001B[1m> Entering new MultiPromptChain chain...\u001B[0m\n",
      "restaurants: {'input': 'What is the best restaurant in Seoul?'}\n",
      "\n",
      "\u001B[1m> Entering new LLMChain chain...\u001B[0m\n",
      "Prompt after formatting:\n",
      "\u001B[32;1m\u001B[1;3m\n",
      "You are a tourist guide. You know many good restaurants around the tourist destination.\n",
      "You can recommend good foods and restaurants.\n",
      "Here is a question:\n",
      "What is the best restaurant in Seoul?\n",
      "\u001B[0m\n",
      "\n",
      "\u001B[1m> Finished chain.\u001B[0m\n",
      "\n",
      "\u001B[1m> Finished chain.\u001B[0m\n"
     ]
    },
    {
     "data": {
      "text/plain": "\"There are so many amazing restaurants in Seoul, it's hard to choose just one as the best. However, a highly recommended restaurant that many locals and tourists enjoy is Jungsik. This Michelin-starred restaurant offers modern Korean cuisine with a creative twist, using high-quality ingredients and innovative techniques. The tasting menu is a popular choice for those looking to experience a variety of dishes. Another popular option is Gwangjang Market, where you can try a wide variety of traditional Korean street food. Overall, Seoul offers a diverse culinary scene with something to suit every palate.\""
     },
     "execution_count": 101,
     "metadata": {},
     "output_type": "execute_result"
    }
   ],
   "source": [
    "from langchain.chains.router import MultiPromptChain\n",
    "from langchain.chains.router.llm_router import LLMRouterChain,RouterOutputParser\n",
    "from langchain.prompts import PromptTemplate\n",
    "from langchain.chains.router.multi_prompt_prompt import MULTI_PROMPT_ROUTER_TEMPLATE\n",
    "from langchain.chains import LLMChain\n",
    "from langchain.chat_models import ChatOpenAI\n",
    "\n",
    "model = ChatOpenAI()\n",
    "\n",
    "\n",
    "restaurant_template = \"\"\"\n",
    "You are a tourist guide. You know many good restaurants around the tourist destination.\n",
    "You can recommend good foods and restaurants.\n",
    "Here is a question:\n",
    "{input}\n",
    "\"\"\"\n",
    "\n",
    "transport_template = \"\"\"\n",
    "You are a tourist guide. You have a lot of knowledge in public transportation.\n",
    "You can provide information about public transportation to help tourists get to the tourist destination.\n",
    "Here is a question:\n",
    "{input}\n",
    "\"\"\"\n",
    "\n",
    "destination_template = \"\"\"\n",
    "You are a tourist guide. You know many good tourist places.\n",
    "You can recommend good tourist places to the tourists.\n",
    "Here is a question:\n",
    "{input}\n",
    "\"\"\"\n",
    "\n",
    "\n",
    "prompt_infos = [\n",
    "    {\n",
    "        \"name\":\"restaurants\",\n",
    "        \"description\":\"Good for recommending restaurants around the tourist destinations\",\n",
    "        \"prompt_template\": restaurant_template\n",
    "    },\n",
    "    {\n",
    "        \"name\":\"transport\",\n",
    "        \"description\":\"Good for guiding the transport to get the place\",\n",
    "        \"prompt_template\": transport_template\n",
    "    },\n",
    "    {\n",
    "        \"name\":\"destination\",\n",
    "        \"description\":\"Good for recommending place to tour\",\n",
    "        \"prompt_template\": destination_template\n",
    "    }\n",
    "]\n",
    "\n",
    "destination_chains = {}\n",
    "\n",
    "for prompt_info in prompt_infos:\n",
    "    name = prompt_info[\"name\"]\n",
    "    prompt = PromptTemplate.from_template(prompt_info[\"prompt_template\"])\n",
    "    chain = LLMChain(llm = model, prompt=prompt, verbose=True)\n",
    "    destination_chains[name] = chain\n",
    "\n",
    "default_prompt = PromptTemplate.from_template(\"{input}\")\n",
    "default_chain = LLMChain(llm=model, prompt=default_prompt)\n",
    "\n",
    "destinations = [f\"{p['name']}: {p['description']}\" for p in prompt_infos]\n",
    "destinations_str = \"\\n\".join(destinations)\n",
    "\n",
    "router_template = MULTI_PROMPT_ROUTER_TEMPLATE.format(\n",
    "    destinations=destinations_str\n",
    ")\n",
    "\n",
    "router_prompt = PromptTemplate(\n",
    "    template=router_template,\n",
    "    input_variables=[\"input\"],\n",
    "    output_parser=RouterOutputParser(),\n",
    ")\n",
    "\n",
    "router_chain = LLMRouterChain.from_llm(model, router_prompt)\n",
    "\n",
    "\n",
    "chain = MultiPromptChain(router_chain=router_chain, destination_chains=destination_chains, default_chain=default_chain, verbose=True)\n",
    "\n",
    "chain.run(\"What is best restaurant in Seoul?\")"
   ],
   "metadata": {
    "collapsed": false,
    "ExecuteTime": {
     "end_time": "2024-06-05T09:38:09.227195Z",
     "start_time": "2024-06-05T09:38:05.958833Z"
    }
   },
   "id": "6f3175295104a66c"
  },
  {
   "cell_type": "code",
   "execution_count": 2,
   "outputs": [
    {
     "name": "stderr",
     "output_type": "stream",
     "text": [
      "/Users/jeongmin/PycharmProjects/langchain-practice/venv/lib/python3.9/site-packages/langchain_core/_api/deprecation.py:119: LangChainDeprecationWarning: The class `ChatOpenAI` was deprecated in LangChain 0.0.10 and will be removed in 0.2.0. An updated version of the class exists in the langchain-openai package and should be used instead. To use it run `pip install -U langchain-openai` and import as `from langchain_openai import ChatOpenAI`.\n",
      "  warn_deprecated(\n"
     ]
    },
    {
     "data": {
      "text/plain": "AIMessage(content=\"One of the most famous tour places in Seoul is Gyeongbokgung Palace. This historic palace was built in 1395 and is located in the heart of the city. It is known for its beautiful architecture and serene gardens, and it offers visitors a glimpse into Korea's royal past. The palace is also home to the National Museum of Korean Contemporary History, which showcases the country's history and culture.\", response_metadata={'token_usage': {'completion_tokens': 84, 'prompt_tokens': 16, 'total_tokens': 100}, 'model_name': 'gpt-3.5-turbo', 'system_fingerprint': None, 'finish_reason': 'stop', 'logprobs': None}, id='run-639494e2-088c-49b0-9946-9b3f946949f8-0')"
     },
     "execution_count": 2,
     "metadata": {},
     "output_type": "execute_result"
    }
   ],
   "source": [
    "from langchain.llms import OpenAI\n",
    "from langchain.prompts import PromptTemplate\n",
    "from langchain.chains import LLMChain\n",
    "from langchain.chat_models import ChatOpenAI\n",
    "\n",
    "model = ChatOpenAI()\n",
    "\n",
    "prompt = PromptTemplate.from_template(\"what is the famous tour place in {city}?\")\n",
    "chain = prompt | model\n",
    "city = \"Seoul\"\n",
    "\n",
    "chain.invoke({\"city\":city})"
   ],
   "metadata": {
    "collapsed": false,
    "ExecuteTime": {
     "end_time": "2024-06-07T09:16:04.554034Z",
     "start_time": "2024-06-07T09:16:02.466484Z"
    }
   },
   "id": "376c67913c433744"
  },
  {
   "cell_type": "code",
   "execution_count": 3,
   "outputs": [
    {
     "name": "stdout",
     "output_type": "stream",
     "text": [
      "content='To get to Gyeongbokgung Palace by subway, you can take Line 3 (orange line) and get off at Gyeongbokgung Station (Exit 5). From there, it is a short walk to the palace entrance. Just follow the signs or ask locals for directions if needed. Enjoy your visit to Gyeongbokgung Palace!' response_metadata={'token_usage': {'completion_tokens': 79, 'prompt_tokens': 116, 'total_tokens': 195}, 'model_name': 'gpt-3.5-turbo', 'system_fingerprint': None, 'finish_reason': 'stop', 'logprobs': None} id='run-eab5f6df-cc2c-4323-9fac-5b27827fd10b-0'\n"
     ]
    }
   ],
   "source": [
    "# Sequential Chain with LCEL\n",
    "from operator import itemgetter\n",
    "\n",
    "from langchain.chat_models import ChatOpenAI\n",
    "from langchain.prompts import PromptTemplate\n",
    "from langchain.schema import StrOutputParser\n",
    "\n",
    "prompt1 = PromptTemplate.from_template(\"what is the famous tour place in {city}? Tell me the name of the place only without additional comments.\")\n",
    "prompt2 = PromptTemplate.from_template(\"How can I get {place} by {transport}?\")\n",
    "\n",
    "chain1 = prompt1 | model\n",
    "chain2 = prompt2 | model\n",
    "chain = {\"place\":chain1,\"transport\":itemgetter(\"transport\")} | chain2\n",
    "\n",
    "output = chain.invoke({\"city\": \"Seoul\", \"transport\": \"subway\"})\n",
    "\n",
    "print(output)"
   ],
   "metadata": {
    "collapsed": false,
    "ExecuteTime": {
     "end_time": "2024-06-07T09:26:35.334078Z",
     "start_time": "2024-06-07T09:26:32.755533Z"
    }
   },
   "id": "b8a43ec9f0fc2e00"
  },
  {
   "cell_type": "code",
   "execution_count": null,
   "outputs": [],
   "source": [
    "from operator import itemgetter\n",
    "from langchain.llms import OpenAI\n",
    "from langchain.prompts import PromptTemplate\n",
    "from langchain.chains import LLMChain\n",
    "from langchain.chains import SequentialChain\n",
    "from langchain.schema import StrOutputParser\n",
    "\n",
    "prompt1 = PromptTemplate.from_template(\"what is the famous tour place in {city}? Tell me the name of the place only without additional comments.\")\n",
    "prompt2 = PromptTemplate.from_template(\"What is the top 5 restaurant in the {place} in city {city} without additional comments?\") #output : restaurants\n",
    "prompt3 = PromptTemplate.from_template(\"What is the best one restaurant and food for family dinner among {restaurants} ?\") #output : restaurant_information\n",
    "prompt4 = PromptTemplate.from_template(\"How can I get the {place} by using {transport}?\") #output : transport_information\n",
    "\n",
    "final_prompt = PromptTemplate.from_template(\"\"\"\n",
    "Please summarize the tour information with reastaurant information and transportation by using the this information.\n",
    "Restaurant informations : {restaurant_information}\n",
    "Transport information : {transport_information}\n",
    "\"\"\")\n",
    "\n",
    "chain1 = {\"city\": itemgetter(\"city\")} | prompt1 | model | StrOutputParser()\n",
    "\n",
    "chain2 = {\"place\":chain1,\"city\":itemgetter(\"city\")} | prompt2 | model | StrOutputParser()\n",
    "chain3 = {\"restaurants\":chain2} | prompt3 | model |StrOutputParser()\n",
    "chain4 = {\"place\":chain1,\"transport\":itemgetter(\"transport\")} | prompt4 | model | StrOutputParser()\n",
    "final_chain = { \"restaurant_information\":chain3 , \"transport_information\":chain4 } | final_prompt | model | StrOutputParser()\n",
    "output = final_chain.invoke({\"city\": \"Seoul\", \"transport\": \"subway\"})\n",
    "\n",
    "print(output)"
   ],
   "metadata": {
    "collapsed": false
   },
   "id": "da5319ab445aa37d"
  },
  {
   "cell_type": "code",
   "execution_count": 8,
   "outputs": [
    {
     "data": {
      "text/plain": "             tconst  titleType                           primaryTitle  \\\n1326905   tt7143512      movie                         Bu Nasil Dünya   \n442051    tt0934182  tvEpisode               Makka Pakka Washes Faces   \n884317   tt20883058   tvSeries                        On Patrol: Live   \n242592    tt0436327    tvMovie  François Truffaut, une autobiographie   \n531245   tt11209358      movie                                   Zoey   \n\n                                 originalTitle  isAdult  startYear  endYear  \\\n1326905                         Bu Nasil Dünya      0.0     1976.0      NaN   \n442051                Makka Pakka Washes Faces      0.0     2007.0      NaN   \n884317                         On Patrol: Live      0.0     2022.0      NaN   \n242592   François Truffaut, une autobiographie      0.0     2004.0      NaN   \n531245                                    Zoey      0.0     2020.0      NaN   \n\n        runtimeMinutes                   genres  averageRating  numVotes  \n1326905            NaN                    Drama            5.6         5  \n442051              23  Adventure,Comedy,Family            8.4        28  \n884317             NaN         Crime,Reality-TV            9.1       626  \n242592              78              Documentary            7.3        97  \n531245              84                 Thriller            3.9        74  ",
      "text/html": "<div>\n<style scoped>\n    .dataframe tbody tr th:only-of-type {\n        vertical-align: middle;\n    }\n\n    .dataframe tbody tr th {\n        vertical-align: top;\n    }\n\n    .dataframe thead th {\n        text-align: right;\n    }\n</style>\n<table border=\"1\" class=\"dataframe\">\n  <thead>\n    <tr style=\"text-align: right;\">\n      <th></th>\n      <th>tconst</th>\n      <th>titleType</th>\n      <th>primaryTitle</th>\n      <th>originalTitle</th>\n      <th>isAdult</th>\n      <th>startYear</th>\n      <th>endYear</th>\n      <th>runtimeMinutes</th>\n      <th>genres</th>\n      <th>averageRating</th>\n      <th>numVotes</th>\n    </tr>\n  </thead>\n  <tbody>\n    <tr>\n      <th>1326905</th>\n      <td>tt7143512</td>\n      <td>movie</td>\n      <td>Bu Nasil Dünya</td>\n      <td>Bu Nasil Dünya</td>\n      <td>0.0</td>\n      <td>1976.0</td>\n      <td>NaN</td>\n      <td>NaN</td>\n      <td>Drama</td>\n      <td>5.6</td>\n      <td>5</td>\n    </tr>\n    <tr>\n      <th>442051</th>\n      <td>tt0934182</td>\n      <td>tvEpisode</td>\n      <td>Makka Pakka Washes Faces</td>\n      <td>Makka Pakka Washes Faces</td>\n      <td>0.0</td>\n      <td>2007.0</td>\n      <td>NaN</td>\n      <td>23</td>\n      <td>Adventure,Comedy,Family</td>\n      <td>8.4</td>\n      <td>28</td>\n    </tr>\n    <tr>\n      <th>884317</th>\n      <td>tt20883058</td>\n      <td>tvSeries</td>\n      <td>On Patrol: Live</td>\n      <td>On Patrol: Live</td>\n      <td>0.0</td>\n      <td>2022.0</td>\n      <td>NaN</td>\n      <td>NaN</td>\n      <td>Crime,Reality-TV</td>\n      <td>9.1</td>\n      <td>626</td>\n    </tr>\n    <tr>\n      <th>242592</th>\n      <td>tt0436327</td>\n      <td>tvMovie</td>\n      <td>François Truffaut, une autobiographie</td>\n      <td>François Truffaut, une autobiographie</td>\n      <td>0.0</td>\n      <td>2004.0</td>\n      <td>NaN</td>\n      <td>78</td>\n      <td>Documentary</td>\n      <td>7.3</td>\n      <td>97</td>\n    </tr>\n    <tr>\n      <th>531245</th>\n      <td>tt11209358</td>\n      <td>movie</td>\n      <td>Zoey</td>\n      <td>Zoey</td>\n      <td>0.0</td>\n      <td>2020.0</td>\n      <td>NaN</td>\n      <td>84</td>\n      <td>Thriller</td>\n      <td>3.9</td>\n      <td>74</td>\n    </tr>\n  </tbody>\n</table>\n</div>"
     },
     "execution_count": 8,
     "metadata": {},
     "output_type": "execute_result"
    }
   ],
   "source": [
    "import gzip, shutil\n",
    "import pandas as pd\n",
    "\n",
    "with gzip.open(\"./dataset/title.basics.tsv.gz\", 'rb') as f_in: \n",
    "    with open(\"./dataset/title.basics.tsv\", 'wb') as f_out: \n",
    "        shutil.copyfileobj(f_in, f_out)\n",
    "\n",
    "with gzip.open(\"./dataset/title.ratings.tsv.gz\", 'rb') as f_in: \n",
    "    with open(\"./dataset/title.ratings.tsv\", 'wb') as f_out: \n",
    "        shutil.copyfileobj(f_in, f_out)\n",
    "        \n",
    "\n",
    "basics = pd.read_csv('./dataset/title.basics.tsv', sep='\\t', low_memory=False, na_values=['\\\\N'])\n",
    "ratings = pd.read_csv('./dataset/title.ratings.tsv', sep='\\t', low_memory=False, na_values=['\\\\N'])\n",
    "\n",
    "full_data = pd.merge(basics, ratings, on=\"tconst\")\n",
    "samples = full_data.sample(n=100,random_state=42)\n",
    "samples.head()"
   ],
   "metadata": {
    "collapsed": false,
    "ExecuteTime": {
     "end_time": "2024-06-07T11:01:15.587963Z",
     "start_time": "2024-06-07T11:00:56.461989Z"
    }
   },
   "id": "96606441e996a691"
  },
  {
   "cell_type": "code",
   "execution_count": 9,
   "outputs": [
    {
     "name": "stdout",
     "output_type": "stream",
     "text": [
      "        tconst  titleType                           primaryTitle  \\\n",
      "0    tt7143512      movie                         Bu Nasil Dünya   \n",
      "1    tt0934182  tvEpisode               Makka Pakka Washes Faces   \n",
      "2   tt20883058   tvSeries                        On Patrol: Live   \n",
      "3    tt0436327    tvMovie  François Truffaut, une autobiographie   \n",
      "4   tt11209358      movie                                   Zoey   \n",
      "..         ...        ...                                    ...   \n",
      "95   tt0374363   tvSeries                         Animal Kidding   \n",
      "96   tt0577541  tvEpisode                            County Fair   \n",
      "97   tt0566370  tvEpisode                              Drew Live   \n",
      "98   tt1486055   tvSeries               The Mutants: Simply Love   \n",
      "99   tt2609542  tvEpisode                         Schottys Kampf   \n",
      "\n",
      "                            originalTitle  isAdult  startYear  endYear  \\\n",
      "0                          Bu Nasil Dünya      0.0     1976.0      NaN   \n",
      "1                Makka Pakka Washes Faces      0.0     2007.0      NaN   \n",
      "2                         On Patrol: Live      0.0     2022.0      NaN   \n",
      "3   François Truffaut, une autobiographie      0.0     2004.0      NaN   \n",
      "4                                    Zoey      0.0     2020.0      NaN   \n",
      "..                                    ...      ...        ...      ...   \n",
      "95                         Animal Kidding      0.0     2003.0      NaN   \n",
      "96                            County Fair      0.0     1999.0      NaN   \n",
      "97                              Drew Live      0.0     1999.0      NaN   \n",
      "98                      Promessas de Amor      0.0     2009.0   2009.0   \n",
      "99                         Schottys Kampf      0.0     2013.0      NaN   \n",
      "\n",
      "   runtimeMinutes                   genres  averageRating  numVotes  \n",
      "0            None                    Drama            5.6         5  \n",
      "1              23  Adventure,Comedy,Family            8.4        28  \n",
      "2            None         Crime,Reality-TV            9.1       626  \n",
      "3              78              Documentary            7.3        97  \n",
      "4              84                 Thriller            3.9        74  \n",
      "..            ...                      ...            ...       ...  \n",
      "95             60                   Comedy            8.1        13  \n",
      "96           None  Action,Adventure,Comedy            6.2         8  \n",
      "97           None                   Comedy            6.9       102  \n",
      "98           None     Action,Drama,Fantasy            4.6        34  \n",
      "99             27             Comedy,Crime            8.9       503  \n",
      "\n",
      "[100 rows x 11 columns]\n"
     ]
    }
   ],
   "source": [
    "import pandas as pd\n",
    "import sqlite3\n",
    "\n",
    "conn = sqlite3.connect('example.db')\n",
    "cursor = conn.cursor()\n",
    "samples.to_sql('my_table', conn, index=False, if_exists='replace')\n",
    "query = \"SELECT * FROM my_table\"\n",
    "result = pd.read_sql_query(query, conn)\n",
    "print(result)\n",
    "conn.close()"
   ],
   "metadata": {
    "collapsed": false,
    "ExecuteTime": {
     "end_time": "2024-06-07T11:01:30.045413Z",
     "start_time": "2024-06-07T11:01:30.034635Z"
    }
   },
   "id": "3878b1e115a63f4"
  },
  {
   "cell_type": "code",
   "execution_count": 10,
   "outputs": [
    {
     "name": "stdout",
     "output_type": "stream",
     "text": [
      "SELECT \"tconst\", \"primaryTitle\", \"startYear\", \"genres\", \"averageRating\"\n",
      "FROM my_table\n",
      "WHERE \"titleType\" = 'movie' AND \"startYear\" >= 2008 AND \"averageRating\" >= 8.0\n",
      "ORDER BY \"averageRating\" DESC\n",
      "LIMIT 20;\n"
     ]
    }
   ],
   "source": [
    "from langchain.llms import OpenAI\n",
    "from langchain.chains import create_sql_query_chain\n",
    "from langchain_community.utilities import SQLDatabase\n",
    "from langchain.schema import StrOutputParser\n",
    "from langchain.chat_models import ChatOpenAI\n",
    "\n",
    "model = ChatOpenAI()\n",
    "\n",
    "db = SQLDatabase.from_uri(\"sqlite:///example.db\")\n",
    "chain = create_sql_query_chain(model, db,k=20) | StrOutputParser()\n",
    "\n",
    "result = chain.invoke({\"question\": \"\"\"Please provide a list of movies that have an averageRating of 8.0 or higher and have been commercially available since 2008.\"\"\"})\n",
    "\n",
    "print(result)"
   ],
   "metadata": {
    "collapsed": false,
    "ExecuteTime": {
     "end_time": "2024-06-07T11:03:29.456970Z",
     "start_time": "2024-06-07T11:03:27.819186Z"
    }
   },
   "id": "fd63b4a032c4efdc"
  },
  {
   "cell_type": "code",
   "execution_count": 1,
   "outputs": [
    {
     "name": "stderr",
     "output_type": "stream",
     "text": [
      "/Users/jeongmin/PycharmProjects/langchain-practice/venv/lib/python3.9/site-packages/urllib3/__init__.py:35: NotOpenSSLWarning: urllib3 v2 only supports OpenSSL 1.1.1+, currently the 'ssl' module is compiled with 'LibreSSL 2.8.3'. See: https://github.com/urllib3/urllib3/issues/3020\n",
      "  warnings.warn(\n",
      "/Users/jeongmin/PycharmProjects/langchain-practice/venv/lib/python3.9/site-packages/langchain_core/_api/deprecation.py:119: LangChainDeprecationWarning: The class `ChatOpenAI` was deprecated in LangChain 0.0.10 and will be removed in 0.2.0. An updated version of the class exists in the langchain-openai package and should be used instead. To use it run `pip install -U langchain-openai` and import as `from langchain_openai import ChatOpenAI`.\n",
      "  warn_deprecated(\n",
      "/Users/jeongmin/PycharmProjects/langchain-practice/venv/lib/python3.9/site-packages/langchain_core/_api/deprecation.py:119: LangChainDeprecationWarning: The function `initialize_agent` was deprecated in LangChain 0.1.0 and will be removed in 0.2.0. Use Use new agent constructor methods like create_react_agent, create_json_agent, create_structured_chat_agent, etc. instead.\n",
      "  warn_deprecated(\n",
      "/Users/jeongmin/PycharmProjects/langchain-practice/venv/lib/python3.9/site-packages/langchain_core/_api/deprecation.py:119: LangChainDeprecationWarning: The method `Chain.run` was deprecated in langchain 0.1.0 and will be removed in 0.2.0. Use invoke instead.\n",
      "  warn_deprecated(\n"
     ]
    },
    {
     "name": "stdout",
     "output_type": "stream",
     "text": [
      "\n",
      "\n",
      "\u001B[1m> Entering new AgentExecutor chain...\u001B[0m\n",
      "\u001B[32;1m\u001B[1;3mYes. \n",
      "Follow up: Who is the 2001 US PGA champion?\u001B[0m\n",
      "Intermediate answer: \u001B[36;1m\u001B[1;3mDavid Toms won his only major championship, one stroke ahead of runner-up Phil Mickelson. 2001 PGA Championship. Tournament information. Dates, August 16–19, ... The 2001 PGA Championship was the 83rd PGA Championship, held August 16–19 at the Atlanta Athletic Club in Duluth, Georgia, a suburb northeast of Atlanta. Gene Sarazen, three-time PGA Championship champion (1922, 1923, and 1933). ... 2001 · United States · David Toms · Atlanta Athletic ... ^ \"Jason Day wins US PGA ... 16 - 19 Aug 2001. US PGA Championship. Atlanta Athletic Club, John's Creek, Georgia, USA. Flag of USA. Feed · Results · Leaderboard · Tee Times · Entry List ... Walter Hagen, Jack Nicklaus (5); Tiger Woods (4); Gene Sarazen, Sam Snead, Brooks Koepka (3); Jim Barnes, Leo Diegel, Denny Shute, Paul Runyan, ... THE PLAYERS Championship ; 1, United States T. Woods ; 2, Fiji V. Singh ; 3, Germany B. Langer ; 4, United States J. Kelly ... OnThisDay in 2001 at Atlanta Athletic Club in Georgia, David Toms won his only Major ... Duration: 0:28. Posted: Aug 19, 2021. David Toms won the 2001 PGA Championship at Atlanta Athletic Club after an historic hole-in ... Duration: 0:31. Posted: Jul 15, 2015. PGA Champions: Stroke Play Era ; 2001. David Toms. Atlanta Athletic Club. 66-65-65-69. -15 ; 2000. Tiger Woods. Valhalla C.C.. 66-67-70-67. -18.\u001B[0m\n",
      "\u001B[32;1m\u001B[1;3mFollow up: Where is David Toms from?\u001B[0m\n",
      "Intermediate answer: \u001B[36;1m\u001B[1;3mMonroe, LA\u001B[0m\n",
      "\u001B[32;1m\u001B[1;3mSo the final answer is: Monroe, Louisiana\u001B[0m\n",
      "\n",
      "\u001B[1m> Finished chain.\u001B[0m\n"
     ]
    },
    {
     "data": {
      "text/plain": "'Monroe, Louisiana'"
     },
     "execution_count": 1,
     "metadata": {},
     "output_type": "execute_result"
    }
   ],
   "source": [
    "from langchain.llms.openai import OpenAI\n",
    "from langchain.utilities import GoogleSerperAPIWrapper\n",
    "from langchain.agents import initialize_agent, Tool\n",
    "from langchain.agents import AgentType\n",
    "from dotenv import load_dotenv\n",
    "from langchain.chat_models import ChatOpenAI\n",
    "\n",
    "load_dotenv(override=True)\n",
    "\n",
    "model = ChatOpenAI(temperature=0.1) \n",
    "\n",
    "google_search = GoogleSerperAPIWrapper()\n",
    "tools = [\n",
    "    Tool(\n",
    "        name=\"Intermediate Answer\",\n",
    "        func=google_search.run,\n",
    "        description=\"useful for when you need to ask with search\"\n",
    "    )\n",
    "]\n",
    "\n",
    "agent = initialize_agent(tools = tools,\n",
    "    llm = model,\n",
    "    agent=AgentType.SELF_ASK_WITH_SEARCH,\n",
    "    verbose=True\n",
    ")\n",
    "\n",
    "agent.run(\"What is the hometown of the 2001 US PGA champion?\")"
   ],
   "metadata": {
    "collapsed": false,
    "ExecuteTime": {
     "end_time": "2024-06-10T09:49:24.216181Z",
     "start_time": "2024-06-10T09:49:17.983913Z"
    }
   },
   "id": "26ff3d44f04bd78d"
  },
  {
   "cell_type": "code",
   "execution_count": 3,
   "outputs": [
    {
     "name": "stdout",
     "output_type": "stream",
     "text": [
      "\n",
      "\n",
      "\u001B[1m> Entering new AgentExecutor chain...\u001B[0m\n",
      "\u001B[32;1m\u001B[1;3mYou can search for the 2007 US PGA championship winner and then look up their hometown and score.\n",
      "Action: Intermediate Answer\n",
      "Action Input: 2007 US PGA championship winner\u001B[0m\u001B[36;1m\u001B[1;3mTiger Woods claimed his fourth PGA Championship and improved to 13–0 in major championships when holding at least a share of the 54-hole lead. He led by as many as five strokes in the third and fourth rounds.\u001B[0m\u001B[32;1m\u001B[1;3mNow, I need to find out Tiger Woods' hometown and his score in the 2007 US PGA championship.\n",
      "Action: Intermediate Answer\n",
      "Action Input: Tiger Woods hometown 2007 US PGA championship score\u001B[0m\u001B[36;1m\u001B[1;3mAfter a round including eight birdies, Woods faced a 15-foot putt on the 18th green for his ninth of the day and a place in the record books. Missing: hometown | Show results with:hometown. Friday, August 10, 2007. Tiger Woods scored a 63, tying the record for the lowest single-round score at a major championship. The feat had been previously ... Missing: hometown | Show results with:hometown. POS, PLAYER, SCORE, R1, R2, R3, R4, TOT, EARNINGS, FEDEX PTS. 1, United States T. Woods, -8, 71, 63, 69, 69, 272, $1,260,000, 4950. 2, United States ... Missing: hometown | Show results with:hometown. Get the 2007 Arnold Palmer Invitational presented by MasterCard scorecard for Tiger Woods on ESPN (PH). Includes tournament stats, scores per hole and final Tiger Woods won the PGA Championship for the fourth time in 2007, and it was his 13th overall win in a major championship. It was also his second in a row after ... Ángel Cabrera won his first major championship, one stroke ahead of runners-up Jim Furyk and Tiger Woods, who were unable to birdie the 72nd hole to force a ... Official PGA Championship player profile of Tiger Woods. Featuring news, bio, stats, videos, and more. Incredible find from a Tiger major victory. An official scorecard of Tiger Woods from the 2007 PGA Championship at Southern Hills Country Club. Missing: hometown | Show results with:hometown. 2007 PGA Championship; 2007 The Tour Championship. HIGHEST 18-HOLE SCORES. 85. (13 over par):. 2015 Memorial Tournament. 82. (11 over par):. 2015 Waste ... The Official PGA TOUR Profile of Tiger Woods. PGA TOUR Stats, bio, video, photos, results, and career highlights. Missing: hometown | Show results with:hometown.\u001B[0m\u001B[32;1m\u001B[1;3mI now know the hometown of the 2007 US PGA championship winner and his score.\n",
      "Final Answer: Tiger Woods won the 2007 US PGA championship with a score of -8 and his hometown is United States.\u001B[0m\n",
      "\n",
      "\u001B[1m> Finished chain.\u001B[0m\n",
      "{'input': 'Where is the hometown of the 2007 US PGA championship winner and his score?', 'output': 'Tiger Woods won the 2007 US PGA championship with a score of -8 and his hometown is United States.', 'intermediate_steps': [(AgentAction(tool='Intermediate Answer', tool_input='2007 US PGA championship winner', log='You can search for the 2007 US PGA championship winner and then look up their hometown and score.\\nAction: Intermediate Answer\\nAction Input: 2007 US PGA championship winner'), 'Tiger Woods claimed his fourth PGA Championship and improved to 13–0 in major championships when holding at least a share of the 54-hole lead. He led by as many as five strokes in the third and fourth rounds.'), (AgentAction(tool='Intermediate Answer', tool_input='Tiger Woods hometown 2007 US PGA championship score', log=\"Now, I need to find out Tiger Woods' hometown and his score in the 2007 US PGA championship.\\nAction: Intermediate Answer\\nAction Input: Tiger Woods hometown 2007 US PGA championship score\"), 'After a round including eight birdies, Woods faced a 15-foot putt on the 18th green for his ninth of the day and a place in the record books. Missing: hometown | Show results with:hometown. Friday, August 10, 2007. Tiger Woods scored a 63, tying the record for the lowest single-round score at a major championship. The feat had been previously ... Missing: hometown | Show results with:hometown. POS, PLAYER, SCORE, R1, R2, R3, R4, TOT, EARNINGS, FEDEX PTS. 1, United States T. Woods, -8, 71, 63, 69, 69, 272, $1,260,000, 4950. 2, United States ... Missing: hometown | Show results with:hometown. Get the 2007 Arnold Palmer Invitational presented by MasterCard scorecard for Tiger Woods on ESPN (PH). Includes tournament stats, scores per hole and final Tiger Woods won the PGA Championship for the fourth time in 2007, and it was his 13th overall win in a major championship. It was also his second in a row after ... Ángel Cabrera won his first major championship, one stroke ahead of runners-up Jim Furyk and Tiger Woods, who were unable to birdie the 72nd hole to force a ... Official PGA Championship player profile of Tiger Woods. Featuring news, bio, stats, videos, and more. Incredible find from a Tiger major victory. An official scorecard of Tiger Woods from the 2007 PGA Championship at Southern Hills Country Club. Missing: hometown | Show results with:hometown. 2007 PGA Championship; 2007 The Tour Championship. HIGHEST 18-HOLE SCORES. 85. (13 over par):. 2015 Memorial Tournament. 82. (11 over par):. 2015 Waste ... The Official PGA TOUR Profile of Tiger Woods. PGA TOUR Stats, bio, video, photos, results, and career highlights. Missing: hometown | Show results with:hometown.')]}\n"
     ]
    }
   ],
   "source": [
    "from langchain.llms.openai import OpenAI\n",
    "from langchain.utilities import GoogleSerperAPIWrapper\n",
    "from langchain.agents import initialize_agent, Tool\n",
    "from langchain.agents import AgentType\n",
    "from langchain_core.prompts import PromptTemplate\n",
    "from langchain.agents import AgentExecutor, create_react_agent\n",
    "from langchain.chat_models import ChatOpenAI\n",
    "\n",
    "load_dotenv(override=True)\n",
    "\n",
    "model = ChatOpenAI(temperature=0.1) \n",
    "\n",
    "google_search = GoogleSerperAPIWrapper()\n",
    "tools = [\n",
    "    Tool(\n",
    "        name=\"Intermediate Answer\",\n",
    "        func=google_search.run,\n",
    "        description=\"useful for when you need to ask with search\",\n",
    "        verbose=True\n",
    "    )\n",
    "]\n",
    "\n",
    "template = '''Answer the following questions as best you can. You have access to the following tools:\n",
    "\n",
    "{tools}\n",
    "\n",
    "Use the following format:\n",
    "\n",
    "Question: the input question you must answer\n",
    "Thought: you should always think about what to do\n",
    "Action: the action to take, should be one of [{tool_names}]\n",
    "Action Input: the input to the action\n",
    "Observation: the result of the action\n",
    "... (this Thought/Action/Action Input/Observation can repeat N times)\n",
    "Thought: I now know the final answer\n",
    "Final Answer: the final answer to the original input question\n",
    "\n",
    "Begin!\n",
    "\n",
    "Question: {input}\n",
    "Thought:{agent_scratchpad}'''\n",
    "\n",
    "prompt = PromptTemplate.from_template(template)\n",
    "\n",
    "search_agent = create_react_agent(model,tools,prompt)\n",
    "agent_executor = AgentExecutor(\n",
    "    agent=search_agent,\n",
    "    tools=tools,\n",
    "    verbose=True,\n",
    "    return_intermediate_steps=True,\n",
    ")\n",
    "response = agent_executor.invoke({\"input\": \"Where is the hometown of the 2007 US PGA championship winner and his score?\"})\n",
    "\n",
    "print(response)"
   ],
   "metadata": {
    "collapsed": false,
    "ExecuteTime": {
     "end_time": "2024-06-10T10:09:53.241098Z",
     "start_time": "2024-06-10T10:09:45.585772Z"
    }
   },
   "id": "fd8ce9dcd2001307"
  },
  {
   "cell_type": "code",
   "execution_count": null,
   "outputs": [],
   "source": [
    "import requests\n",
    "from bs4 import BeautifulSoup\n",
    "\n",
    "HEADERS = {\n",
    "    'User-Agent': 'Mozilla/5.0 (Macintosh; Intel Mac OS X 10.15; rv:90.0) Gecko/20100101 Firefox/90.0'\n",
    "}\n",
    "\n",
    "def parse_html(content) -> str:\n",
    "    soup = BeautifulSoup(content, 'html.parser')\n",
    "    text_content_with_links = soup.get_text()[:3000]\n",
    "    return text_content_with_links\n",
    "\n",
    "@tool\n",
    "def web_fetch_tool(url:str) -> str:\n",
    "    \"\"\"Useful to fetches the contents of a web page\"\"\"\n",
    "    if isinstance(url,list):\n",
    "        url = url[0]\n",
    "    print(\"Fetch_web_page URL :\",url)\n",
    "    response = requests.get(url, headers=HEADERS)\n",
    "    return parse_html(response.content)\n"
   ],
   "metadata": {
    "collapsed": false
   },
   "id": "75d3696c9630723"
  },
  {
   "cell_type": "code",
   "execution_count": 4,
   "outputs": [
    {
     "name": "stdout",
     "output_type": "stream",
     "text": [
      "\n",
      "\n",
      "\u001B[1m> Entering new AgentExecutor chain...\u001B[0m\n",
      "\u001B[32;1m\u001B[1;3mI should start by using the search tool to find information on the best Korean restaurant in Seoul. Then, I can fetch the contents from the websites to gather more details. Finally, I can use the Summarizer to condense the information into 1000 words.\n",
      "Action: duckduckgo_results_json\n",
      "Action Input: \"best Korean restaurant in Seoul\"\u001B[0m\u001B[36;1m\u001B[1;3m[snippet: 3. Han Chu Korean Fried Chicken & Beer. We love chimaek restaurants and Han Chu is frequently listed as one of the best restaurants in Seoul for Korean fried chicken. Chimaek is a compound word for chi-cken and maek-ju, the Korean word for \"beer\", so it refers to the popular duo of Korean fried chicken and beer., title: 25 Seoul Restaurants You'll Want to Fly For | Will Fly for Food, link: https://www.willflyforfood.net/seoul-food-guide-25-must-eat-restaurants-in-seoul-south-korea/], [snippet: Chicken & Beer. \"Chimaek\" (Chicken + Maekju | beer) got its start in the early 1970s. It's now such a great must-eat Korean food institution that we have more chicken restaurants than there are McDonald's in the entire world. There's something about this combination., title: 14 Must-eat Korean Foods In Seoul and Where To Eat, link: https://zenkimchi.com/tour-tips/must-eat-korean-food-in-seoul-and-where-to-eat-it/], [snippet: 4. Jihwaja. Jihwaja is a traditional Korean restaurant that is known for its beautiful hanok architecture and authentic dishes. The restaurant is located in the historic Bukchon Hanok Village and offers a serene and picturesque setting for a meal. The menu features a range of classic Korean dishes, including galbi jjim (braised short ribs), dakgalbi (spicy stir-fried chicken), and doenjang ..., title: 10 Best Korean Restaurants in Seoul - Japan Web Magazine, link: https://jw-webmagazine.com/best-korean-restaurants-in-seoul/], [snippet: Maple Tree House Itaewon. It came into existence in 2005 and is a chain of Seoul BBQ restaurants famous for its delicious Korean barbeque. Maple Tree House is a family and foreigner-friendly place. Even the locals love this place due to the traditional Korean barbeque food it offers in a modern setting. Maple Tree House Itaewon., title: The Ultimate Guide to the Best Korean BBQ Spots | KoreaTravelPost, link: https://www.koreatravelpost.com/best-korean-bbq-seoul/]\u001B[0m\u001B[32;1m\u001B[1;3mI have found information on several top Korean restaurants in Seoul. Now, I should fetch the contents from the websites to gather more details.\n",
      "Action: WebFetcher\n",
      "Action Input: https://www.willflyforfood.net/seoul-food-guide-25-must-eat-restaurants-in-seoul-south-korea/\u001B[0mFetch_web_page URL : https://www.willflyforfood.net/seoul-food-guide-25-must-eat-restaurants-in-seoul-south-korea/\n",
      "\u001B[33;1m\u001B[1;3m\n",
      "\n",
      "\n",
      "\n",
      "\n",
      "25 Seoul Restaurants You’ll Want to Fly For | Will Fly for Food\n",
      "\n",
      "\n",
      "\n",
      "\n",
      "\n",
      "\n",
      "\n",
      "\n",
      "\n",
      "\n",
      "\n",
      "\n",
      "\n",
      "\n",
      "\n",
      "\n",
      "\n",
      "\n",
      "\n",
      "\n",
      "\n",
      "\n",
      "\n",
      "\n",
      "\n",
      "\n",
      "\n",
      "\n",
      "\n",
      "\n",
      "\n",
      "\n",
      "\n",
      "\n",
      "\n",
      " \n",
      "\n",
      "\n",
      "\n",
      "\n",
      "\n",
      "\n",
      "\n",
      " \n",
      " \n",
      "\n",
      "\n",
      "\n",
      "\n",
      "\n",
      "\n",
      "\n",
      "\n",
      "\n",
      "\n",
      "\n",
      "\n",
      "\n",
      "\n",
      "\n",
      " \n",
      "\n",
      "Skip to Content\n",
      "\n",
      "\n",
      "\n",
      "\n",
      "\n",
      "Search\n",
      "\n",
      "Magnifying Glass\n",
      "\n",
      "\n",
      "\n",
      "\n",
      "\n",
      "\n",
      "Search for:\n",
      "\n",
      "\n",
      "\n",
      "\n",
      "\n",
      "Close Search\n",
      "×\n",
      "\n",
      "\n",
      " \n",
      "\n",
      "\n",
      "\n",
      "\n",
      "\n",
      "LATEST\n",
      "FOOD + TRAVEL≺\n",
      "\n",
      "FOOD GUIDES\n",
      "TRAVEL GUIDES\n",
      "NATIONAL DISH QUEST\n",
      "EVERYWHERE & NOWHERE\n",
      "TRAVELEATER GIFT GUIDE\n",
      "\n",
      "\n",
      "DESTINATIONS≺\n",
      "\n",
      "ASIA\n",
      "EUROPE\n",
      "OCEANIA\n",
      "NORTH AMERICA\n",
      "SOUTH AMERICA\n",
      "AFRICA\n",
      "\n",
      "\n",
      "ABOUT≺\n",
      "\n",
      "TERMS OF USE\n",
      "DISCLAIMER\n",
      "PRIVACY POLICY\n",
      "\n",
      "\n",
      "CONTACT\n",
      " \n",
      "\n",
      "\n",
      "\n",
      "\n",
      "\n",
      "\n",
      "\n",
      "\n",
      "\n",
      "\n",
      "25 Restaurants With Superb Food in Seoul\n",
      "\n",
      "Posted on Last updated: May 1, 2024\n",
      "\n",
      "\n",
      "TERMS OF USE: Some of the information on this website may have changed since the time of writing. By continuing to read this article, you agree to be bound by our Terms of Use and Disclaimer and verify any information before taking action. Stay safe!\n",
      "DISCLOSURE: Some of our articles may contain affiliate links or sponsorships (disclosed at the bottom).\n",
      "\n",
      "\n",
      "We have a short list of countries that we enjoy visiting again and again, and a lot of it has to do with the food. South Korea is one of those countries.\n",
      "We’ve taken three trips to Seoul thus far and with each visit, we delve deeper into the city’s culinary landscape to update and improve upon this Seoul restaurant guide.\n",
      "It’s important for us to eat like locals so we’ve made it our mission to find the best Seoul restaurants serving the most delicious and authentic examples of popular Korean dishes like BBQ, bibimbap, kalguksu, naengmyeon, and many others.\n",
      "Compiled and refined over the years thanks to the help of locals, Seoul food blogs, crowd review sites, and my Korean sister-in-law who’s a former chef, the second edition of our Seoul restaurant guide has expanded to 25 eateries to give travelers as complete a Korean food experience as possible. If you’re visiting Korea and want to find the best food in Seoul, then this guide will be very useful to you.\n",
      "This restaurant guide leads you to the best places to eat in Seoul, but if you want to know what Korean dishes to look for, then be sure to check out our Korean food guide as well. It lists 45 of the best dishes to eat in Seoul and South Korea.\n",
      "\n",
      "SEOUL RESTAURANTS QUICK LINKS\n",
      "To help facilitate your Seoul trip planning, I’ve compiled links to hotels, tours, and other travel-related services here.\n",
      "HOTELS\n",
      "Top-rated hotels in Myeongdong, the best area to stay in Seoul for first-time visitors.\n",
      "\n",
      "Luxury: Lotte Hotel Seoul Executive Tower\n",
      "Midrange: G2 Hotel Myeongdong\n",
      "Budget: Star Guest House\n",
      "\n",
      "TOURS\n",
      "\n",
      "Sightseeing Tour: Hop-On Hop-Off Tours\n",
      "Food Tour: Korean Night Dining Tour\n",
      "Cooking Classes: Seoul Cooking Classes\n",
      "Restaurant Vouchers: Seoul Restaurant Deals\n",
      "\n",
      "OTHER SERVICES\n",
      "\n",
      "Visa Services\n",
      "Travel Insurance (with COVID cover)\n",
      "Airport Transfers\n",
      "Go City Pass\n",
      "Korea Tour Card\n",
      "Discover Seoul Pass\n",
      "South Korea eSIM\n",
      "\n",
      "SEOUL TRAVEL GUIDE\n",
      "If you’re planning a trip to Seoul, then be sure to check out our detailed Seoul travel guide. It’ll have all the information you need – like when to go, where to stay, which pala\u001B[0m\u001B[32;1m\u001B[1;3mI have fetched the contents from one website. Now, I should repeat the process for other websites to gather more details on the best Korean restaurants in Seoul.\n",
      "Action: WebFetcher\n",
      "Action Input: https://zenkimchi.com/tour-tips/must-eat-korean-food-in-seoul-and-where-to-eat-it/\u001B[0mFetch_web_page URL : https://zenkimchi.com/tour-tips/must-eat-korean-food-in-seoul-and-where-to-eat-it/\n",
      "\u001B[33;1m\u001B[1;3m   14 Must-eat Korean Foods In Seoul and Where To Eat | ZenKimchi                                                              Facebook   X   Instagram   RSS About Our CompanyTours FAQCancellation PolicyCash Payment PolicyBlog FAQPressContact Us    Popular ToursNeon Dreams: Seoul’s Night Photo TourThe Authentic Korean Chicken and Beer ExperienceThe Ultimate Korean BBQ Night OutThe Dark Side of SeoulSeoul HikeA Walk Among the Graves (Seasonal)ZKX Private & Premium ToursPersonal Pro PhotographerZKX Premium ExperiencesShare, Savor, and Sing: Vegetarians and Carnivores Unite (Corporate Group Experience)Get Outta SeoulThe Majang Meat Lovers ExperienceMix & Match Private ExperienceTailored Private ExperiencesTeam BuildingPartner Tours & ProductsK-Food 101BeveragesBuddhist Temple CuisineChicken Chicken ChickenConvenience Store FindsFood ‘HoodsHistoryIngredientsJunk Food & TreatsKimchiFinds & TipsFood StoriesFood TrendSpecial OccasionsFestivalThanksgiving ChroniclesChristmas ChroniclesStreet FoodTravelingWTFRecipesKorean Kitchen HackingKorean RecipesModern KoreanMunchies from Ben  Select Page      14 Must-eat Korean Foods In Seoul and Where To EatAug 23, 2023I’ve been writing about Korean food in Seoul since 2004 at ZenKimchi. I’ve consulted Anthony Bourdain, Andrew Zimmern, Lonely Planet, Conde Nast Traveler, The Travel Channel, and other world media in finding the must eat Korean foods.Here’s the ultimate list. These are foods you can find specific restaurants for. I’m not including foods that you’d find as side dishes, like Japchae and Kimchi.https://www.youtube.com/watch?v=ggaKmHCj0N4Beginner’s QuestThis list is getting so hyuuuge that I’m dividing it into Beginner, Intermediate, and Advanced. Beginner is if you’re new to Korean food, or if it’s your first time in Korea. These are also the foods that are crowd pleasers–the greatest hits. The Top-40 music of Korean food.   Korean BBQThe first must-eat Korean food that springs to mind. Cooking meat at your table and wrapping it in lettuce. There’s something primal about that. Korean BBQ is all about community and fun. In Korea itself, pork is king. Beef costs so much it’s for special occasions.Where to eat Korean BBQIt’s hard to screw up Korean BBQ in Korea. The competition is so fierce that mediocre places don’t hang out long.Mapo Jeong Daepo 마포정대포My go-to place is still Jeong Daepo in the Mapo neighborhood, near Gongdeok Station. The whole area is full of BBQ aromas. Most all the restaurants in that area are great. We made sure Anthony Bourdain went there the last time he was in Seoul. It’s the main place we go to on The Ultimate Korean BBQ Night Out. Hongik Sutbul Galbi Sogeum Gwi 홍익숯불갈비소금구I don’t know how long this will hold out against the pressure of gentrification. It’s a packed, packed, packed place. They give your meat a pre-cook over strong fire before finishing it at your table.Chicken & Beer“Chimaek” (Chicken + Maekju | beer) got its start in the early 1970s. It’s now such a great must-eat \u001B[0m\u001B[32;1m\u001B[1;3mI have fetched the contents from two websites. Now, I should repeat the process for the remaining websites to gather more details on the best Korean restaurants in Seoul.\n",
      "Action: WebFetcher\n",
      "Action Input: https://jw-webmagazine.com/best-korean-restaurants-in-seoul/\u001B[0mFetch_web_page URL : https://jw-webmagazine.com/best-korean-restaurants-in-seoul/\n",
      "\u001B[33;1m\u001B[1;3m\n",
      "\n",
      "\n",
      "\n",
      "\n",
      "\n",
      "\n",
      "\n",
      "\n",
      "\n",
      "\n",
      "\n",
      "\n",
      "\n",
      "\n",
      "\n",
      "\n",
      "\n",
      "\n",
      "\n",
      "\n",
      "\n",
      "\n",
      "\n",
      "\n",
      "10 Best Korean Restaurants in Seoul - Japan Web Magazine\n",
      "\n",
      "\n",
      "\n",
      "\n",
      "\n",
      "\n",
      "\n",
      "\n",
      "\n",
      "\n",
      "\n",
      "\n",
      "\n",
      "\n",
      "\n",
      "\n",
      "\n",
      "\n",
      "\n",
      "\n",
      "\n",
      "\n",
      "\n",
      "\n",
      "\n",
      "\n",
      "\n",
      "\n",
      "\n",
      "\n",
      "\n",
      "\n",
      "\n",
      "\n",
      "\n",
      "\n",
      "\n",
      "\n",
      "\n",
      "\n",
      "\n",
      "\n",
      "\n",
      "\n",
      "\n",
      "\n",
      "\n",
      "\n",
      "\n",
      "\n",
      "\n",
      "\n",
      "\n",
      "\n",
      "\n",
      "\n",
      "\n",
      "\n",
      "\n",
      "\n",
      "\n",
      "\n",
      "\n",
      "\n",
      "\n",
      " \n",
      "\n",
      "\n",
      "Inbound Platform Corp.\r\n",
      "                    (TSE Code: 5587)\n",
      "\n",
      "\n",
      "\n",
      "\n",
      "\n",
      "Toggle Dropdown\n",
      "\n",
      "\n",
      "\n",
      "\n",
      "\n",
      "\n",
      "\n",
      "\n",
      "Toggle Dropdown\n",
      "\n",
      "Destinations\n",
      " \n",
      "\n",
      "Tokyo\n",
      "Osaka\n",
      "Kyoto\n",
      "Mt.Fuji\n",
      "Hokkaido\n",
      "Okinawa\n",
      "Hiroshima\n",
      " \n",
      "\n",
      "Others\n",
      "\n",
      "\n",
      "\n",
      "\n",
      "Interests\n",
      " \n",
      "\n",
      "Things to Do\n",
      "Food\n",
      "Shopping\n",
      "Accommodation\n",
      "\n",
      "\n",
      "Season\n",
      " \n",
      "\n",
      "Spring\n",
      "Summer\n",
      "Autumn\n",
      "Winter\n",
      "\n",
      "\n",
      "Anime\n",
      "Travel Tips\n",
      " \n",
      "\n",
      "Travel Alerts\n",
      "Cultural Tips\n",
      "Itinerary\n",
      "Transportation\n",
      "Japanese\n",
      "Currency\n",
      "Internet\n",
      "\n",
      "\n",
      "広告について\n",
      "\n",
      "\n",
      "\n",
      "\r\n",
      "                                English                                \n",
      " \n",
      "\n",
      "English\n",
      "繁体字\n",
      "\n",
      "\n",
      "\n",
      "\n",
      "\n",
      "\n",
      "Submit\n",
      "\n",
      "\n",
      "\n",
      " \n",
      "\n",
      "\n",
      " \n",
      "\n",
      "\n",
      "\n",
      "\n",
      "\n",
      "\n",
      "\n",
      "\n",
      "\n",
      "\n",
      "Home\n",
      "\n",
      "\n",
      "\n",
      "Interests\n",
      "\n",
      "\n",
      "\n",
      "Food\n",
      "\n",
      "10 Best Korean Restaurants in Seoul Finding Authentic Korean Cuisine in Seoul\n",
      "\n",
      "\n",
      " \n",
      "\n",
      "\n",
      "\n",
      "\n",
      "\n",
      "\n",
      "\n",
      "\n",
      "\n",
      "\n",
      "Hiro K..\n",
      "\n",
      "\n",
      "Update: Apr 20, 2024\n",
      "\n",
      "\n",
      "\n",
      "\n",
      "\n",
      "\n",
      "\n",
      "\n",
      "+1\n",
      "1\n",
      "\n",
      "\n",
      "\n",
      "\n",
      "\n",
      "\n",
      "\n",
      "\n",
      "\n",
      "\n",
      "\n",
      "\n",
      "\n",
      "\n",
      "\n",
      "\n",
      "\n",
      "\n",
      "\n",
      "\n",
      "\n",
      "\n",
      "\n",
      "\n",
      "\n",
      "\n",
      "\n",
      "\n",
      "\n",
      "\n",
      "\n",
      "\n",
      "\n",
      "\n",
      "\n",
      "\n",
      "\n",
      "\n",
      "\n",
      "\n",
      "\n",
      "\n",
      "\n",
      "\n",
      "\n",
      "\n",
      "\n",
      "\n",
      "\n",
      "\n",
      "\n",
      "\n",
      "\n",
      "\n",
      "\n",
      "\n",
      "\n",
      " \n",
      "\n",
      "Seoul is a city renowned for its vibrant and diverse culture, and Korean cuisine is at the heart of it all. From traditional street food to innovative modern eateries, Seoul offers a great variety of dining options for visitors and locals alike.\n",
      "In this article, we’ve compiled a list of the 10 best Korean restaurants in Seoul, showcasing the very best of the city’s gastronomic offerings. From Michelin-starred fine dining to casual local joints, these restaurants are sure to delight your taste buds and give you a true taste of Korea.\n",
      "1. Myeongdong Kyoja Main\n",
      "We start our list with a legendary restaurant in Myeongdong, renowned for its handmade kalguksu (knife-cut noodle soup) and mandu (dumplings).\n",
      "Myeongdong Kyoja has been serving up these classic Korean dishes for over 50 years and has gained a loyal following of locals and visitors alike. The noodles and dumplings are made fresh daily, and the broth is simmered for hours to develop its rich and savory flavor.\n",
      "\n",
      "View InformationHide\n",
      "\n",
      "Information\n",
      "\n",
      "\n",
      "\n",
      "\n",
      "\n",
      "\n",
      "\n",
      "Address\n",
      "29 Myeongdong 10-gil, Jung-gu, Seoul, South Korea\n",
      "\n",
      "Business Hours\n",
      "10:30 – 21:30\n",
      "\n",
      "Official Website\n",
      "http://www.mdkj.co.kr/en/\n",
      "\n",
      "\n",
      "\n",
      "\n",
      "2. 853\n",
      "853 is a trendy Korean restaurant that specializes in modern interpretations of traditional Korean cuisine. The restaurant’s sleek and minimalist decor sets the stage for a dining experience that is both stylish and sophisticated.\n",
      "The menu features a range of creative dishes made with high-quality ingredients and presented with artistic flair. Some of the standout dishes include the beef tteokgalbi and the sea urchin bibimbap. 853 is a must-visit destination for anyone looking to explore the innovative and exciting side of Korean gastronomy.\n",
      "\n",
      "View InformationHide\n",
      "\n",
      "Information\n",
      "\n",
      "\r\n",
      "                        -\n",
      "\n",
      "\n",
      "\n",
      "\n",
      "Address\n",
      "16 Insadong 12-gil, Jongno-gu, Seoul, South Korea\n",
      "\n",
      "Business Hours\n",
      "11:30 – 22:00\n",
      "\n",
      "\n",
      "\n",
      "\n",
      "3. Tosokchon Samgyetang\n",
      "Tosokchon Samgyetang is a famous Korean restaurant that is known for its signature dish, samgyetang, a traditional chicken soup made with ginseng and other medicinal herbs.\n",
      "The restaurant has been serving this no\u001B[0m\u001B[32;1m\u001B[1;3mI have fetched the contents from all three websites. Now, I should use the Summarizer to condense the information into 1000 words.\n",
      "Action: Summarizer\n",
      "Action Input: Contents from all three websites\u001B[0m\u001B[38;5;200m\u001B[1;3mThe content from all three websites covers a variety of topics, including news, entertainment, lifestyle, and technology. Each website provides a unique perspective on current events and offers a mix of articles, videos, and interactive features to engage readers. The websites aim to inform, entertain, and inspire their audience with a diverse range of content.\u001B[0m\u001B[32;1m\u001B[1;3mI now have a comprehensive summary of the best Korean restaurants in Seoul based on the information gathered from multiple websites.\n",
      "Final Answer: The best Korean restaurants in Seoul include Han Chu Korean Fried Chicken & Beer, Jihwaja, and Maple Tree House Itaewon, among others. These restaurants offer a variety of traditional Korean dishes and provide a unique dining experience for locals and visitors alike.\u001B[0m\n",
      "\n",
      "\u001B[1m> Finished chain.\u001B[0m\n",
      "{'input': 'Tell me about best Korean reastaurant in Seoul.Use search tool to find the information.To get the details, please fetch the contents from the web sites.Summarize the details in 1000 words.', 'output': 'The best Korean restaurants in Seoul include Han Chu Korean Fried Chicken & Beer, Jihwaja, and Maple Tree House Itaewon, among others. These restaurants offer a variety of traditional Korean dishes and provide a unique dining experience for locals and visitors alike.', 'intermediate_steps': [(AgentAction(tool='duckduckgo_results_json', tool_input='best Korean restaurant in Seoul', log='I should start by using the search tool to find information on the best Korean restaurant in Seoul. Then, I can fetch the contents from the websites to gather more details. Finally, I can use the Summarizer to condense the information into 1000 words.\\nAction: duckduckgo_results_json\\nAction Input: \"best Korean restaurant in Seoul\"'), '[snippet: 3. Han Chu Korean Fried Chicken & Beer. We love chimaek restaurants and Han Chu is frequently listed as one of the best restaurants in Seoul for Korean fried chicken. Chimaek is a compound word for chi-cken and maek-ju, the Korean word for \"beer\", so it refers to the popular duo of Korean fried chicken and beer., title: 25 Seoul Restaurants You\\'ll Want to Fly For | Will Fly for Food, link: https://www.willflyforfood.net/seoul-food-guide-25-must-eat-restaurants-in-seoul-south-korea/], [snippet: Chicken & Beer. \"Chimaek\" (Chicken + Maekju | beer) got its start in the early 1970s. It\\'s now such a great must-eat Korean food institution that we have more chicken restaurants than there are McDonald\\'s in the entire world. There\\'s something about this combination., title: 14 Must-eat Korean Foods In Seoul and Where To Eat, link: https://zenkimchi.com/tour-tips/must-eat-korean-food-in-seoul-and-where-to-eat-it/], [snippet: 4. Jihwaja. Jihwaja is a traditional Korean restaurant that is known for its beautiful hanok architecture and authentic dishes. The restaurant is located in the historic Bukchon Hanok Village and offers a serene and picturesque setting for a meal. The menu features a range of classic Korean dishes, including galbi jjim (braised short ribs), dakgalbi (spicy stir-fried chicken), and doenjang ..., title: 10 Best Korean Restaurants in Seoul - Japan Web Magazine, link: https://jw-webmagazine.com/best-korean-restaurants-in-seoul/], [snippet: Maple Tree House Itaewon. It came into existence in 2005 and is a chain of Seoul BBQ restaurants famous for its delicious Korean barbeque. Maple Tree House is a family and foreigner-friendly place. Even the locals love this place due to the traditional Korean barbeque food it offers in a modern setting. Maple Tree House Itaewon., title: The Ultimate Guide to the Best Korean BBQ Spots | KoreaTravelPost, link: https://www.koreatravelpost.com/best-korean-bbq-seoul/]'), (AgentAction(tool='WebFetcher', tool_input='https://www.willflyforfood.net/seoul-food-guide-25-must-eat-restaurants-in-seoul-south-korea/', log='I have found information on several top Korean restaurants in Seoul. Now, I should fetch the contents from the websites to gather more details.\\nAction: WebFetcher\\nAction Input: https://www.willflyforfood.net/seoul-food-guide-25-must-eat-restaurants-in-seoul-south-korea/'), '\\n\\n\\n\\n\\n25 Seoul Restaurants You’ll Want to Fly For | Will Fly for Food\\n\\n\\n\\n\\n\\n\\n\\n\\n\\n\\n\\n\\n\\n\\n\\n\\n\\n\\n\\n\\n\\n\\n\\n\\n\\n\\n\\n\\n\\n\\n\\n\\n\\n\\n\\n \\n\\n\\n\\n\\n\\n\\n\\n \\n \\n\\n\\n\\n\\n\\n\\n\\n\\n\\n\\n\\n\\n\\n\\n\\n \\n\\nSkip to Content\\n\\n\\n\\n\\n\\nSearch\\n\\nMagnifying Glass\\n\\n\\n\\n\\n\\n\\nSearch for:\\n\\n\\n\\n\\n\\nClose Search\\n×\\n\\n\\n \\n\\n\\n\\n\\n\\nLATEST\\nFOOD + TRAVEL≺\\n\\nFOOD GUIDES\\nTRAVEL GUIDES\\nNATIONAL DISH QUEST\\nEVERYWHERE & NOWHERE\\nTRAVELEATER GIFT GUIDE\\n\\n\\nDESTINATIONS≺\\n\\nASIA\\nEUROPE\\nOCEANIA\\nNORTH AMERICA\\nSOUTH AMERICA\\nAFRICA\\n\\n\\nABOUT≺\\n\\nTERMS OF USE\\nDISCLAIMER\\nPRIVACY POLICY\\n\\n\\nCONTACT\\n \\n\\n\\n\\n\\n\\n\\n\\n\\n\\n\\n25 Restaurants With Superb Food in Seoul\\n\\nPosted on Last updated: May 1, 2024\\n\\n\\nTERMS OF USE: Some of the information on this website may have changed since the time of writing. By continuing to read this article, you agree to be bound by our Terms of Use and Disclaimer and verify any information before taking action. Stay safe!\\nDISCLOSURE: Some of our articles may contain affiliate links or sponsorships (disclosed at the bottom).\\n\\n\\nWe have a short list of countries that we enjoy visiting again and again, and a lot of it has to do with the food. South Korea is one of those countries.\\nWe’ve taken three trips to Seoul thus far and with each visit, we delve deeper into the city’s culinary landscape to update and improve upon this Seoul restaurant guide.\\nIt’s important for us to eat like locals so we’ve made it our mission to find the best Seoul restaurants serving the most delicious and authentic examples of popular Korean dishes like BBQ, bibimbap, kalguksu, naengmyeon, and many others.\\nCompiled and refined over the years thanks to the help of locals, Seoul food blogs, crowd review sites, and my Korean sister-in-law who’s a former chef, the second edition of our Seoul restaurant guide has expanded to 25 eateries to give travelers as complete a Korean food experience as possible. If you’re visiting Korea and want to find the best food in Seoul, then this guide will be very useful to you.\\nThis restaurant guide leads you to the best places to eat in Seoul, but if you want to know what Korean dishes to look for, then be sure to check out our Korean food guide as well. It lists 45 of the best dishes to eat in Seoul and South Korea.\\n\\nSEOUL RESTAURANTS QUICK LINKS\\nTo help facilitate your Seoul trip planning, I’ve compiled links to hotels, tours, and other travel-related services here.\\nHOTELS\\nTop-rated hotels in Myeongdong, the best area to stay in Seoul for first-time visitors.\\n\\nLuxury: Lotte Hotel Seoul Executive Tower\\nMidrange: G2 Hotel Myeongdong\\nBudget: Star Guest House\\n\\nTOURS\\n\\nSightseeing Tour: Hop-On Hop-Off Tours\\nFood Tour: Korean Night Dining Tour\\nCooking Classes: Seoul Cooking Classes\\nRestaurant Vouchers: Seoul Restaurant Deals\\n\\nOTHER SERVICES\\n\\nVisa Services\\nTravel Insurance (with COVID cover)\\nAirport Transfers\\nGo City Pass\\nKorea Tour Card\\nDiscover Seoul Pass\\nSouth Korea eSIM\\n\\nSEOUL TRAVEL GUIDE\\nIf you’re planning a trip to Seoul, then be sure to check out our detailed Seoul travel guide. It’ll have all the information you need – like when to go, where to stay, which pala'), (AgentAction(tool='WebFetcher', tool_input='https://zenkimchi.com/tour-tips/must-eat-korean-food-in-seoul-and-where-to-eat-it/', log='I have fetched the contents from one website. Now, I should repeat the process for other websites to gather more details on the best Korean restaurants in Seoul.\\nAction: WebFetcher\\nAction Input: https://zenkimchi.com/tour-tips/must-eat-korean-food-in-seoul-and-where-to-eat-it/'), '   14 Must-eat Korean Foods In Seoul and Where To Eat | ZenKimchi                                                              Facebook   X   Instagram   RSS About Our CompanyTours FAQCancellation PolicyCash Payment PolicyBlog FAQPressContact Us    Popular ToursNeon Dreams: Seoul’s Night Photo TourThe Authentic Korean Chicken and Beer ExperienceThe Ultimate Korean BBQ Night OutThe Dark Side of SeoulSeoul HikeA Walk Among the Graves (Seasonal)ZKX Private & Premium ToursPersonal Pro PhotographerZKX Premium ExperiencesShare, Savor, and Sing: Vegetarians and Carnivores Unite (Corporate Group Experience)Get Outta SeoulThe Majang Meat Lovers ExperienceMix & Match Private ExperienceTailored Private ExperiencesTeam BuildingPartner Tours & ProductsK-Food 101BeveragesBuddhist Temple CuisineChicken Chicken ChickenConvenience Store FindsFood ‘HoodsHistoryIngredientsJunk Food & TreatsKimchiFinds & TipsFood StoriesFood TrendSpecial OccasionsFestivalThanksgiving ChroniclesChristmas ChroniclesStreet FoodTravelingWTFRecipesKorean Kitchen HackingKorean RecipesModern KoreanMunchies from Ben  Select Page      14 Must-eat Korean Foods In Seoul and Where To EatAug 23, 2023I’ve been writing about Korean food in Seoul since 2004 at ZenKimchi. I’ve consulted Anthony Bourdain, Andrew Zimmern, Lonely Planet, Conde Nast Traveler, The Travel Channel, and other world media in finding the must eat Korean foods.Here’s the ultimate list. These are foods you can find specific restaurants for. I’m not including foods that you’d find as side dishes, like Japchae and Kimchi.https://www.youtube.com/watch?v=ggaKmHCj0N4Beginner’s QuestThis list is getting so hyuuuge that I’m dividing it into Beginner, Intermediate, and Advanced. Beginner is if you’re new to Korean food, or if it’s your first time in Korea. These are also the foods that are crowd pleasers–the greatest hits. The Top-40 music of Korean food.\\xa0  Korean BBQThe first must-eat Korean food that springs to mind. Cooking meat at your table and wrapping it in lettuce. There’s something primal about that. Korean BBQ is all about community and fun. In Korea itself, pork is king. Beef costs so much it’s for special occasions.Where to eat Korean BBQIt’s hard to screw up Korean BBQ in Korea. The competition is so fierce that mediocre places don’t hang out long.Mapo Jeong Daepo 마포정대포My go-to place is still Jeong Daepo in the Mapo neighborhood, near Gongdeok Station. The whole area is full of BBQ aromas. Most all the restaurants in that area are great. We made sure Anthony Bourdain went there the last time he was in Seoul. It’s the main place we go to on The Ultimate Korean BBQ Night Out.\\xa0Hongik Sutbul Galbi Sogeum Gwi 홍익숯불갈비소금구I don’t know how long this will hold out against the pressure of gentrification. It’s a packed, packed, packed place. They give your meat a pre-cook over strong fire before finishing it at your table.Chicken & Beer“Chimaek” (Chicken + Maekju |\\xa0beer) got its start in the early 1970s. It’s now such a great must-eat '), (AgentAction(tool='WebFetcher', tool_input='https://jw-webmagazine.com/best-korean-restaurants-in-seoul/', log='I have fetched the contents from two websites. Now, I should repeat the process for the remaining websites to gather more details on the best Korean restaurants in Seoul.\\nAction: WebFetcher\\nAction Input: https://jw-webmagazine.com/best-korean-restaurants-in-seoul/'), '\\n\\n\\n\\n\\n\\n\\n\\n\\n\\n\\n\\n\\n\\n\\n\\n\\n\\n\\n\\n\\n\\n\\n\\n\\n10 Best Korean Restaurants in Seoul - Japan Web Magazine\\n\\n\\n\\n\\n\\n\\n\\n\\n\\n\\n\\n\\n\\n\\n\\n\\n\\n\\n\\n\\n\\n\\n\\n\\n\\n\\n\\n\\n\\n\\n\\n\\n\\n\\n\\n\\n\\n\\n\\n\\n\\n\\n\\n\\n\\n\\n\\n\\n\\n\\n\\n\\n\\n\\n\\n\\n\\n\\n\\n\\n\\n\\n\\n\\n\\n \\n\\n\\nInbound Platform Corp.\\r\\n                    (TSE Code: 5587)\\n\\n\\n\\n\\n\\nToggle Dropdown\\n\\n\\n\\n\\n\\n\\n\\n\\nToggle Dropdown\\n\\nDestinations\\n\\xa0\\n\\nTokyo\\nOsaka\\nKyoto\\nMt.Fuji\\nHokkaido\\nOkinawa\\nHiroshima\\n\\xa0\\n\\nOthers\\n\\n\\n\\n\\nInterests\\n\\xa0\\n\\nThings to Do\\nFood\\nShopping\\nAccommodation\\n\\n\\nSeason\\n\\xa0\\n\\nSpring\\nSummer\\nAutumn\\nWinter\\n\\n\\nAnime\\nTravel Tips\\n\\xa0\\n\\nTravel Alerts\\nCultural Tips\\nItinerary\\nTransportation\\nJapanese\\nCurrency\\nInternet\\n\\n\\n広告について\\n\\n\\n\\n\\r\\n                                English                                \\n\\xa0\\n\\nEnglish\\n繁体字\\n\\n\\n\\n\\n\\n\\nSubmit\\n\\n\\n\\n \\n\\n\\n \\n\\n\\n\\n\\n\\n\\n\\n\\n\\n\\nHome\\n\\n\\n\\nInterests\\n\\n\\n\\nFood\\n\\n10 Best Korean Restaurants in Seoul Finding Authentic Korean Cuisine in Seoul\\n\\n\\n \\n\\n\\n\\n\\n\\n\\n\\n\\n\\n\\nHiro K..\\n\\n\\nUpdate: Apr 20, 2024\\n\\n\\n\\n\\n\\n\\n\\n\\n+1\\n1\\n\\n\\n\\n\\n\\n\\n\\n\\n\\n\\n\\n\\n\\n\\n\\n\\n\\n\\n\\n\\n\\n\\n\\n\\n\\n\\n\\n\\n\\n\\n\\n\\n\\n\\n\\n\\n\\n\\n\\n\\n\\n\\n\\n\\n\\n\\n\\n\\n\\n\\n\\n\\n\\n\\n\\n\\n\\n \\n\\nSeoul is a city renowned for its vibrant and diverse culture, and Korean cuisine is at the heart of it all. From traditional street food to innovative modern eateries, Seoul offers a great variety of dining options for visitors and locals alike.\\nIn this article, we’ve compiled a list of the 10 best Korean restaurants in Seoul, showcasing the very best of the city’s gastronomic offerings. From Michelin-starred fine dining to casual local joints, these restaurants are sure to delight your taste buds and give you a true taste of Korea.\\n1. Myeongdong Kyoja Main\\nWe start our list with a legendary restaurant in Myeongdong, renowned for its handmade kalguksu (knife-cut noodle soup) and mandu (dumplings).\\nMyeongdong Kyoja has been serving up these classic Korean dishes for over 50 years and has gained a loyal following of locals and visitors alike. The noodles and dumplings are made fresh daily, and the broth is simmered for hours to develop its rich and savory flavor.\\n\\nView InformationHide\\n\\nInformation\\n\\n\\n\\n\\n\\n\\n\\nAddress\\n29 Myeongdong 10-gil, Jung-gu, Seoul, South Korea\\n\\nBusiness Hours\\n10:30 – 21:30\\n\\nOfficial Website\\nhttp://www.mdkj.co.kr/en/\\n\\n\\n\\n\\n2. 853\\n853 is a trendy Korean restaurant that specializes in modern interpretations of traditional Korean cuisine. The restaurant’s sleek and minimalist decor sets the stage for a dining experience that is both stylish and sophisticated.\\nThe menu features a range of creative dishes made with high-quality ingredients and presented with artistic flair. Some of the standout dishes include the beef tteokgalbi and the sea urchin bibimbap. 853 is a must-visit destination for anyone looking to explore the innovative and exciting side of Korean gastronomy.\\n\\nView InformationHide\\n\\nInformation\\n\\n\\r\\n                        -\\n\\n\\n\\n\\nAddress\\n16 Insadong 12-gil, Jongno-gu, Seoul, South Korea\\n\\nBusiness Hours\\n11:30 – 22:00\\n\\n\\n\\n\\n3. Tosokchon Samgyetang\\nTosokchon Samgyetang is a famous Korean restaurant that is known for its signature dish, samgyetang, a traditional chicken soup made with ginseng and other medicinal herbs.\\nThe restaurant has been serving this no'), (AgentAction(tool='Summarizer', tool_input='Contents from all three websites', log='I have fetched the contents from all three websites. Now, I should use the Summarizer to condense the information into 1000 words.\\nAction: Summarizer\\nAction Input: Contents from all three websites'), 'The content from all three websites covers a variety of topics, including news, entertainment, lifestyle, and technology. Each website provides a unique perspective on current events and offers a mix of articles, videos, and interactive features to engage readers. The websites aim to inform, entertain, and inspire their audience with a diverse range of content.')]}\n"
     ]
    }
   ],
   "source": [
    "import requests\n",
    "from bs4 import BeautifulSoup\n",
    "from dotenv import load_dotenv\n",
    "from langchain.tools import Tool, DuckDuckGoSearchResults\n",
    "from langchain.prompts import PromptTemplate\n",
    "from langchain.chat_models import ChatOpenAI\n",
    "from langchain.chains import LLMChain\n",
    "from langchain.agents import AgentExecutor, create_react_agent\n",
    "from langchain.tools import BaseTool, StructuredTool, tool\n",
    "import os\n",
    "\n",
    "from langchain.chat_models import ChatOpenAI\n",
    "\n",
    "load_dotenv(override=True)\n",
    "\n",
    "model = ChatOpenAI(temperature=0.1) \n",
    "\n",
    "ddg_search = DuckDuckGoSearchResults()\n",
    "HEADERS = {\n",
    "    'User-Agent': 'Mozilla/5.0 (Macintosh; Intel Mac OS X 10.15; rv:90.0) Gecko/20100101 Firefox/90.0'\n",
    "}\n",
    "\n",
    "\n",
    "def parse_html(content) -> str:\n",
    "    soup = BeautifulSoup(content, 'html.parser')\n",
    "    text_content_with_links = soup.get_text()[:3000]\n",
    "    return text_content_with_links\n",
    "\n",
    "def fetch_web_page(url:str) -> str: \n",
    "    if isinstance(url,list):\n",
    "        url = url[0]\n",
    "    print(\"Fetch_web_page URL :\",url)\n",
    "    response = requests.get(url, headers=HEADERS)\n",
    "    return parse_html(response.content)\n",
    "\n",
    "web_fetch_tool = StructuredTool.from_function(\n",
    "    func=fetch_web_page,\n",
    "    name=\"WebFetcher\",\n",
    "    description=\"Useful to fetches the contents of a web page\"\n",
    ")\n",
    "\n",
    "summarization_chain = LLMChain(\n",
    "    llm=model,\n",
    "    prompt=PromptTemplate.from_template(\"Summarize the following content: {content}\")\n",
    ")\n",
    "\n",
    "summarize_tool = Tool.from_function(\n",
    "    func=summarization_chain.run,\n",
    "    name=\"Summarizer\",\n",
    "    description=\"Useful to summarizes a web page\"\n",
    ")\n",
    "\n",
    "tools = [ddg_search, web_fetch_tool, summarize_tool]\n",
    "\n",
    "template = '''Answer the following questions as best you can. You have access to the following tools:\n",
    "\n",
    "{tools}\n",
    "\n",
    "Use the following format:\n",
    "\n",
    "Question: the input question you must answer\n",
    "Thought: you should always think about what to do\n",
    "Action: the action to take, should be one of [{tool_names}]\n",
    "Action Input: the input to the action\n",
    "Observation: the result of the action\n",
    "... (this Thought/Action/Action Input/Observation can repeat N times)\n",
    "Thought: I now know the final answer\n",
    "Final Answer: the final answer to the original input question\n",
    "\n",
    "Begin!\n",
    "\n",
    "Question: {input}\n",
    "Thought:{agent_scratchpad}'''\n",
    "\n",
    "prompt = PromptTemplate.from_template(template)\n",
    "\n",
    "agent = create_react_agent(model,tools,prompt)\n",
    "\n",
    "agent_executor = AgentExecutor(\n",
    "    agent=agent,\n",
    "    tools=tools,\n",
    "    verbose=True,\n",
    "    return_intermediate_steps=True,\n",
    "    handle_parsing_errors=True,\n",
    ")\n",
    "\n",
    "question = \"Tell me about best Korean reastaurant in Seoul.\\\n",
    "Use search tool to find the information.\\\n",
    "To get the details, please fetch the contents from the web sites.\\\n",
    "Summarize the details in 1000 words.\"\n",
    "\n",
    "print(agent_executor.invoke({\"input\":question}))"
   ],
   "metadata": {
    "collapsed": false,
    "ExecuteTime": {
     "end_time": "2024-06-10T10:41:19.356383Z",
     "start_time": "2024-06-10T10:41:03.510996Z"
    }
   },
   "id": "9a17848c298a7f90"
  },
  {
   "cell_type": "code",
   "execution_count": 5,
   "outputs": [
    {
     "data": {
      "text/plain": "{'chat_history': [HumanMessage(content='Hello chatbot!'),\n  AIMessage(content='Hello. How can I help you?'),\n  HumanMessage(content='My name is Terry'),\n  AIMessage(content='Nice to meet you Terry'),\n  HumanMessage(content='Where is Seoul?'),\n  AIMessage(content='Seoul is in Korea')]}"
     },
     "execution_count": 5,
     "metadata": {},
     "output_type": "execute_result"
    }
   ],
   "source": [
    "from langchain.memory import ConversationBufferMemory\n",
    "\n",
    "memory = ConversationBufferMemory(memory_key='chat_history',return_messages=True)\n",
    "memory.clear()\n",
    "\n",
    "memory.save_context({\"input\":\"Hello chatbot!\"},{\"output\":\"Hello. How can I help you?\"})\n",
    "memory.save_context({\"input\":\"My name is Terry\"},{\"output\":\"Nice to meet you Terry\"})\n",
    "memory.save_context({\"input\":\"Where is Seoul?\"},{\"output\":\"Seoul is in Korea\"})\n",
    "\n",
    "memory.load_memory_variables({})"
   ],
   "metadata": {
    "collapsed": false,
    "ExecuteTime": {
     "end_time": "2024-06-10T10:48:00.818805Z",
     "start_time": "2024-06-10T10:48:00.809492Z"
    }
   },
   "id": "97fc481cc8f2eae1"
  },
  {
   "cell_type": "code",
   "execution_count": 9,
   "outputs": [
    {
     "name": "stdout",
     "output_type": "stream",
     "text": [
      "\n",
      "\n",
      "\u001B[1m> Entering new LLMChain chain...\u001B[0m\n",
      "Prompt after formatting:\n",
      "\u001B[32;1m\u001B[1;3mSystem: You are a chatbot having a conversation with a human.\n",
      "Human: hi my name is Terry\u001B[0m\n",
      "\n",
      "\u001B[1m> Finished chain.\u001B[0m\n",
      "\n",
      "\n",
      "\u001B[1m> Entering new LLMChain chain...\u001B[0m\n",
      "Prompt after formatting:\n",
      "\u001B[32;1m\u001B[1;3mSystem: You are a chatbot having a conversation with a human.\n",
      "Human: hi my name is Terry\n",
      "AI: Hello Terry! It's nice to meet you. How are you doing today?\n",
      "Human: Can you recommend fun activities for me?\u001B[0m\n",
      "\n",
      "\u001B[1m> Finished chain.\u001B[0m\n",
      "\n",
      "\n",
      "\u001B[1m> Entering new LLMChain chain...\u001B[0m\n",
      "Prompt after formatting:\n",
      "\u001B[32;1m\u001B[1;3mSystem: You are a chatbot having a conversation with a human.\n",
      "Human: hi my name is Terry\n",
      "AI: Hello Terry! It's nice to meet you. How are you doing today?\n",
      "Human: Can you recommend fun activities for me?\n",
      "AI: Of course, Terry! Here are some fun activities you can try:\n",
      "\n",
      "1. Go for a hike in a nearby park or nature reserve.\n",
      "2. Try a new workout or fitness class.\n",
      "3. Visit a museum or art gallery.\n",
      "4. Have a picnic in the park with friends or family.\n",
      "5. Take a cooking or baking class.\n",
      "6. Explore a new neighborhood in your city.\n",
      "7. Attend a live music or comedy show.\n",
      "8. Try a new hobby like painting, gardening, or photography.\n",
      "9. Have a movie marathon with your favorite films.\n",
      "10. Volunteer for a cause you care about.\n",
      "\n",
      "I hope you find these suggestions helpful! Let me know if you need more ideas.\n",
      "Human: What is my name?\u001B[0m\n",
      "\n",
      "\u001B[1m> Finished chain.\u001B[0m\n"
     ]
    },
    {
     "data": {
      "text/plain": "{'chat_history': [HumanMessage(content='hi my name is Terry'),\n  AIMessage(content=\"Hello Terry! It's nice to meet you. How are you doing today?\"),\n  HumanMessage(content='Can you recommend fun activities for me?'),\n  AIMessage(content='Of course, Terry! Here are some fun activities you can try:\\n\\n1. Go for a hike in a nearby park or nature reserve.\\n2. Try a new workout or fitness class.\\n3. Visit a museum or art gallery.\\n4. Have a picnic in the park with friends or family.\\n5. Take a cooking or baking class.\\n6. Explore a new neighborhood in your city.\\n7. Attend a live music or comedy show.\\n8. Try a new hobby like painting, gardening, or photography.\\n9. Have a movie marathon with your favorite films.\\n10. Volunteer for a cause you care about.\\n\\nI hope you find these suggestions helpful! Let me know if you need more ideas.'),\n  HumanMessage(content='What is my name?'),\n  AIMessage(content='Your name is Terry.')]}"
     },
     "execution_count": 9,
     "metadata": {},
     "output_type": "execute_result"
    }
   ],
   "source": [
    "from langchain.chat_models import ChatOpenAI\n",
    "from langchain.prompts import (\n",
    "    ChatPromptTemplate,\n",
    "    MessagesPlaceholder,\n",
    "    SystemMessagePromptTemplate,\n",
    "    HumanMessagePromptTemplate,\n",
    ")\n",
    "from langchain.chains import LLMChain\n",
    "from langchain.memory import ConversationBufferMemory\n",
    "import os\n",
    "\n",
    "llm = ChatOpenAI(temperature=0.1)\n",
    "\n",
    "prompt = ChatPromptTemplate(\n",
    "    messages=[\n",
    "        SystemMessagePromptTemplate.from_template(\n",
    "            \"You are a chatbot having a conversation with a human.\"\n",
    "        ),\n",
    "        MessagesPlaceholder(variable_name=\"chat_history\"),\n",
    "        HumanMessagePromptTemplate.from_template(\"{question}\")\n",
    "    ]\n",
    ")\n",
    "\n",
    "memory = ConversationBufferMemory(memory_key=\"chat_history\", return_messages=True)\n",
    "\n",
    "conversation = LLMChain(\n",
    "    llm=llm,\n",
    "    prompt=prompt,\n",
    "    verbose=True,\n",
    "    memory=memory\n",
    ")\n",
    "\n",
    "\n",
    "\n",
    "conversation.invoke({\"question\": \"hi my name is Terry\"})\n",
    "conversation.invoke({\"question\": \"Can you recommend fun activities for me?\"})\n",
    "conversation.invoke({\"question\": \"What is my name?\"})\n",
    "memory.load_memory_variables({})"
   ],
   "metadata": {
    "collapsed": false,
    "ExecuteTime": {
     "end_time": "2024-06-10T10:52:54.521597Z",
     "start_time": "2024-06-10T10:52:49.838040Z"
    }
   },
   "id": "33a85eb5264e7726"
  }
 ],
 "metadata": {
  "kernelspec": {
   "display_name": "Python 3",
   "language": "python",
   "name": "python3"
  },
  "language_info": {
   "codemirror_mode": {
    "name": "ipython",
    "version": 2
   },
   "file_extension": ".py",
   "mimetype": "text/x-python",
   "name": "python",
   "nbconvert_exporter": "python",
   "pygments_lexer": "ipython2",
   "version": "2.7.6"
  }
 },
 "nbformat": 4,
 "nbformat_minor": 5
}
